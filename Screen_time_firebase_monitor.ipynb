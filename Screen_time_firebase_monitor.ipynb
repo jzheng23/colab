{
  "nbformat": 4,
  "nbformat_minor": 0,
  "metadata": {
    "colab": {
      "provenance": [],
      "collapsed_sections": [
        "QKn_oSCKjNMT",
        "ZsDdZEV8bLr4",
        "aIimX4uCjq-m",
        "EQ-a_Ljo7Wm_",
        "BgIVGzJj7cqO",
        "2u0oTRRn5593",
        "9c66xeLT7nfI",
        "b6xFu8KGeiBr",
        "gPZfk9lA7e8f",
        "m4Meu_IQiuts",
        "2vwb_EftYtPp",
        "QxahhXwbU9Iq",
        "RFbAsYrQaxl7",
        "yo3YdmPp0ZCb",
        "dN45CgfZWGzC"
      ],
      "authorship_tag": "ABX9TyO1Xdx6UzZmP1OX9zQoyeDC",
      "include_colab_link": true
    },
    "kernelspec": {
      "name": "python3",
      "display_name": "Python 3"
    },
    "language_info": {
      "name": "python"
    }
  },
  "cells": [
    {
      "cell_type": "markdown",
      "metadata": {
        "id": "view-in-github",
        "colab_type": "text"
      },
      "source": [
        "<a href=\"https://colab.research.google.com/github/jzheng23/colab/blob/main/Screen_time_firebase_monitor.ipynb\" target=\"_parent\"><img src=\"https://colab.research.google.com/assets/colab-badge.svg\" alt=\"Open In Colab\"/></a>"
      ]
    },
    {
      "cell_type": "markdown",
      "source": [
        "This notebook provides the codes to check the progress of each participant, including two main functions:\n",
        "1. Check the last update of screen events from each participant\n",
        "2. Generate a list of emails (to be copied), to whom we should send a reminder email"
      ],
      "metadata": {
        "id": "UN2spQWn-0hl"
      }
    },
    {
      "cell_type": "markdown",
      "source": [
        "# Preparation"
      ],
      "metadata": {
        "id": "FxrxgTCQjNMS"
      }
    },
    {
      "cell_type": "markdown",
      "source": [
        "## Mount Google Drive and set up file path"
      ],
      "metadata": {
        "id": "QKn_oSCKjNMT"
      }
    },
    {
      "cell_type": "code",
      "source": [
        "from google.colab import drive\n",
        "drive.mount('/content/drive')"
      ],
      "metadata": {
        "colab": {
          "base_uri": "https://localhost:8080/"
        },
        "outputId": "211896e5-7483-46f2-dd40-ca46d3929cf9",
        "id": "oqZx3uxIjNMU"
      },
      "execution_count": 1,
      "outputs": [
        {
          "output_type": "stream",
          "name": "stdout",
          "text": [
            "Mounted at /content/drive\n"
          ]
        }
      ]
    },
    {
      "cell_type": "markdown",
      "source": [
        "Load the Google Drive path, depending who is running the notebook"
      ],
      "metadata": {
        "id": "gju8PTwCjNMU"
      }
    },
    {
      "cell_type": "code",
      "source": [
        "#Jian\n",
        "google_drive_data_path = '/content/drive/MyDrive/Problematic smartphone usage/Ambient display/Data'\n",
        "google_drive_key_path = '/content/drive/MyDrive/Problematic smartphone usage/Ambient display/Key'"
      ],
      "metadata": {
        "id": "mlDqMP9njNMU"
      },
      "execution_count": 2,
      "outputs": []
    },
    {
      "cell_type": "code",
      "source": [
        "#Subin\n",
        "# google_drive_data_path = '/content/drive/MyDrive/UMD_research/Problematic_Smartphone_Usage'\n",
        "# google_drive_key_path = '/content/drive/MyDrive/UMD_research/Problematic_Smartphone_Usage'"
      ],
      "metadata": {
        "id": "0Gv7pCnfjNMV"
      },
      "execution_count": 3,
      "outputs": []
    },
    {
      "cell_type": "code",
      "source": [
        "import pandas as pd\n",
        "import numpy as np\n",
        "import datetime\n",
        "#Convert Unix timestamp to date/datetime in specified timezone\n",
        "def convert_unix_to_date(unix_timestamp, timezone='America/New_York', return_date=True):\n",
        "   \"\"\"\n",
        "\n",
        "   Parameters:\n",
        "       unix_timestamp: Unix timestamp in milliseconds\n",
        "       timezone: String of timezone (default 'America/New_York')\n",
        "       return_date: If True returns date only, if False returns datetime\n",
        "   \"\"\"\n",
        "   dt = pd.to_datetime(unix_timestamp, unit='ms', utc=True).tz_convert(timezone)\n",
        "   return dt.date() if return_date else dt"
      ],
      "metadata": {
        "id": "sFP3YyHUJR1h"
      },
      "execution_count": 4,
      "outputs": []
    },
    {
      "cell_type": "markdown",
      "source": [
        "## Google sheet module"
      ],
      "metadata": {
        "id": "ZsDdZEV8bLr4"
      }
    },
    {
      "cell_type": "code",
      "execution_count": 5,
      "metadata": {
        "id": "HJfOwxsPtvL2"
      },
      "outputs": [],
      "source": [
        "from google.colab import auth\n",
        "from google.auth import default\n",
        "import gspread\n",
        "\n",
        "# Authenticate\n",
        "auth.authenticate_user()\n",
        "creds, _ = default()\n",
        "gc = gspread.authorize(creds)"
      ]
    },
    {
      "cell_type": "code",
      "source": [
        "import pandas as pd\n",
        "\n",
        "def get_sheet_as_df(spreadsheet_id):\n",
        "    \"\"\"\n",
        "    Read Google Sheet and return as pandas DataFrame\n",
        "\n",
        "    Args:\n",
        "        spreadsheet_id (str): The ID from the Google Sheet URL\n",
        "\n",
        "    Returns:\n",
        "        pandas.DataFrame: Data from the sheet\n",
        "    \"\"\"\n",
        "    try:\n",
        "        # Open the spreadsheet\n",
        "        spreadsheet = gc.open_by_key(spreadsheet_id)\n",
        "\n",
        "        # Get first worksheet\n",
        "        worksheet = spreadsheet.sheet1\n",
        "\n",
        "        # Get all values including headers\n",
        "        all_values = worksheet.get_all_values()\n",
        "\n",
        "        # Convert to DataFrame\n",
        "        df = pd.DataFrame(all_values[1:], columns=all_values[0])\n",
        "\n",
        "        return df\n",
        "\n",
        "    except Exception as e:\n",
        "        print(f\"Error accessing spreadsheet: {e}\")\n",
        "        return None\n",
        "\n"
      ],
      "metadata": {
        "id": "FUIm4VIMaEaR"
      },
      "execution_count": 6,
      "outputs": []
    },
    {
      "cell_type": "code",
      "source": [
        "def write_df_to_sheet(df, spreadsheet_id):\n",
        "   try:\n",
        "       df_clean = df.copy()\n",
        "\n",
        "       # Convert datetime columns\n",
        "       date_cols = df_clean.select_dtypes(['datetime64']).columns\n",
        "       for col in date_cols:\n",
        "           df_clean[col] = pd.to_datetime(df_clean[col]).dt.strftime('%Y-%m-%d')\n",
        "\n",
        "       # Convert all remaining objects to strings\n",
        "       for col in df_clean.select_dtypes(['object']):\n",
        "           df_clean[col] = df_clean[col].astype(str)\n",
        "\n",
        "       df_clean = df_clean.replace([np.inf, -np.inf], 'Infinity')\n",
        "       df_clean = df_clean.fillna('')\n",
        "\n",
        "       spreadsheet = gc.open_by_key(spreadsheet_id)\n",
        "       worksheet = spreadsheet.sheet1\n",
        "\n",
        "       values = [df_clean.columns.values.tolist()] + df_clean.values.tolist()\n",
        "       worksheet.clear()\n",
        "       worksheet.update(values=values, range_name='A1')\n",
        "\n",
        "       return True\n",
        "\n",
        "   except Exception as e:\n",
        "       print(f\"Error writing to spreadsheet: {e}\")\n",
        "       return False"
      ],
      "metadata": {
        "id": "eA8hE60ZaH71"
      },
      "execution_count": 7,
      "outputs": []
    },
    {
      "cell_type": "markdown",
      "source": [
        "# Firebase database"
      ],
      "metadata": {
        "id": "Z-x7WGXf-Uuf"
      }
    },
    {
      "cell_type": "markdown",
      "source": [
        "## Set up link"
      ],
      "metadata": {
        "id": "aIimX4uCjq-m"
      }
    },
    {
      "cell_type": "code",
      "source": [
        "import firebase_admin\n",
        "from firebase_admin import credentials, db\n",
        "import csv\n",
        "import pandas as pd"
      ],
      "metadata": {
        "id": "zy1HrBmDnOJx"
      },
      "execution_count": 8,
      "outputs": []
    },
    {
      "cell_type": "code",
      "source": [
        "# Don't re-run this cell unless the kernel has been restarted\n",
        "cred = credentials.Certificate(google_drive_key_path+'/timer-42ad2-firebase-adminsdk-4r7oj-2c373565f2.json')\n",
        "firebase_admin.initialize_app(cred, {\n",
        "    'databaseURL': 'https://timer-42ad2-default-rtdb.firebaseio.com'\n",
        "})"
      ],
      "metadata": {
        "id": "gFVB47CUKTsr",
        "colab": {
          "base_uri": "https://localhost:8080/"
        },
        "outputId": "32eb12bb-5d3a-420e-f4d5-61b99e5e0007"
      },
      "execution_count": 9,
      "outputs": [
        {
          "output_type": "execute_result",
          "data": {
            "text/plain": [
              "<firebase_admin.App at 0x7abc96246440>"
            ]
          },
          "metadata": {},
          "execution_count": 9
        }
      ]
    },
    {
      "cell_type": "code",
      "source": [
        "#Convert Unix timestamp to date/datetime in specified timezone\n",
        "def convert_unix_to_date(unix_timestamp, timezone='America/New_York', return_date=True):\n",
        "   \"\"\"\n",
        "\n",
        "   Parameters:\n",
        "       unix_timestamp: Unix timestamp in milliseconds\n",
        "       timezone: String of timezone (default 'America/New_York')\n",
        "       return_date: If True returns date only, if False returns datetime\n",
        "   \"\"\"\n",
        "   dt = pd.to_datetime(unix_timestamp, unit='ms', utc=True).tz_convert(timezone)\n",
        "   return dt.date() if return_date else dt"
      ],
      "metadata": {
        "id": "QQdQsFQSslsy"
      },
      "execution_count": 10,
      "outputs": []
    },
    {
      "cell_type": "markdown",
      "source": [
        "## Response data"
      ],
      "metadata": {
        "id": "EQ-a_Ljo7Wm_"
      }
    },
    {
      "cell_type": "code",
      "source": [
        "def process_responses(responses, pid, host, survey_id):\n",
        "    responses_data = []\n",
        "    response_dict = {\n",
        "        'pid': pid,\n",
        "        'host': host,\n",
        "        'surveyID': survey_id\n",
        "    }\n",
        "\n",
        "    if isinstance(responses, dict):\n",
        "        for question_id, answer in responses.items():\n",
        "            response_dict[f'q_{question_id}'] = answer\n",
        "    elif isinstance(responses, list):\n",
        "        for question_id, answer in enumerate(responses):\n",
        "            if answer is not None:\n",
        "                response_dict[f'q_{question_id}'] = answer\n",
        "\n",
        "    responses_data.append(response_dict)\n",
        "    return responses_data\n",
        "\n",
        "def get_timestamp(data):\n",
        "    if isinstance(data, dict):\n",
        "        return data.get('a') or data.get('timestamp')\n",
        "    return None\n",
        "\n",
        "def get_responses(data):\n",
        "    if isinstance(data, dict):\n",
        "        return data.get('b') or data.get('responses')\n",
        "    elif isinstance(data, list):\n",
        "        return data\n",
        "    return None\n",
        "\n",
        "def firebase_to_csv_log_Screen(ref_path, output_file):\n",
        "    ref = db.reference(ref_path)\n",
        "    data = ref.get()\n",
        "    transformed_data = []\n",
        "\n",
        "    for pid, pid_data in data.items():\n",
        "        pid = pid.lower()\n",
        "\n",
        "        # Process each host under the pid\n",
        "        for host, events in pid_data.items():\n",
        "            if isinstance(events, list):\n",
        "                for index, event in enumerate(events):\n",
        "                    if event is not None and isinstance(event, dict):\n",
        "                        row = {\n",
        "                            'pid': pid,\n",
        "                            'host': host,\n",
        "                            'eventLabel': index,\n",
        "                            'startTime': event.get('startTime'),\n",
        "                            'endTime': event.get('endTime')\n",
        "                        }\n",
        "                        transformed_data.append(row)\n",
        "\n",
        "    df = pd.DataFrame(transformed_data)\n",
        "    if len(transformed_data) > 0:\n",
        "        df = df[['pid', 'host', 'eventLabel', 'startTime', 'endTime']]\n",
        "    df.to_csv(output_file, index=False)\n",
        "\n",
        "def responses_to_csvs(meta_file, responses_file):\n",
        "    ref = db.reference('/responses')\n",
        "    data = ref.get()\n",
        "\n",
        "    meta_data = []\n",
        "    responses_data = []\n",
        "\n",
        "    for pid, pid_data in data.items():\n",
        "        pid = pid.lower()\n",
        "\n",
        "        # Process each host under pid\n",
        "        for host, host_data in pid_data.items():\n",
        "            # If host_data is a list, enumerate through it\n",
        "            if isinstance(host_data, list):\n",
        "                for survey_id, survey_data in enumerate(host_data):\n",
        "                    if survey_data is not None:\n",
        "                        timestamp = get_timestamp(survey_data)\n",
        "                        if timestamp:\n",
        "                            meta_data.append({\n",
        "                                'pid': pid,\n",
        "                                'host': host,\n",
        "                                'surveyID': str(survey_id),\n",
        "                                'timestamp': timestamp\n",
        "                            })\n",
        "\n",
        "                            responses = get_responses(survey_data)\n",
        "                            if responses:\n",
        "                                responses_data.extend(process_responses(responses, pid, host, str(survey_id)))\n",
        "\n",
        "    # Create and save metadata DataFrame\n",
        "    meta_df = pd.DataFrame(meta_data)\n",
        "    if len(meta_data) > 0:\n",
        "        meta_df = meta_df[['pid', 'host', 'surveyID', 'timestamp']]\n",
        "    meta_df.to_csv(meta_file, index=False)\n",
        "\n",
        "    # Create responses DataFrame in wide format\n",
        "    responses_df = pd.DataFrame(responses_data)\n",
        "\n",
        "    if len(responses_data) > 0:\n",
        "        first_cols = ['pid', 'host', 'surveyID']\n",
        "        q_cols = [col for col in responses_df.columns if col.startswith('q_')]\n",
        "        q_cols.sort(key=lambda x: int(x.split('_')[1]))\n",
        "        responses_df = responses_df[first_cols + q_cols]\n",
        "\n",
        "    responses_df.to_csv(responses_file, index=False)"
      ],
      "metadata": {
        "id": "Q4q0ytetcZIu"
      },
      "execution_count": 11,
      "outputs": []
    },
    {
      "cell_type": "code",
      "source": [
        "responses_to_csvs('survey_meta.csv', 'survey_responses.csv')\n",
        "survey_meta_data = pd.read_csv('/content/survey_meta.csv')\n",
        "print(\"The shape of the survey_meta_data is \" + str(survey_meta_data.shape))\n",
        "survey_meta_data.to_csv(google_drive_data_path + '/survey_meta.csv', index=False)\n",
        "survey_responses_data = pd.read_csv('/content/survey_responses.csv')\n",
        "print(\"The shape of the survey_responses_data is \" + str(survey_responses_data.shape))\n",
        "survey_responses_data.to_csv(google_drive_data_path + '/survey_responses.csv', index=False)"
      ],
      "metadata": {
        "id": "yTWJeIa2Bdoi",
        "colab": {
          "base_uri": "https://localhost:8080/"
        },
        "outputId": "2bd3b14a-c9e9-4fbb-c855-c9cdc2841808"
      },
      "execution_count": 12,
      "outputs": [
        {
          "output_type": "stream",
          "name": "stdout",
          "text": [
            "The shape of the survey_meta_data is (39, 4)\n",
            "The shape of the survey_responses_data is (39, 26)\n"
          ]
        }
      ]
    },
    {
      "cell_type": "markdown",
      "source": [
        "## Screen events"
      ],
      "metadata": {
        "id": "BgIVGzJj7cqO"
      }
    },
    {
      "cell_type": "code",
      "source": [
        "def firebase_to_csv_log_Screen(ref_path, output_file):\n",
        "    ref = db.reference(ref_path)\n",
        "    data = ref.get()\n",
        "    transformed_data = []\n",
        "\n",
        "    for pid, pid_data in data.items():\n",
        "        pid = pid.lower()\n",
        "\n",
        "        if not isinstance(pid_data, dict):\n",
        "            continue\n",
        "\n",
        "        for host, events in pid_data.items():\n",
        "            if isinstance(events, list):\n",
        "                # Handle list structure\n",
        "                for index, event in enumerate(events):\n",
        "                    if event is None:\n",
        "                        continue\n",
        "                    if isinstance(event, dict):\n",
        "                        row = {\n",
        "                            'pid': pid,\n",
        "                            'host': host,\n",
        "                            'eventLabel': index,\n",
        "                            'startTime': event.get('startTime'),\n",
        "                            'endTime': event.get('endTime')\n",
        "                        }\n",
        "                        transformed_data.append(row)\n",
        "            elif isinstance(events, dict):\n",
        "                # Handle dictionary structure\n",
        "                for event_label, event_data in events.items():\n",
        "                    if isinstance(event_data, dict):\n",
        "                        row = {\n",
        "                            'pid': pid,\n",
        "                            'host': host,\n",
        "                            'eventLabel': event_label,\n",
        "                            'startTime': event_data.get('startTime'),\n",
        "                            'endTime': event_data.get('endTime')\n",
        "                        }\n",
        "                        transformed_data.append(row)\n",
        "\n",
        "    df = pd.DataFrame(transformed_data)\n",
        "    if len(transformed_data) > 0:\n",
        "        df = df[['pid', 'host', 'eventLabel', 'startTime', 'endTime']]\n",
        "    df.to_csv(output_file, index=False)"
      ],
      "metadata": {
        "id": "_j9kjFxsa6PV"
      },
      "execution_count": 13,
      "outputs": []
    },
    {
      "cell_type": "code",
      "source": [
        "firebase_to_csv_log_Screen('/screen_events','screen_events.csv')\n",
        "screen_events_data = pd.read_csv('/content/screen_events.csv')\n",
        "print(\"The shape of the screen_events_data is \" + str(screen_events_data.shape))\n",
        "screen_events_data.to_csv(google_drive_data_path + '/screen_events.csv', index=False)"
      ],
      "metadata": {
        "id": "CLCIRK2H7qgu",
        "colab": {
          "base_uri": "https://localhost:8080/"
        },
        "outputId": "bd26c427-bbde-4661-98be-d41df7e0bebb"
      },
      "execution_count": 14,
      "outputs": [
        {
          "output_type": "stream",
          "name": "stdout",
          "text": [
            "The shape of the screen_events_data is (8259, 5)\n"
          ]
        }
      ]
    },
    {
      "cell_type": "code",
      "source": [
        "# prompt: count how many row under each unique pid in the screen_events_data\n",
        "\n",
        "# row_counts = screen_events_data.groupby('pid').size().reset_index(name='row_count')\n",
        "# row_counts"
      ],
      "metadata": {
        "id": "Dy9bo2w-MRWX"
      },
      "execution_count": 15,
      "outputs": []
    },
    {
      "cell_type": "markdown",
      "source": [
        "## Device info"
      ],
      "metadata": {
        "id": "2u0oTRRn5593"
      }
    },
    {
      "cell_type": "code",
      "source": [
        "# this function works for device and timezone infor\n",
        "def firebase_to_csv(ref_path, output_file):\n",
        "    # Get reference to device_info\n",
        "    ref = db.reference(ref_path)\n",
        "    data = ref.get()\n",
        "\n",
        "    transformed_data = []\n",
        "\n",
        "    # Transform the nested structure\n",
        "    for pid, pid_data in data.items():\n",
        "        pid = pid.lower()\n",
        "\n",
        "        if isinstance(pid_data, str):\n",
        "            # Case where timezone is directly under pid\n",
        "            row = {\n",
        "                'pid': pid,\n",
        "                'host': pd.NA,  # or None\n",
        "                'timezone': pid_data\n",
        "            }\n",
        "            transformed_data.append(row)\n",
        "        else:\n",
        "            # Case where pid has host-timezone pairs\n",
        "            for host, timezone in pid_data.items():\n",
        "                row = {\n",
        "                    'pid': pid,\n",
        "                    'host': host,\n",
        "                    'timezone': timezone\n",
        "                }\n",
        "                transformed_data.append(row)\n",
        "\n",
        "    # Convert to DataFrame\n",
        "    df = pd.DataFrame(transformed_data)\n",
        "\n",
        "    # Ensure pid and host are the first columns\n",
        "    cols = ['pid', 'host'] + [col for col in df.columns if col not in ['pid', 'host']]\n",
        "    df = df[cols]\n",
        "\n",
        "    # Save to CSV\n",
        "    df.to_csv(output_file, index=False)"
      ],
      "metadata": {
        "id": "TAhF2VZv5Zr1"
      },
      "execution_count": 16,
      "outputs": []
    },
    {
      "cell_type": "code",
      "source": [
        "firebase_to_csv('/device_info','device_info.csv')\n",
        "device_data = pd.read_csv('/content/device_info.csv')\n",
        "\n",
        "# First let's convert the string representation of dictionary to actual dictionary\n",
        "device_data0 = device_data.copy()\n",
        "device_data0['timezone'] = device_data0['timezone'].apply(eval)\n",
        "\n",
        "# Now extract each field into its own column\n",
        "device_data0['Base'] = device_data0['timezone'].apply(lambda x: x.get('Base'))\n",
        "device_data0['Brand'] = device_data0['timezone'].apply(lambda x: x.get('Brand'))\n",
        "device_data0['Model'] = device_data0['timezone'].apply(lambda x: x.get('Model'))\n",
        "\n",
        "# If you want to drop the original timezone column, you can use:\n",
        "device_data = device_data0.drop('timezone', axis=1)\n",
        "\n",
        "print(\"The shape of the device_data is \" + str(device_data.shape))\n",
        "device_data.to_csv(google_drive_data_path + '/device_info.csv', index=False)"
      ],
      "metadata": {
        "colab": {
          "base_uri": "https://localhost:8080/"
        },
        "id": "ftq95Onxf92a",
        "outputId": "4c41c17c-63cc-470e-a52a-3736e48ba44e"
      },
      "execution_count": 17,
      "outputs": [
        {
          "output_type": "stream",
          "name": "stdout",
          "text": [
            "The shape of the device_data is (37, 5)\n"
          ]
        }
      ]
    },
    {
      "cell_type": "markdown",
      "source": [
        "## Timezone info"
      ],
      "metadata": {
        "id": "9c66xeLT7nfI"
      }
    },
    {
      "cell_type": "code",
      "source": [
        "firebase_to_csv('/timezones','timezones.csv')\n",
        "timezones_data = pd.read_csv('/content/timezones.csv')\n",
        "print(\"The shape of the timezones_data is \" + str(timezones_data.shape))\n",
        "timezones_data.to_csv(google_drive_data_path + '/timezones.csv', index=False)"
      ],
      "metadata": {
        "id": "do7aFA789Lzw",
        "colab": {
          "base_uri": "https://localhost:8080/"
        },
        "outputId": "be404edb-aabd-497d-fd34-2877b4cb4997"
      },
      "execution_count": 18,
      "outputs": [
        {
          "output_type": "stream",
          "name": "stdout",
          "text": [
            "The shape of the timezones_data is (38, 3)\n"
          ]
        }
      ]
    },
    {
      "cell_type": "markdown",
      "source": [
        "## User states"
      ],
      "metadata": {
        "id": "b6xFu8KGeiBr"
      }
    },
    {
      "cell_type": "markdown",
      "source": [
        "This data was introduced in an update of the app, so it only exist in some of the participants' data."
      ],
      "metadata": {
        "id": "vKtFpijBem5K"
      }
    },
    {
      "cell_type": "code",
      "source": [
        "firebase_to_csv('/user_states','user_states.csv')\n",
        "user_states = pd.read_csv('/content/user_states.csv')"
      ],
      "metadata": {
        "id": "RCUS3KHpehUq"
      },
      "execution_count": 19,
      "outputs": []
    },
    {
      "cell_type": "code",
      "source": [
        "# First convert the string representation of dictionary to actual dictionary\n",
        "user_states['timezone'] = user_states['timezone'].apply(eval)\n",
        "\n",
        "# Extract each field into its own column\n",
        "user_states['day_count'] = user_states['timezone'].apply(lambda x: x.get('day_count'))\n",
        "user_states['survey1_completed'] = user_states['timezone'].apply(lambda x: x.get('survey1_completed'))\n",
        "user_states['survey2_completed'] = user_states['timezone'].apply(lambda x: x.get('survey2_completed'))\n",
        "user_states['survey3_completed'] = user_states['timezone'].apply(lambda x: x.get('survey3_completed'))\n",
        "user_states['survey4_completed'] = user_states['timezone'].apply(lambda x: x.get('survey4_completed'))\n",
        "user_states['tutorial_completed'] = user_states['timezone'].apply(lambda x: x.get('tutorial_completed'))\n",
        "\n",
        "# Drop the original timezone column\n",
        "user_states = user_states.drop('timezone', axis=1)\n",
        "\n",
        "# Display the result\n",
        "print(\"The shape of the user_states is \" + str(user_states.shape))\n",
        "user_states.to_csv(google_drive_data_path + '/user_states.csv', index=False)\n"
      ],
      "metadata": {
        "id": "wdOXILAAhPpZ",
        "colab": {
          "base_uri": "https://localhost:8080/"
        },
        "outputId": "3b1b5545-d94d-4b9c-d777-8cba3c2239f7"
      },
      "execution_count": 20,
      "outputs": [
        {
          "output_type": "stream",
          "name": "stdout",
          "text": [
            "The shape of the user_states is (36, 8)\n"
          ]
        }
      ]
    },
    {
      "cell_type": "markdown",
      "source": [
        "## Setting changes"
      ],
      "metadata": {
        "id": "gPZfk9lA7e8f"
      }
    },
    {
      "cell_type": "markdown",
      "source": [
        "Data of setting changes will come in the third week. Don't run this chuck of code early than that, it will return just error.\n",
        "\n"
      ],
      "metadata": {
        "id": "DX9eu2pneHqD"
      }
    },
    {
      "cell_type": "code",
      "source": [
        "def firebase_to_csv_log_setting (ref_path, output_file):\n",
        "    ref = db.reference(ref_path)\n",
        "    data = ref.get()\n",
        "    transformed_data = []\n",
        "\n",
        "    # dictionary structure\n",
        "    for pid, changes in data.items():  # 'pid' = key\n",
        "        if isinstance(changes, list):\n",
        "            for index, change in enumerate(changes, start=0):  #event_label_start:1\n",
        "                if change is None:\n",
        "                    continue\n",
        "                if isinstance(change, dict):\n",
        "                    row = {'pid': pid,\n",
        "                        'eventLabel': index,\n",
        "                        'newValue' : change.get('newValue'),\n",
        "                        'setting': change.get('setting'),\n",
        "                        'timestamp': change.get('timestamp')}\n",
        "                    transformed_data.append(row)\n",
        "\n",
        "    df = pd.DataFrame(transformed_data)\n",
        "    df = df[['pid', 'newValue', 'setting', 'timestamp']]\n",
        "    df.to_csv(output_file, index=False)"
      ],
      "metadata": {
        "id": "7wKmjI3kdlhZ"
      },
      "execution_count": null,
      "outputs": []
    },
    {
      "cell_type": "code",
      "source": [
        "firebase_to_csv_log_setting('/settings_change_logs','settings_change_logs.csv')\n",
        "settings_change_logs_data = pd.read_csv('/content/settings_change_logs.csv')\n",
        "print(\"The shape of the settings_change_logs_data is \" + str(settings_change_logs_data.shape))\n",
        "settings_change_logs_data.to_csv(google_drive_data_path + '/settings_change_logs.csv', index=False)"
      ],
      "metadata": {
        "colab": {
          "base_uri": "https://localhost:8080/",
          "height": 315
        },
        "id": "z4BKVzrla3cL",
        "outputId": "6ded6a2c-85d3-42ea-e4d0-06b4c52c246e"
      },
      "execution_count": null,
      "outputs": [
        {
          "output_type": "error",
          "ename": "AttributeError",
          "evalue": "'NoneType' object has no attribute 'items'",
          "traceback": [
            "\u001b[0;31m---------------------------------------------------------------------------\u001b[0m",
            "\u001b[0;31mAttributeError\u001b[0m                            Traceback (most recent call last)",
            "\u001b[0;32m<ipython-input-19-1f008957595b>\u001b[0m in \u001b[0;36m<cell line: 1>\u001b[0;34m()\u001b[0m\n\u001b[0;32m----> 1\u001b[0;31m \u001b[0mfirebase_to_csv_log_setting\u001b[0m\u001b[0;34m(\u001b[0m\u001b[0;34m'/settings_change_logs'\u001b[0m\u001b[0;34m,\u001b[0m\u001b[0;34m'settings_change_logs.csv'\u001b[0m\u001b[0;34m)\u001b[0m\u001b[0;34m\u001b[0m\u001b[0;34m\u001b[0m\u001b[0m\n\u001b[0m\u001b[1;32m      2\u001b[0m \u001b[0msettings_change_logs_data\u001b[0m \u001b[0;34m=\u001b[0m \u001b[0mpd\u001b[0m\u001b[0;34m.\u001b[0m\u001b[0mread_csv\u001b[0m\u001b[0;34m(\u001b[0m\u001b[0;34m'/content/settings_change_logs.csv'\u001b[0m\u001b[0;34m)\u001b[0m\u001b[0;34m\u001b[0m\u001b[0;34m\u001b[0m\u001b[0m\n\u001b[1;32m      3\u001b[0m \u001b[0mprint\u001b[0m\u001b[0;34m(\u001b[0m\u001b[0;34m\"The shape of the settings_change_logs_data is \"\u001b[0m \u001b[0;34m+\u001b[0m \u001b[0mstr\u001b[0m\u001b[0;34m(\u001b[0m\u001b[0msettings_change_logs_data\u001b[0m\u001b[0;34m.\u001b[0m\u001b[0mshape\u001b[0m\u001b[0;34m)\u001b[0m\u001b[0;34m)\u001b[0m\u001b[0;34m\u001b[0m\u001b[0;34m\u001b[0m\u001b[0m\n\u001b[1;32m      4\u001b[0m \u001b[0msettings_change_logs_data\u001b[0m\u001b[0;34m.\u001b[0m\u001b[0mto_csv\u001b[0m\u001b[0;34m(\u001b[0m\u001b[0mgoogle_drive_data_path\u001b[0m \u001b[0;34m+\u001b[0m \u001b[0;34m'/settings_change_logs.csv'\u001b[0m\u001b[0;34m,\u001b[0m \u001b[0mindex\u001b[0m\u001b[0;34m=\u001b[0m\u001b[0;32mFalse\u001b[0m\u001b[0;34m)\u001b[0m\u001b[0;34m\u001b[0m\u001b[0;34m\u001b[0m\u001b[0m\n",
            "\u001b[0;32m<ipython-input-18-2ccbaf59e9ea>\u001b[0m in \u001b[0;36mfirebase_to_csv_log_setting\u001b[0;34m(ref_path, output_file)\u001b[0m\n\u001b[1;32m      5\u001b[0m \u001b[0;34m\u001b[0m\u001b[0m\n\u001b[1;32m      6\u001b[0m     \u001b[0;31m# dictionary structure\u001b[0m\u001b[0;34m\u001b[0m\u001b[0;34m\u001b[0m\u001b[0m\n\u001b[0;32m----> 7\u001b[0;31m     \u001b[0;32mfor\u001b[0m \u001b[0mpid\u001b[0m\u001b[0;34m,\u001b[0m \u001b[0mchanges\u001b[0m \u001b[0;32min\u001b[0m \u001b[0mdata\u001b[0m\u001b[0;34m.\u001b[0m\u001b[0mitems\u001b[0m\u001b[0;34m(\u001b[0m\u001b[0;34m)\u001b[0m\u001b[0;34m:\u001b[0m  \u001b[0;31m# 'pid' = key\u001b[0m\u001b[0;34m\u001b[0m\u001b[0;34m\u001b[0m\u001b[0m\n\u001b[0m\u001b[1;32m      8\u001b[0m         \u001b[0;32mif\u001b[0m \u001b[0misinstance\u001b[0m\u001b[0;34m(\u001b[0m\u001b[0mchanges\u001b[0m\u001b[0;34m,\u001b[0m \u001b[0mlist\u001b[0m\u001b[0;34m)\u001b[0m\u001b[0;34m:\u001b[0m\u001b[0;34m\u001b[0m\u001b[0;34m\u001b[0m\u001b[0m\n\u001b[1;32m      9\u001b[0m             \u001b[0;32mfor\u001b[0m \u001b[0mindex\u001b[0m\u001b[0;34m,\u001b[0m \u001b[0mchange\u001b[0m \u001b[0;32min\u001b[0m \u001b[0menumerate\u001b[0m\u001b[0;34m(\u001b[0m\u001b[0mchanges\u001b[0m\u001b[0;34m,\u001b[0m \u001b[0mstart\u001b[0m\u001b[0;34m=\u001b[0m\u001b[0;36m0\u001b[0m\u001b[0;34m)\u001b[0m\u001b[0;34m:\u001b[0m  \u001b[0;31m#event_label_start:1\u001b[0m\u001b[0;34m\u001b[0m\u001b[0;34m\u001b[0m\u001b[0m\n",
            "\u001b[0;31mAttributeError\u001b[0m: 'NoneType' object has no attribute 'items'"
          ]
        }
      ]
    },
    {
      "cell_type": "markdown",
      "source": [
        "## Ringer"
      ],
      "metadata": {
        "id": "m4Meu_IQiuts"
      }
    },
    {
      "cell_type": "markdown",
      "source": [
        "Data of ringer changes will come in the third week. Don't run this chuck of code early than that, it will return just error."
      ],
      "metadata": {
        "id": "h3syiJYaeZ-t"
      }
    },
    {
      "cell_type": "code",
      "source": [
        "def firebase_to_csv_log_mode(ref_path, output_file):\n",
        "    ref = db.reference(ref_path)\n",
        "    data = ref.get()\n",
        "    transformed_data = []\n",
        "\n",
        "    for pid, middle_levels in data.items():\n",
        "        pid = pid.lower()\n",
        "        for middle_key, sub_changes in middle_levels.items():\n",
        "            for index, event in enumerate(sub_changes):\n",
        "                if isinstance(event, dict):\n",
        "                    row = {'pid': pid,'host':middle_key,'label': str(index),\n",
        "                        'mode': event.get('mode'),\n",
        "                        'timestamp': event.get('timestamp')}\n",
        "                    transformed_data.append(row)\n",
        "\n",
        "    df = pd.DataFrame(transformed_data)\n",
        "    df = df[['pid', 'host', 'label', 'mode', 'timestamp']]\n",
        "    df.to_csv(output_file, index=False)"
      ],
      "metadata": {
        "id": "NkA5rfhwv1Ga"
      },
      "execution_count": null,
      "outputs": []
    },
    {
      "cell_type": "code",
      "source": [
        "firebase_to_csv_log_mode('/ringer_mode_events','ringer_mode_events.csv')\n",
        "ringer_mode_events_data = pd.read_csv('/content/ringer_mode_events.csv')\n",
        "print(\"The shape of the ringer_mode_events_data is \" + str(ringer_mode_events_data.shape))\n",
        "ringer_mode_events_data.to_csv(google_drive_data_path + '/ringer_mode_events.csv', index=False)"
      ],
      "metadata": {
        "collapsed": true,
        "id": "KbCPCVA6iud8"
      },
      "execution_count": null,
      "outputs": []
    },
    {
      "cell_type": "markdown",
      "source": [
        "## Counters"
      ],
      "metadata": {
        "id": "2vwb_EftYtPp"
      }
    },
    {
      "cell_type": "markdown",
      "source": [
        "We don't actually need top analyze the counter data"
      ],
      "metadata": {
        "id": "HrOus7dZ8BjX"
      }
    },
    {
      "cell_type": "code",
      "source": [
        "# def firebase_to_csv_counters(ref_path, output_file):\n",
        "#     ref = db.reference(ref_path)\n",
        "#     data = ref.get()\n",
        "#     transformed_data = []\n",
        "#     for pid, value in data.items():\n",
        "#         pid = pid.lower()\n",
        "#         # Case 1: only numeric\n",
        "#         if isinstance(value, int):\n",
        "#             transformed_data.append({'pid': pid, 'screen_event_count': value})\n",
        "\n",
        "#         # Case 2: dictionary => selecting only value\n",
        "#         elif isinstance(value, dict):\n",
        "#             numeric_values = [v for v in value.values() if isinstance(v, int)]\n",
        "#             if numeric_values:\n",
        "#                 total = sum(numeric_values)\n",
        "#                 transformed_data.append({'pid': pid, 'screen_event_count': total})\n",
        "\n",
        "#     df = pd.DataFrame(transformed_data)\n",
        "#     df = df[['pid', 'screen_event_count']]\n",
        "#     df.to_csv(output_file, index=False)\n",
        "\n",
        "\n",
        "# firebase_to_csv_counters('/ringer_event_counters','ringer_event_counters.csv')\n",
        "# ringer_event_counters_data0 = pd.read_csv('/content/ringer_event_counters.csv')\n",
        "# print(ringer_event_counters_data0.head())\n",
        "\n",
        "# firebase_to_csv_counters('/screen_event_counters','screen_event_counters.csv')\n",
        "# screen_event_counters_data0 = pd.read_csv('/content/screen_event_counters.csv')\n",
        "# print(screen_event_counters_data0.head())\n",
        "\n",
        "# firebase_to_csv_counters('/settings_change_counters','settings_change_counters.csv')\n",
        "# settings_change_counters_data0 = pd.read_csv('/content/settings_change_counters.csv')\n",
        "# print(settings_change_counters_data0.head())"
      ],
      "metadata": {
        "id": "fk6_muXpjtZx"
      },
      "execution_count": null,
      "outputs": []
    },
    {
      "cell_type": "markdown",
      "source": [
        "# Paricipant management"
      ],
      "metadata": {
        "id": "G9C8L__e-2KH"
      }
    },
    {
      "cell_type": "markdown",
      "source": [
        "## Progress check\n",
        "\n",
        "Which day is each participant on, the state of each survey and the tutorial: unavailable, available, or completed."
      ],
      "metadata": {
        "id": "5JLcrCLQ-5T3"
      }
    },
    {
      "cell_type": "markdown",
      "source": [
        "(Wait about 10 seconds) Read in the meta data"
      ],
      "metadata": {
        "id": "QmxqmvZ7AwKe"
      }
    },
    {
      "cell_type": "code",
      "source": [
        "# read in the data\n",
        "import pytz\n",
        "from datetime import datetime\n",
        "\n",
        "survey_data = pd.read_csv(google_drive_data_path + '/survey_meta.csv')\n",
        "survey_data['submitDate'] = pd.to_datetime(survey_data['timestamp'].map(convert_unix_to_date))\n",
        "\n",
        "# Pivot the dataframe to create survey columns\n",
        "survey_meta_pivoted = survey_data.pivot(index=['pid','host'], columns='surveyID', values='submitDate')\n",
        "\n",
        "# Rename the columns\n",
        "survey_meta_pivoted.columns = ['survey' + str(col) for col in survey_meta_pivoted.columns]\n",
        "\n",
        "# Reset the index to make pid a column again\n",
        "survey_meta_pivoted = survey_meta_pivoted.reset_index()\n",
        "\n",
        "\n",
        "# Get today's date once\n",
        "ny_tz = pytz.timezone('America/New_York')\n",
        "today = pd.Timestamp.now(tz=ny_tz).normalize().date()\n",
        "\n",
        "# Fixed date operations\n",
        "survey_meta_pivoted['survey1'] = pd.to_datetime(survey_meta_pivoted['survey1']).dt.date\n",
        "survey_meta_pivoted['real_day_count'] = np.array([today - d for d in survey_meta_pivoted['survey1']], dtype='timedelta64[D]').astype(int) + 1\n",
        "\n",
        "def calculate_app_day_count(row):\n",
        "   required_columns = ['survey2', 'survey3', 'survey4']\n",
        "   row = row.reindex([*row.index, *required_columns]).fillna(pd.NA)\n",
        "\n",
        "   today = pd.Timestamp.now(tz=ny_tz)\n",
        "   s1 = pd.to_datetime(row['survey1']).tz_localize(ny_tz)\n",
        "   days_since_s1 = (today - s1).days + 1\n",
        "\n",
        "   if pd.notna(row['survey4']):\n",
        "       return 0\n",
        "   # Use row['survey2'].isna() instead of pd.isna(row['survey2']) to check for NaN\n",
        "   if row['survey2'].isna():\n",
        "       return min(8, days_since_s1)\n",
        "\n",
        "   s2 = pd.to_datetime(row['survey2']).tz_localize(ny_tz)\n",
        "   delay1 = max(0, (s2 - s1).days - 7)\n",
        "\n",
        "   if row['survey3'].isna():  # Use row['survey3'].isna() here as well\n",
        "       return min(15, days_since_s1 - delay1)\n",
        "\n",
        "   s3 = pd.to_datetime(row['survey3']).tz_localize(ny_tz)\n",
        "   delay2_threshold = 8 if (s2 - s1).days == 6 else 7\n",
        "   delay2 = max(0, (s3 - s2).days - delay2_threshold)\n",
        "\n",
        "   return min(22, days_since_s1 - delay1 - delay2)\n",
        "\n",
        "\n",
        "print(\"The shape of the dataframe is: \", survey_meta_pivoted.shape)\n",
        "\n",
        "survey_meta_pivoted['app_day_count'] = survey_meta_pivoted.apply(calculate_app_day_count, axis=1)\n",
        "\n",
        "survey_meta_pivoted = (survey_meta_pivoted\n",
        "   .assign(pid=lambda x: x['pid'].str.upper())\n",
        "   .rename(columns={'pid': 'PID'}))\n"
      ],
      "metadata": {
        "colab": {
          "base_uri": "https://localhost:8080/",
          "height": 373
        },
        "id": "amBOeEpGmmoJ",
        "outputId": "49274b99-f148-4de6-bcbf-d753f7d55ae5"
      },
      "execution_count": 26,
      "outputs": [
        {
          "output_type": "stream",
          "name": "stdout",
          "text": [
            "The shape of the dataframe is:  (37, 5)\n"
          ]
        },
        {
          "output_type": "error",
          "ename": "ValueError",
          "evalue": "The truth value of a Series is ambiguous. Use a.empty, a.bool(), a.item(), a.any() or a.all().",
          "traceback": [
            "\u001b[0;31m---------------------------------------------------------------------------\u001b[0m",
            "\u001b[0;31mValueError\u001b[0m                                Traceback (most recent call last)",
            "\u001b[0;32m<ipython-input-26-b921b2a0121e>\u001b[0m in \u001b[0;36m<cell line: 55>\u001b[0;34m()\u001b[0m\n\u001b[1;32m     53\u001b[0m \u001b[0mprint\u001b[0m\u001b[0;34m(\u001b[0m\u001b[0;34m\"The shape of the dataframe is: \"\u001b[0m\u001b[0;34m,\u001b[0m \u001b[0msurvey_meta_pivoted\u001b[0m\u001b[0;34m.\u001b[0m\u001b[0mshape\u001b[0m\u001b[0;34m)\u001b[0m\u001b[0;34m\u001b[0m\u001b[0;34m\u001b[0m\u001b[0m\n\u001b[1;32m     54\u001b[0m \u001b[0;34m\u001b[0m\u001b[0m\n\u001b[0;32m---> 55\u001b[0;31m \u001b[0msurvey_meta_pivoted\u001b[0m\u001b[0;34m[\u001b[0m\u001b[0;34m'app_day_count'\u001b[0m\u001b[0;34m]\u001b[0m \u001b[0;34m=\u001b[0m \u001b[0msurvey_meta_pivoted\u001b[0m\u001b[0;34m.\u001b[0m\u001b[0mapply\u001b[0m\u001b[0;34m(\u001b[0m\u001b[0mcalculate_app_day_count\u001b[0m\u001b[0;34m,\u001b[0m \u001b[0maxis\u001b[0m\u001b[0;34m=\u001b[0m\u001b[0;36m1\u001b[0m\u001b[0;34m)\u001b[0m\u001b[0;34m\u001b[0m\u001b[0;34m\u001b[0m\u001b[0m\n\u001b[0m\u001b[1;32m     56\u001b[0m \u001b[0;34m\u001b[0m\u001b[0m\n\u001b[1;32m     57\u001b[0m survey_meta_pivoted = (survey_meta_pivoted\n",
            "\u001b[0;32m/usr/local/lib/python3.10/dist-packages/pandas/core/frame.py\u001b[0m in \u001b[0;36mapply\u001b[0;34m(self, func, axis, raw, result_type, args, by_row, engine, engine_kwargs, **kwargs)\u001b[0m\n\u001b[1;32m  10372\u001b[0m             \u001b[0mkwargs\u001b[0m\u001b[0;34m=\u001b[0m\u001b[0mkwargs\u001b[0m\u001b[0;34m,\u001b[0m\u001b[0;34m\u001b[0m\u001b[0;34m\u001b[0m\u001b[0m\n\u001b[1;32m  10373\u001b[0m         )\n\u001b[0;32m> 10374\u001b[0;31m         \u001b[0;32mreturn\u001b[0m \u001b[0mop\u001b[0m\u001b[0;34m.\u001b[0m\u001b[0mapply\u001b[0m\u001b[0;34m(\u001b[0m\u001b[0;34m)\u001b[0m\u001b[0;34m.\u001b[0m\u001b[0m__finalize__\u001b[0m\u001b[0;34m(\u001b[0m\u001b[0mself\u001b[0m\u001b[0;34m,\u001b[0m \u001b[0mmethod\u001b[0m\u001b[0;34m=\u001b[0m\u001b[0;34m\"apply\"\u001b[0m\u001b[0;34m)\u001b[0m\u001b[0;34m\u001b[0m\u001b[0;34m\u001b[0m\u001b[0m\n\u001b[0m\u001b[1;32m  10375\u001b[0m \u001b[0;34m\u001b[0m\u001b[0m\n\u001b[1;32m  10376\u001b[0m     def map(\n",
            "\u001b[0;32m/usr/local/lib/python3.10/dist-packages/pandas/core/apply.py\u001b[0m in \u001b[0;36mapply\u001b[0;34m(self)\u001b[0m\n\u001b[1;32m    914\u001b[0m             \u001b[0;32mreturn\u001b[0m \u001b[0mself\u001b[0m\u001b[0;34m.\u001b[0m\u001b[0mapply_raw\u001b[0m\u001b[0;34m(\u001b[0m\u001b[0mengine\u001b[0m\u001b[0;34m=\u001b[0m\u001b[0mself\u001b[0m\u001b[0;34m.\u001b[0m\u001b[0mengine\u001b[0m\u001b[0;34m,\u001b[0m \u001b[0mengine_kwargs\u001b[0m\u001b[0;34m=\u001b[0m\u001b[0mself\u001b[0m\u001b[0;34m.\u001b[0m\u001b[0mengine_kwargs\u001b[0m\u001b[0;34m)\u001b[0m\u001b[0;34m\u001b[0m\u001b[0;34m\u001b[0m\u001b[0m\n\u001b[1;32m    915\u001b[0m \u001b[0;34m\u001b[0m\u001b[0m\n\u001b[0;32m--> 916\u001b[0;31m         \u001b[0;32mreturn\u001b[0m \u001b[0mself\u001b[0m\u001b[0;34m.\u001b[0m\u001b[0mapply_standard\u001b[0m\u001b[0;34m(\u001b[0m\u001b[0;34m)\u001b[0m\u001b[0;34m\u001b[0m\u001b[0;34m\u001b[0m\u001b[0m\n\u001b[0m\u001b[1;32m    917\u001b[0m \u001b[0;34m\u001b[0m\u001b[0m\n\u001b[1;32m    918\u001b[0m     \u001b[0;32mdef\u001b[0m \u001b[0magg\u001b[0m\u001b[0;34m(\u001b[0m\u001b[0mself\u001b[0m\u001b[0;34m)\u001b[0m\u001b[0;34m:\u001b[0m\u001b[0;34m\u001b[0m\u001b[0;34m\u001b[0m\u001b[0m\n",
            "\u001b[0;32m/usr/local/lib/python3.10/dist-packages/pandas/core/apply.py\u001b[0m in \u001b[0;36mapply_standard\u001b[0;34m(self)\u001b[0m\n\u001b[1;32m   1061\u001b[0m     \u001b[0;32mdef\u001b[0m \u001b[0mapply_standard\u001b[0m\u001b[0;34m(\u001b[0m\u001b[0mself\u001b[0m\u001b[0;34m)\u001b[0m\u001b[0;34m:\u001b[0m\u001b[0;34m\u001b[0m\u001b[0;34m\u001b[0m\u001b[0m\n\u001b[1;32m   1062\u001b[0m         \u001b[0;32mif\u001b[0m \u001b[0mself\u001b[0m\u001b[0;34m.\u001b[0m\u001b[0mengine\u001b[0m \u001b[0;34m==\u001b[0m \u001b[0;34m\"python\"\u001b[0m\u001b[0;34m:\u001b[0m\u001b[0;34m\u001b[0m\u001b[0;34m\u001b[0m\u001b[0m\n\u001b[0;32m-> 1063\u001b[0;31m             \u001b[0mresults\u001b[0m\u001b[0;34m,\u001b[0m \u001b[0mres_index\u001b[0m \u001b[0;34m=\u001b[0m \u001b[0mself\u001b[0m\u001b[0;34m.\u001b[0m\u001b[0mapply_series_generator\u001b[0m\u001b[0;34m(\u001b[0m\u001b[0;34m)\u001b[0m\u001b[0;34m\u001b[0m\u001b[0;34m\u001b[0m\u001b[0m\n\u001b[0m\u001b[1;32m   1064\u001b[0m         \u001b[0;32melse\u001b[0m\u001b[0;34m:\u001b[0m\u001b[0;34m\u001b[0m\u001b[0;34m\u001b[0m\u001b[0m\n\u001b[1;32m   1065\u001b[0m             \u001b[0mresults\u001b[0m\u001b[0;34m,\u001b[0m \u001b[0mres_index\u001b[0m \u001b[0;34m=\u001b[0m \u001b[0mself\u001b[0m\u001b[0;34m.\u001b[0m\u001b[0mapply_series_numba\u001b[0m\u001b[0;34m(\u001b[0m\u001b[0;34m)\u001b[0m\u001b[0;34m\u001b[0m\u001b[0;34m\u001b[0m\u001b[0m\n",
            "\u001b[0;32m/usr/local/lib/python3.10/dist-packages/pandas/core/apply.py\u001b[0m in \u001b[0;36mapply_series_generator\u001b[0;34m(self)\u001b[0m\n\u001b[1;32m   1079\u001b[0m             \u001b[0;32mfor\u001b[0m \u001b[0mi\u001b[0m\u001b[0;34m,\u001b[0m \u001b[0mv\u001b[0m \u001b[0;32min\u001b[0m \u001b[0menumerate\u001b[0m\u001b[0;34m(\u001b[0m\u001b[0mseries_gen\u001b[0m\u001b[0;34m)\u001b[0m\u001b[0;34m:\u001b[0m\u001b[0;34m\u001b[0m\u001b[0;34m\u001b[0m\u001b[0m\n\u001b[1;32m   1080\u001b[0m                 \u001b[0;31m# ignore SettingWithCopy here in case the user mutates\u001b[0m\u001b[0;34m\u001b[0m\u001b[0;34m\u001b[0m\u001b[0m\n\u001b[0;32m-> 1081\u001b[0;31m                 \u001b[0mresults\u001b[0m\u001b[0;34m[\u001b[0m\u001b[0mi\u001b[0m\u001b[0;34m]\u001b[0m \u001b[0;34m=\u001b[0m \u001b[0mself\u001b[0m\u001b[0;34m.\u001b[0m\u001b[0mfunc\u001b[0m\u001b[0;34m(\u001b[0m\u001b[0mv\u001b[0m\u001b[0;34m,\u001b[0m \u001b[0;34m*\u001b[0m\u001b[0mself\u001b[0m\u001b[0;34m.\u001b[0m\u001b[0margs\u001b[0m\u001b[0;34m,\u001b[0m \u001b[0;34m**\u001b[0m\u001b[0mself\u001b[0m\u001b[0;34m.\u001b[0m\u001b[0mkwargs\u001b[0m\u001b[0;34m)\u001b[0m\u001b[0;34m\u001b[0m\u001b[0;34m\u001b[0m\u001b[0m\n\u001b[0m\u001b[1;32m   1082\u001b[0m                 \u001b[0;32mif\u001b[0m \u001b[0misinstance\u001b[0m\u001b[0;34m(\u001b[0m\u001b[0mresults\u001b[0m\u001b[0;34m[\u001b[0m\u001b[0mi\u001b[0m\u001b[0;34m]\u001b[0m\u001b[0;34m,\u001b[0m \u001b[0mABCSeries\u001b[0m\u001b[0;34m)\u001b[0m\u001b[0;34m:\u001b[0m\u001b[0;34m\u001b[0m\u001b[0;34m\u001b[0m\u001b[0m\n\u001b[1;32m   1083\u001b[0m                     \u001b[0;31m# If we have a view on v, we need to make a copy because\u001b[0m\u001b[0;34m\u001b[0m\u001b[0;34m\u001b[0m\u001b[0m\n",
            "\u001b[0;32m<ipython-input-26-b921b2a0121e>\u001b[0m in \u001b[0;36mcalculate_app_day_count\u001b[0;34m(row)\u001b[0m\n\u001b[1;32m     35\u001b[0m        \u001b[0;32mreturn\u001b[0m \u001b[0;36m0\u001b[0m\u001b[0;34m\u001b[0m\u001b[0;34m\u001b[0m\u001b[0m\n\u001b[1;32m     36\u001b[0m    \u001b[0;31m# Use row['survey2'].isna() instead of pd.isna(row['survey2']) to check for NaN\u001b[0m\u001b[0;34m\u001b[0m\u001b[0;34m\u001b[0m\u001b[0m\n\u001b[0;32m---> 37\u001b[0;31m    \u001b[0;32mif\u001b[0m \u001b[0mrow\u001b[0m\u001b[0;34m[\u001b[0m\u001b[0;34m'survey2'\u001b[0m\u001b[0;34m]\u001b[0m\u001b[0;34m.\u001b[0m\u001b[0misna\u001b[0m\u001b[0;34m(\u001b[0m\u001b[0;34m)\u001b[0m\u001b[0;34m:\u001b[0m\u001b[0;34m\u001b[0m\u001b[0;34m\u001b[0m\u001b[0m\n\u001b[0m\u001b[1;32m     38\u001b[0m        \u001b[0;32mreturn\u001b[0m \u001b[0mmin\u001b[0m\u001b[0;34m(\u001b[0m\u001b[0;36m8\u001b[0m\u001b[0;34m,\u001b[0m \u001b[0mdays_since_s1\u001b[0m\u001b[0;34m)\u001b[0m\u001b[0;34m\u001b[0m\u001b[0;34m\u001b[0m\u001b[0m\n\u001b[1;32m     39\u001b[0m \u001b[0;34m\u001b[0m\u001b[0m\n",
            "\u001b[0;32m/usr/local/lib/python3.10/dist-packages/pandas/core/generic.py\u001b[0m in \u001b[0;36m__nonzero__\u001b[0;34m(self)\u001b[0m\n\u001b[1;32m   1575\u001b[0m     \u001b[0;34m@\u001b[0m\u001b[0mfinal\u001b[0m\u001b[0;34m\u001b[0m\u001b[0;34m\u001b[0m\u001b[0m\n\u001b[1;32m   1576\u001b[0m     \u001b[0;32mdef\u001b[0m \u001b[0m__nonzero__\u001b[0m\u001b[0;34m(\u001b[0m\u001b[0mself\u001b[0m\u001b[0;34m)\u001b[0m \u001b[0;34m->\u001b[0m \u001b[0mNoReturn\u001b[0m\u001b[0;34m:\u001b[0m\u001b[0;34m\u001b[0m\u001b[0;34m\u001b[0m\u001b[0m\n\u001b[0;32m-> 1577\u001b[0;31m         raise ValueError(\n\u001b[0m\u001b[1;32m   1578\u001b[0m             \u001b[0;34mf\"The truth value of a {type(self).__name__} is ambiguous. \"\u001b[0m\u001b[0;34m\u001b[0m\u001b[0;34m\u001b[0m\u001b[0m\n\u001b[1;32m   1579\u001b[0m             \u001b[0;34m\"Use a.empty, a.bool(), a.item(), a.any() or a.all().\"\u001b[0m\u001b[0;34m\u001b[0m\u001b[0;34m\u001b[0m\u001b[0m\n",
            "\u001b[0;31mValueError\u001b[0m: The truth value of a Series is ambiguous. Use a.empty, a.bool(), a.item(), a.any() or a.all()."
          ]
        }
      ]
    },
    {
      "cell_type": "code",
      "source": [
        "survey_meta_pivoted.head()"
      ],
      "metadata": {
        "colab": {
          "base_uri": "https://localhost:8080/",
          "height": 206
        },
        "id": "6cvtcJ4Kb9oN",
        "outputId": "35437c87-7a1d-41cd-c3dd-17fd8acd4363"
      },
      "execution_count": 27,
      "outputs": [
        {
          "output_type": "execute_result",
          "data": {
            "text/plain": [
              "     pid    host     survey1    survey2  real_day_count\n",
              "0  st011  589415  2024-12-04        NaT               7\n",
              "1  st012  104241  2024-12-04 2024-12-10               7\n",
              "2  st013  926167  2024-12-04 2024-12-10               7\n",
              "3  st014  208290  2024-12-04        NaT               7\n",
              "4  st015  305317  2024-12-04        NaT               7"
            ],
            "text/html": [
              "\n",
              "  <div id=\"df-2240bba9-db0a-4422-a65a-3232b614ac2f\" class=\"colab-df-container\">\n",
              "    <div>\n",
              "<style scoped>\n",
              "    .dataframe tbody tr th:only-of-type {\n",
              "        vertical-align: middle;\n",
              "    }\n",
              "\n",
              "    .dataframe tbody tr th {\n",
              "        vertical-align: top;\n",
              "    }\n",
              "\n",
              "    .dataframe thead th {\n",
              "        text-align: right;\n",
              "    }\n",
              "</style>\n",
              "<table border=\"1\" class=\"dataframe\">\n",
              "  <thead>\n",
              "    <tr style=\"text-align: right;\">\n",
              "      <th></th>\n",
              "      <th>pid</th>\n",
              "      <th>host</th>\n",
              "      <th>survey1</th>\n",
              "      <th>survey2</th>\n",
              "      <th>real_day_count</th>\n",
              "    </tr>\n",
              "  </thead>\n",
              "  <tbody>\n",
              "    <tr>\n",
              "      <th>0</th>\n",
              "      <td>st011</td>\n",
              "      <td>589415</td>\n",
              "      <td>2024-12-04</td>\n",
              "      <td>NaT</td>\n",
              "      <td>7</td>\n",
              "    </tr>\n",
              "    <tr>\n",
              "      <th>1</th>\n",
              "      <td>st012</td>\n",
              "      <td>104241</td>\n",
              "      <td>2024-12-04</td>\n",
              "      <td>2024-12-10</td>\n",
              "      <td>7</td>\n",
              "    </tr>\n",
              "    <tr>\n",
              "      <th>2</th>\n",
              "      <td>st013</td>\n",
              "      <td>926167</td>\n",
              "      <td>2024-12-04</td>\n",
              "      <td>2024-12-10</td>\n",
              "      <td>7</td>\n",
              "    </tr>\n",
              "    <tr>\n",
              "      <th>3</th>\n",
              "      <td>st014</td>\n",
              "      <td>208290</td>\n",
              "      <td>2024-12-04</td>\n",
              "      <td>NaT</td>\n",
              "      <td>7</td>\n",
              "    </tr>\n",
              "    <tr>\n",
              "      <th>4</th>\n",
              "      <td>st015</td>\n",
              "      <td>305317</td>\n",
              "      <td>2024-12-04</td>\n",
              "      <td>NaT</td>\n",
              "      <td>7</td>\n",
              "    </tr>\n",
              "  </tbody>\n",
              "</table>\n",
              "</div>\n",
              "    <div class=\"colab-df-buttons\">\n",
              "\n",
              "  <div class=\"colab-df-container\">\n",
              "    <button class=\"colab-df-convert\" onclick=\"convertToInteractive('df-2240bba9-db0a-4422-a65a-3232b614ac2f')\"\n",
              "            title=\"Convert this dataframe to an interactive table.\"\n",
              "            style=\"display:none;\">\n",
              "\n",
              "  <svg xmlns=\"http://www.w3.org/2000/svg\" height=\"24px\" viewBox=\"0 -960 960 960\">\n",
              "    <path d=\"M120-120v-720h720v720H120Zm60-500h600v-160H180v160Zm220 220h160v-160H400v160Zm0 220h160v-160H400v160ZM180-400h160v-160H180v160Zm440 0h160v-160H620v160ZM180-180h160v-160H180v160Zm440 0h160v-160H620v160Z\"/>\n",
              "  </svg>\n",
              "    </button>\n",
              "\n",
              "  <style>\n",
              "    .colab-df-container {\n",
              "      display:flex;\n",
              "      gap: 12px;\n",
              "    }\n",
              "\n",
              "    .colab-df-convert {\n",
              "      background-color: #E8F0FE;\n",
              "      border: none;\n",
              "      border-radius: 50%;\n",
              "      cursor: pointer;\n",
              "      display: none;\n",
              "      fill: #1967D2;\n",
              "      height: 32px;\n",
              "      padding: 0 0 0 0;\n",
              "      width: 32px;\n",
              "    }\n",
              "\n",
              "    .colab-df-convert:hover {\n",
              "      background-color: #E2EBFA;\n",
              "      box-shadow: 0px 1px 2px rgba(60, 64, 67, 0.3), 0px 1px 3px 1px rgba(60, 64, 67, 0.15);\n",
              "      fill: #174EA6;\n",
              "    }\n",
              "\n",
              "    .colab-df-buttons div {\n",
              "      margin-bottom: 4px;\n",
              "    }\n",
              "\n",
              "    [theme=dark] .colab-df-convert {\n",
              "      background-color: #3B4455;\n",
              "      fill: #D2E3FC;\n",
              "    }\n",
              "\n",
              "    [theme=dark] .colab-df-convert:hover {\n",
              "      background-color: #434B5C;\n",
              "      box-shadow: 0px 1px 3px 1px rgba(0, 0, 0, 0.15);\n",
              "      filter: drop-shadow(0px 1px 2px rgba(0, 0, 0, 0.3));\n",
              "      fill: #FFFFFF;\n",
              "    }\n",
              "  </style>\n",
              "\n",
              "    <script>\n",
              "      const buttonEl =\n",
              "        document.querySelector('#df-2240bba9-db0a-4422-a65a-3232b614ac2f button.colab-df-convert');\n",
              "      buttonEl.style.display =\n",
              "        google.colab.kernel.accessAllowed ? 'block' : 'none';\n",
              "\n",
              "      async function convertToInteractive(key) {\n",
              "        const element = document.querySelector('#df-2240bba9-db0a-4422-a65a-3232b614ac2f');\n",
              "        const dataTable =\n",
              "          await google.colab.kernel.invokeFunction('convertToInteractive',\n",
              "                                                    [key], {});\n",
              "        if (!dataTable) return;\n",
              "\n",
              "        const docLinkHtml = 'Like what you see? Visit the ' +\n",
              "          '<a target=\"_blank\" href=https://colab.research.google.com/notebooks/data_table.ipynb>data table notebook</a>'\n",
              "          + ' to learn more about interactive tables.';\n",
              "        element.innerHTML = '';\n",
              "        dataTable['output_type'] = 'display_data';\n",
              "        await google.colab.output.renderOutput(dataTable, element);\n",
              "        const docLink = document.createElement('div');\n",
              "        docLink.innerHTML = docLinkHtml;\n",
              "        element.appendChild(docLink);\n",
              "      }\n",
              "    </script>\n",
              "  </div>\n",
              "\n",
              "\n",
              "<div id=\"df-1c42a707-bca2-4911-a3e1-5d42ca285310\">\n",
              "  <button class=\"colab-df-quickchart\" onclick=\"quickchart('df-1c42a707-bca2-4911-a3e1-5d42ca285310')\"\n",
              "            title=\"Suggest charts\"\n",
              "            style=\"display:none;\">\n",
              "\n",
              "<svg xmlns=\"http://www.w3.org/2000/svg\" height=\"24px\"viewBox=\"0 0 24 24\"\n",
              "     width=\"24px\">\n",
              "    <g>\n",
              "        <path d=\"M19 3H5c-1.1 0-2 .9-2 2v14c0 1.1.9 2 2 2h14c1.1 0 2-.9 2-2V5c0-1.1-.9-2-2-2zM9 17H7v-7h2v7zm4 0h-2V7h2v10zm4 0h-2v-4h2v4z\"/>\n",
              "    </g>\n",
              "</svg>\n",
              "  </button>\n",
              "\n",
              "<style>\n",
              "  .colab-df-quickchart {\n",
              "      --bg-color: #E8F0FE;\n",
              "      --fill-color: #1967D2;\n",
              "      --hover-bg-color: #E2EBFA;\n",
              "      --hover-fill-color: #174EA6;\n",
              "      --disabled-fill-color: #AAA;\n",
              "      --disabled-bg-color: #DDD;\n",
              "  }\n",
              "\n",
              "  [theme=dark] .colab-df-quickchart {\n",
              "      --bg-color: #3B4455;\n",
              "      --fill-color: #D2E3FC;\n",
              "      --hover-bg-color: #434B5C;\n",
              "      --hover-fill-color: #FFFFFF;\n",
              "      --disabled-bg-color: #3B4455;\n",
              "      --disabled-fill-color: #666;\n",
              "  }\n",
              "\n",
              "  .colab-df-quickchart {\n",
              "    background-color: var(--bg-color);\n",
              "    border: none;\n",
              "    border-radius: 50%;\n",
              "    cursor: pointer;\n",
              "    display: none;\n",
              "    fill: var(--fill-color);\n",
              "    height: 32px;\n",
              "    padding: 0;\n",
              "    width: 32px;\n",
              "  }\n",
              "\n",
              "  .colab-df-quickchart:hover {\n",
              "    background-color: var(--hover-bg-color);\n",
              "    box-shadow: 0 1px 2px rgba(60, 64, 67, 0.3), 0 1px 3px 1px rgba(60, 64, 67, 0.15);\n",
              "    fill: var(--button-hover-fill-color);\n",
              "  }\n",
              "\n",
              "  .colab-df-quickchart-complete:disabled,\n",
              "  .colab-df-quickchart-complete:disabled:hover {\n",
              "    background-color: var(--disabled-bg-color);\n",
              "    fill: var(--disabled-fill-color);\n",
              "    box-shadow: none;\n",
              "  }\n",
              "\n",
              "  .colab-df-spinner {\n",
              "    border: 2px solid var(--fill-color);\n",
              "    border-color: transparent;\n",
              "    border-bottom-color: var(--fill-color);\n",
              "    animation:\n",
              "      spin 1s steps(1) infinite;\n",
              "  }\n",
              "\n",
              "  @keyframes spin {\n",
              "    0% {\n",
              "      border-color: transparent;\n",
              "      border-bottom-color: var(--fill-color);\n",
              "      border-left-color: var(--fill-color);\n",
              "    }\n",
              "    20% {\n",
              "      border-color: transparent;\n",
              "      border-left-color: var(--fill-color);\n",
              "      border-top-color: var(--fill-color);\n",
              "    }\n",
              "    30% {\n",
              "      border-color: transparent;\n",
              "      border-left-color: var(--fill-color);\n",
              "      border-top-color: var(--fill-color);\n",
              "      border-right-color: var(--fill-color);\n",
              "    }\n",
              "    40% {\n",
              "      border-color: transparent;\n",
              "      border-right-color: var(--fill-color);\n",
              "      border-top-color: var(--fill-color);\n",
              "    }\n",
              "    60% {\n",
              "      border-color: transparent;\n",
              "      border-right-color: var(--fill-color);\n",
              "    }\n",
              "    80% {\n",
              "      border-color: transparent;\n",
              "      border-right-color: var(--fill-color);\n",
              "      border-bottom-color: var(--fill-color);\n",
              "    }\n",
              "    90% {\n",
              "      border-color: transparent;\n",
              "      border-bottom-color: var(--fill-color);\n",
              "    }\n",
              "  }\n",
              "</style>\n",
              "\n",
              "  <script>\n",
              "    async function quickchart(key) {\n",
              "      const quickchartButtonEl =\n",
              "        document.querySelector('#' + key + ' button');\n",
              "      quickchartButtonEl.disabled = true;  // To prevent multiple clicks.\n",
              "      quickchartButtonEl.classList.add('colab-df-spinner');\n",
              "      try {\n",
              "        const charts = await google.colab.kernel.invokeFunction(\n",
              "            'suggestCharts', [key], {});\n",
              "      } catch (error) {\n",
              "        console.error('Error during call to suggestCharts:', error);\n",
              "      }\n",
              "      quickchartButtonEl.classList.remove('colab-df-spinner');\n",
              "      quickchartButtonEl.classList.add('colab-df-quickchart-complete');\n",
              "    }\n",
              "    (() => {\n",
              "      let quickchartButtonEl =\n",
              "        document.querySelector('#df-1c42a707-bca2-4911-a3e1-5d42ca285310 button');\n",
              "      quickchartButtonEl.style.display =\n",
              "        google.colab.kernel.accessAllowed ? 'block' : 'none';\n",
              "    })();\n",
              "  </script>\n",
              "</div>\n",
              "\n",
              "    </div>\n",
              "  </div>\n"
            ],
            "application/vnd.google.colaboratory.intrinsic+json": {
              "type": "dataframe",
              "variable_name": "survey_meta_pivoted",
              "summary": "{\n  \"name\": \"survey_meta_pivoted\",\n  \"rows\": 37,\n  \"fields\": [\n    {\n      \"column\": \"pid\",\n      \"properties\": {\n        \"dtype\": \"string\",\n        \"num_unique_values\": 37,\n        \"samples\": [\n          \"st028\",\n          \"st024\",\n          \"st015\"\n        ],\n        \"semantic_type\": \"\",\n        \"description\": \"\"\n      }\n    },\n    {\n      \"column\": \"host\",\n      \"properties\": {\n        \"dtype\": \"number\",\n        \"std\": 236786,\n        \"min\": 104241,\n        \"max\": 974359,\n        \"num_unique_values\": 37,\n        \"samples\": [\n          496964,\n          350354,\n          305317\n        ],\n        \"semantic_type\": \"\",\n        \"description\": \"\"\n      }\n    },\n    {\n      \"column\": \"survey1\",\n      \"properties\": {\n        \"dtype\": \"date\",\n        \"min\": \"2024-12-04\",\n        \"max\": \"2024-12-09\",\n        \"num_unique_values\": 6,\n        \"samples\": [\n          \"2024-12-04\",\n          \"2024-12-06\",\n          \"2024-12-09\"\n        ],\n        \"semantic_type\": \"\",\n        \"description\": \"\"\n      }\n    },\n    {\n      \"column\": \"survey2\",\n      \"properties\": {\n        \"dtype\": \"date\",\n        \"min\": \"2024-12-10 00:00:00\",\n        \"max\": \"2024-12-10 00:00:00\",\n        \"num_unique_values\": 1,\n        \"samples\": [\n          \"2024-12-10 00:00:00\"\n        ],\n        \"semantic_type\": \"\",\n        \"description\": \"\"\n      }\n    },\n    {\n      \"column\": \"real_day_count\",\n      \"properties\": {\n        \"dtype\": \"number\",\n        \"std\": 1,\n        \"min\": 2,\n        \"max\": 7,\n        \"num_unique_values\": 6,\n        \"samples\": [\n          7\n        ],\n        \"semantic_type\": \"\",\n        \"description\": \"\"\n      }\n    }\n  ]\n}"
            }
          },
          "metadata": {},
          "execution_count": 27
        }
      ]
    },
    {
      "cell_type": "markdown",
      "source": [
        "Read the email info and merge"
      ],
      "metadata": {
        "id": "SyBFn33BA8fn"
      }
    },
    {
      "cell_type": "markdown",
      "source": [
        "Before running the cell below, make sure the Participants.xlsx is up to date."
      ],
      "metadata": {
        "id": "zq-IN9cCKjN5"
      }
    },
    {
      "cell_type": "code",
      "source": [
        "participant_data = pd.read_excel(google_drive_data_path + '/Participants.xlsx')\n",
        "\n",
        "participant_manager = pd.merge(survey_meta_pivoted, participant_data, on='PID', how='right')\n",
        "\n",
        "# Sort by survey1\n",
        "participant_manager = participant_manager.sort_values(by='survey1')\n",
        "\n",
        "# Drop the specified columns\n",
        "participant_manager = participant_manager.drop(columns=['host', 'real_day_count'], errors='ignore')\n",
        "\n",
        "# Rename the 'Date' column to 'Date_invited' in the participant_manager DataFrame.\n",
        "participant_manager = participant_manager.rename(columns={'Date': 'date_invited'})\n",
        "\n",
        "participant_manager.drop(columns=['nick name'], errors='ignore').to_csv(google_drive_data_path + '/survey_meta_pivot.csv', index=False)\n",
        "# Read and process screen data in one chain\n",
        "latest_times = (pd.read_csv(google_drive_data_path + '/screen_events.csv')\n",
        "   .groupby('pid')['endTime']\n",
        "   .max()\n",
        "   .reset_index()\n",
        "   .assign(lastUpdate=lambda x: x['endTime'].map(lambda y: convert_unix_to_date(y, return_date=False)))\n",
        "   .drop(columns=['endTime'])\n",
        "   .assign(PID=lambda x: x['pid'].str.upper())\n",
        "   .drop(columns=['pid']))\n",
        "\n",
        "# Read and process timezone data in one chain\n",
        "timezone_data = (pd.read_csv(google_drive_data_path + '/timezones.csv')\n",
        "   .assign(PID=lambda x: x['pid'].str.upper())\n",
        "   .drop(columns=['pid'])\n",
        "   [['PID', 'timezone']])\n",
        "\n",
        "# Combine all merges and data cleaning in one chain\n",
        "participant_manager = (participant_manager\n",
        "   .merge(latest_times, on='PID', how='left')\n",
        "   .merge(timezone_data, on='PID', how='left')\n",
        "   .assign(lastUpdate=lambda x: x['lastUpdate'].astype(str).replace('NaT', ''))\n",
        "   .fillna(''))"
      ],
      "metadata": {
        "id": "I-up9q11ojae",
        "colab": {
          "base_uri": "https://localhost:8080/",
          "height": 373
        },
        "outputId": "259b7064-853d-4fda-fa4a-fc65a27d6ed5"
      },
      "execution_count": 23,
      "outputs": [
        {
          "output_type": "error",
          "ename": "KeyError",
          "evalue": "'PID'",
          "traceback": [
            "\u001b[0;31m---------------------------------------------------------------------------\u001b[0m",
            "\u001b[0;31mKeyError\u001b[0m                                  Traceback (most recent call last)",
            "\u001b[0;32m<ipython-input-23-d931abdf1fbb>\u001b[0m in \u001b[0;36m<cell line: 3>\u001b[0;34m()\u001b[0m\n\u001b[1;32m      1\u001b[0m \u001b[0mparticipant_data\u001b[0m \u001b[0;34m=\u001b[0m \u001b[0mpd\u001b[0m\u001b[0;34m.\u001b[0m\u001b[0mread_excel\u001b[0m\u001b[0;34m(\u001b[0m\u001b[0mgoogle_drive_data_path\u001b[0m \u001b[0;34m+\u001b[0m \u001b[0;34m'/Participants.xlsx'\u001b[0m\u001b[0;34m)\u001b[0m\u001b[0;34m\u001b[0m\u001b[0;34m\u001b[0m\u001b[0m\n\u001b[1;32m      2\u001b[0m \u001b[0;34m\u001b[0m\u001b[0m\n\u001b[0;32m----> 3\u001b[0;31m \u001b[0mparticipant_manager\u001b[0m \u001b[0;34m=\u001b[0m \u001b[0mpd\u001b[0m\u001b[0;34m.\u001b[0m\u001b[0mmerge\u001b[0m\u001b[0;34m(\u001b[0m\u001b[0msurvey_meta_pivoted\u001b[0m\u001b[0;34m,\u001b[0m \u001b[0mparticipant_data\u001b[0m\u001b[0;34m,\u001b[0m \u001b[0mon\u001b[0m\u001b[0;34m=\u001b[0m\u001b[0;34m'PID'\u001b[0m\u001b[0;34m,\u001b[0m \u001b[0mhow\u001b[0m\u001b[0;34m=\u001b[0m\u001b[0;34m'right'\u001b[0m\u001b[0;34m)\u001b[0m\u001b[0;34m\u001b[0m\u001b[0;34m\u001b[0m\u001b[0m\n\u001b[0m\u001b[1;32m      4\u001b[0m \u001b[0;34m\u001b[0m\u001b[0m\n\u001b[1;32m      5\u001b[0m \u001b[0;31m# Sort by survey1\u001b[0m\u001b[0;34m\u001b[0m\u001b[0;34m\u001b[0m\u001b[0m\n",
            "\u001b[0;32m/usr/local/lib/python3.10/dist-packages/pandas/core/reshape/merge.py\u001b[0m in \u001b[0;36mmerge\u001b[0;34m(left, right, how, on, left_on, right_on, left_index, right_index, sort, suffixes, copy, indicator, validate)\u001b[0m\n\u001b[1;32m    168\u001b[0m         )\n\u001b[1;32m    169\u001b[0m     \u001b[0;32melse\u001b[0m\u001b[0;34m:\u001b[0m\u001b[0;34m\u001b[0m\u001b[0;34m\u001b[0m\u001b[0m\n\u001b[0;32m--> 170\u001b[0;31m         op = _MergeOperation(\n\u001b[0m\u001b[1;32m    171\u001b[0m             \u001b[0mleft_df\u001b[0m\u001b[0;34m,\u001b[0m\u001b[0;34m\u001b[0m\u001b[0;34m\u001b[0m\u001b[0m\n\u001b[1;32m    172\u001b[0m             \u001b[0mright_df\u001b[0m\u001b[0;34m,\u001b[0m\u001b[0;34m\u001b[0m\u001b[0;34m\u001b[0m\u001b[0m\n",
            "\u001b[0;32m/usr/local/lib/python3.10/dist-packages/pandas/core/reshape/merge.py\u001b[0m in \u001b[0;36m__init__\u001b[0;34m(self, left, right, how, on, left_on, right_on, left_index, right_index, sort, suffixes, indicator, validate)\u001b[0m\n\u001b[1;32m    792\u001b[0m             \u001b[0mleft_drop\u001b[0m\u001b[0;34m,\u001b[0m\u001b[0;34m\u001b[0m\u001b[0;34m\u001b[0m\u001b[0m\n\u001b[1;32m    793\u001b[0m             \u001b[0mright_drop\u001b[0m\u001b[0;34m,\u001b[0m\u001b[0;34m\u001b[0m\u001b[0;34m\u001b[0m\u001b[0m\n\u001b[0;32m--> 794\u001b[0;31m         ) = self._get_merge_keys()\n\u001b[0m\u001b[1;32m    795\u001b[0m \u001b[0;34m\u001b[0m\u001b[0m\n\u001b[1;32m    796\u001b[0m         \u001b[0;32mif\u001b[0m \u001b[0mleft_drop\u001b[0m\u001b[0;34m:\u001b[0m\u001b[0;34m\u001b[0m\u001b[0;34m\u001b[0m\u001b[0m\n",
            "\u001b[0;32m/usr/local/lib/python3.10/dist-packages/pandas/core/reshape/merge.py\u001b[0m in \u001b[0;36m_get_merge_keys\u001b[0;34m(self)\u001b[0m\n\u001b[1;32m   1308\u001b[0m                         \u001b[0;31m#  the latter of which will raise\u001b[0m\u001b[0;34m\u001b[0m\u001b[0;34m\u001b[0m\u001b[0m\n\u001b[1;32m   1309\u001b[0m                         \u001b[0mlk\u001b[0m \u001b[0;34m=\u001b[0m \u001b[0mcast\u001b[0m\u001b[0;34m(\u001b[0m\u001b[0mHashable\u001b[0m\u001b[0;34m,\u001b[0m \u001b[0mlk\u001b[0m\u001b[0;34m)\u001b[0m\u001b[0;34m\u001b[0m\u001b[0;34m\u001b[0m\u001b[0m\n\u001b[0;32m-> 1310\u001b[0;31m                         \u001b[0mleft_keys\u001b[0m\u001b[0;34m.\u001b[0m\u001b[0mappend\u001b[0m\u001b[0;34m(\u001b[0m\u001b[0mleft\u001b[0m\u001b[0;34m.\u001b[0m\u001b[0m_get_label_or_level_values\u001b[0m\u001b[0;34m(\u001b[0m\u001b[0mlk\u001b[0m\u001b[0;34m)\u001b[0m\u001b[0;34m)\u001b[0m\u001b[0;34m\u001b[0m\u001b[0;34m\u001b[0m\u001b[0m\n\u001b[0m\u001b[1;32m   1311\u001b[0m                         \u001b[0mjoin_names\u001b[0m\u001b[0;34m.\u001b[0m\u001b[0mappend\u001b[0m\u001b[0;34m(\u001b[0m\u001b[0mlk\u001b[0m\u001b[0;34m)\u001b[0m\u001b[0;34m\u001b[0m\u001b[0;34m\u001b[0m\u001b[0m\n\u001b[1;32m   1312\u001b[0m                     \u001b[0;32melse\u001b[0m\u001b[0;34m:\u001b[0m\u001b[0;34m\u001b[0m\u001b[0;34m\u001b[0m\u001b[0m\n",
            "\u001b[0;32m/usr/local/lib/python3.10/dist-packages/pandas/core/generic.py\u001b[0m in \u001b[0;36m_get_label_or_level_values\u001b[0;34m(self, key, axis)\u001b[0m\n\u001b[1;32m   1909\u001b[0m             \u001b[0mvalues\u001b[0m \u001b[0;34m=\u001b[0m \u001b[0mself\u001b[0m\u001b[0;34m.\u001b[0m\u001b[0maxes\u001b[0m\u001b[0;34m[\u001b[0m\u001b[0maxis\u001b[0m\u001b[0;34m]\u001b[0m\u001b[0;34m.\u001b[0m\u001b[0mget_level_values\u001b[0m\u001b[0;34m(\u001b[0m\u001b[0mkey\u001b[0m\u001b[0;34m)\u001b[0m\u001b[0;34m.\u001b[0m\u001b[0m_values\u001b[0m\u001b[0;34m\u001b[0m\u001b[0;34m\u001b[0m\u001b[0m\n\u001b[1;32m   1910\u001b[0m         \u001b[0;32melse\u001b[0m\u001b[0;34m:\u001b[0m\u001b[0;34m\u001b[0m\u001b[0;34m\u001b[0m\u001b[0m\n\u001b[0;32m-> 1911\u001b[0;31m             \u001b[0;32mraise\u001b[0m \u001b[0mKeyError\u001b[0m\u001b[0;34m(\u001b[0m\u001b[0mkey\u001b[0m\u001b[0;34m)\u001b[0m\u001b[0;34m\u001b[0m\u001b[0;34m\u001b[0m\u001b[0m\n\u001b[0m\u001b[1;32m   1912\u001b[0m \u001b[0;34m\u001b[0m\u001b[0m\n\u001b[1;32m   1913\u001b[0m         \u001b[0;31m# Check for duplicates\u001b[0m\u001b[0;34m\u001b[0m\u001b[0;34m\u001b[0m\u001b[0m\n",
            "\u001b[0;31mKeyError\u001b[0m: 'PID'"
          ]
        }
      ]
    },
    {
      "cell_type": "markdown",
      "source": [
        "Update lastUpdate with Timezone"
      ],
      "metadata": {
        "id": "TrwVqrG6sqyE"
      }
    },
    {
      "cell_type": "code",
      "source": [
        "import pandas as pd\n",
        "from datetime import datetime\n",
        "import pytz\n",
        "\n",
        "def convert_to_local_time(row):\n",
        "    # Skip rows where either lastUpdate or timezone is missing\n",
        "    if pd.isna(row['lastUpdate']) or pd.isna(row['timezone']):\n",
        "        return pd.NaT\n",
        "\n",
        "    try:\n",
        "        # Parse the timestamp\n",
        "        dt = pd.to_datetime(row['lastUpdate'])\n",
        "        if pd.isna(dt):\n",
        "            return pd.NaT\n",
        "\n",
        "        # Get source timezone (EST/EDT)\n",
        "        source_tz = pytz.timezone('America/New_York')\n",
        "\n",
        "        # Localize the datetime\n",
        "        dt_source = source_tz.localize(dt.tz_localize(None))\n",
        "\n",
        "        # Convert to target timezone\n",
        "        target_tz = pytz.timezone(row['timezone'])\n",
        "        dt_target = dt_source.astimezone(target_tz)\n",
        "\n",
        "        return dt_target\n",
        "\n",
        "    except (ValueError, AttributeError):\n",
        "        return pd.NaT\n",
        "\n",
        "# Apply the conversion\n",
        "participant_manager['local_time'] = participant_manager.apply(convert_to_local_time, axis=1)\n",
        "\n",
        "# Replace \"NaT\" with empty strings in the 'lastUpdate' column\n",
        "participant_manager['local_time'] = participant_manager['local_time'].astype(str).replace('NaT', '')\n",
        "def calculate_time_lapse(last_update):\n",
        "    if pd.isna(last_update):\n",
        "        return None\n",
        "\n",
        "    # Get current time in EST (since lastUpdate is in EST)\n",
        "    est = pytz.timezone('America/New_York')\n",
        "    now = datetime.now(est)\n",
        "\n",
        "    try:\n",
        "        # Parse lastUpdate with timezone info (-05:00 is already in the data)\n",
        "        last_update = pd.to_datetime(last_update, utc=True)\n",
        "        last_update = last_update.astimezone(est)\n",
        "\n",
        "        # Calculate time difference\n",
        "        time_diff = now - last_update\n",
        "\n",
        "        # Convert to hours and minutes\n",
        "        total_minutes = time_diff.total_seconds() / 60\n",
        "        hours = int(total_minutes // 60)\n",
        "        minutes = int(total_minutes % 60)\n",
        "\n",
        "        # Format as HH:MM\n",
        "        return f\"{hours:02d}:{minutes:02d}\"\n",
        "    except:\n",
        "        return None\n",
        "\n",
        "# Calculate time lapse for each row\n",
        "participant_manager['time_lapse'] = participant_manager['lastUpdate'].apply(calculate_time_lapse)\n",
        "\n",
        "# prompt: Rename \"nick name\":\"nick_name\", \"timezone\":\"time_zone\", \"local_time\":\"last_update_local\",\"time_lapse\":\"lapse_last_update\"\n",
        "\n",
        "# Rename the columns\n",
        "participant_manager = participant_manager.rename(columns={\n",
        "    \"survey1\": \"start_date\",\n",
        "    \"nick name\": \"nick_name\",\n",
        "    \"timezone\": \"time_zone\",\n",
        "    \"local_time\": \"last_update_local\",\n",
        "    \"time_lapse\": \"lapse_last_update\"\n",
        "})\n",
        "\n",
        "# prompt: reorder the columns: PID, Email, nick_name, start_date, app_day_count, last_update_local, lapse_last_update\n",
        "\n",
        "# Reorder the columns\n",
        "new_column_order = ['PID', 'Email', 'nick_name', 'date_invited', 'start_date', 'app_day_count', 'last_update_local', 'lapse_last_update']\n",
        "participant_manager = participant_manager[new_column_order]\n"
      ],
      "metadata": {
        "id": "qNxSDxWyuSx7"
      },
      "execution_count": null,
      "outputs": []
    },
    {
      "cell_type": "markdown",
      "source": [
        "Creating a status"
      ],
      "metadata": {
        "id": "xtMfDvWSKA9G"
      }
    },
    {
      "cell_type": "code",
      "source": [
        "# prompt: Drop 'daily_unlocks', 'daily_screen_hours', 'day_count' from saved_status\n",
        "\n",
        "# Drop the specified columns\n",
        "participant_manager = participant_manager.drop(columns=['daily_unlocks', 'daily_screen_hours', 'day_count'], errors='ignore')"
      ],
      "metadata": {
        "id": "PJC7j2a896iM"
      },
      "execution_count": null,
      "outputs": []
    },
    {
      "cell_type": "code",
      "source": [
        "participant_manager_ID = '1RxxvaVzf15X3H0ak4UTDr4pjrBRjoCCiOW1smkTTJLs'\n",
        "saved_status = get_sheet_as_df(participant_manager_ID)\n",
        "# saved_status = saved_status.drop(columns=['PID', 'nick_name', 'start_date', 'app_day_count', 'last_update_local', 'lapse_last_update'], errors='ignore')\n",
        "\n",
        "import pandas as pd\n",
        "from datetime import datetime, time\n",
        "\n",
        "# Read the CSV\n",
        "df = participant_manager.copy()\n",
        "\n",
        "# Identify duplicate columns\n",
        "duplicate_cols = [col for col in df.columns if col in saved_status.columns and col != 'Email']\n",
        "\n",
        "# Drop the duplicate columns from the right DataFrame before merging\n",
        "saved_status = saved_status.drop(columns=duplicate_cols, errors='ignore')\n",
        "saved_status = saved_status.drop(columns=['daily_unlocks', 'daily_screen_hours', 'day_count'], errors='ignore')\n",
        "\n",
        "df = df.merge(saved_status, on='Email', how='left')\n",
        "\n",
        "# Convert 'status' column to numeric, handling errors\n",
        "df['status'] = pd.to_numeric(df['status'], errors='coerce')\n",
        "\n",
        "# Initialize status column with 1 ONLY where status is NaN or < 4\n",
        "mask_initial = df['status'].isna() | (df['status'] < 4)\n",
        "df.loc[mask_initial, 'status'] = 1\n",
        "\n",
        "# Convert lapse_last_update to datetime.time objects where possible\n",
        "def convert_time(x):\n",
        "    try:\n",
        "        if pd.notna(x):\n",
        "            hours, minutes = map(int, x.split(':'))\n",
        "            return time(hours, minutes)\n",
        "    except:\n",
        "        return pd.NaT\n",
        "\n",
        "df['lapse_time'] = df['lapse_last_update'].apply(convert_time)\n",
        "\n",
        "# Set status based on conditions, but only where status < 4 or NaN\n",
        "cutoff_time = time(12, 0)\n",
        "mask_eligible = (df['status'] < 4) | (df['status'].isna())\n",
        "\n",
        "# New conditions (checking for empty strings)\n",
        "# If both start_date and last_update_local are empty strings\n",
        "mask_both_empty = (df['start_date'] == '') & (df['last_update_local'] == '')\n",
        "df.loc[mask_eligible & mask_both_empty, 'status'] = 1\n",
        "\n",
        "# If start_date is empty string but last_update_local is not\n",
        "mask_only_update = (df['start_date'] == '') & (df['last_update_local'] != '')\n",
        "df.loc[mask_eligible & mask_only_update, 'status'] = 4\n",
        "\n",
        "# If start_date is not empty string but last_update_local is empty string\n",
        "mask_only_start = (df['start_date'] != '') & (df['last_update_local'] == '')\n",
        "df.loc[mask_eligible & mask_only_start, 'status'] = 3\n",
        "\n",
        "# Original conditions\n",
        "# 1. If lapse_last_update < 12:00, status = \"started\"\n",
        "mask_started = df['lapse_time'].apply(lambda x: pd.notna(x) and isinstance(x, time) and x < cutoff_time)\n",
        "df.loc[mask_eligible & mask_started, 'status'] = 2\n",
        "\n",
        "# 2. If start_date is not empty but lapse_last_update is empty or ≥ 12:00\n",
        "mask_tech_issue = (df['start_date'] != '') & (~mask_started)\n",
        "df.loc[mask_eligible & mask_tech_issue, 'status'] = 3\n",
        "\n",
        "# Drop the temporary lapse_time column\n",
        "df = df.drop('lapse_time', axis=1)\n",
        "import datetime\n",
        "from datetime import timezone\n",
        "import pytz\n",
        "\n",
        "# Get today's date in New York time\n",
        "ny_tz = pytz.timezone('America/New_York')\n",
        "today = datetime.datetime.now(ny_tz).strftime('%m%d')\n",
        "# Drop today's column if it already exists\n",
        "if int(today) in df.columns:\n",
        "    df = df.drop(columns=[int(today)])\n",
        "\n",
        "# Create status-note mapping dictionary from the CSV data\n",
        "status_mapping = {\n",
        "    0: 'to invite',\n",
        "    1: 'invited',\n",
        "    2: 'started',\n",
        "    3: 'data paused',\n",
        "    4: 'survey1 awaiting',\n",
        "    5: 'completed',\n",
        "    5: 'dropped out',\n",
        "    9: 'tester'\n",
        "}\n",
        "\n",
        "# Create a new column with today's date and initialize it with NaN\n",
        "df[today] = float('nan')\n",
        "\n",
        "# Update the new column using the status mapping\n",
        "df.loc[df[today].isna(), today] = df.loc[df[today].isna(), 'status'].map(status_mapping)\n",
        "\n",
        "# Get the fixed columns we want first (up to status)\n",
        "fixed_cols = ['PID', 'Email', 'nick_name', 'date_invited', 'start_date', 'app_day_count',\n",
        "              'last_update_local', 'lapse_last_update', 'status']\n",
        "\n",
        "# Add today's column\n",
        "fixed_cols.append(today)\n",
        "\n",
        "# Get the remaining date columns in descending order\n",
        "# Use the original column types from df.columns\n",
        "date_cols = [col for col in df.columns if str(col).isdigit() and col != today]\n",
        "date_cols = sorted(date_cols, key=lambda x: int(str(x)), reverse=True)\n",
        "\n",
        "# Combine all columns in desired order\n",
        "new_order = fixed_cols + date_cols\n",
        "\n",
        "# Reorder the dataframe\n",
        "df1 = df[new_order].copy()\n",
        "\n",
        "sign_up_data = pd.read_excel(google_drive_data_path + '/signup_survey_data_processed_combined.xlsx')\n",
        "\n",
        "# prompt: Drop 'Source' in df1 if there is such a column. Then merge sign_update[['Email','Source']] to df1.\n",
        "\n",
        "if 'Source' in df1.columns:\n",
        "  df1 = df1.drop('Source', axis=1)\n",
        "\n",
        "df1 = pd.merge(df1, sign_up_data[['Email', 'Source']], on='Email', how='left')"
      ],
      "metadata": {
        "id": "bHJNhjqTPv1a"
      },
      "execution_count": null,
      "outputs": []
    },
    {
      "cell_type": "code",
      "source": [
        "screen_data = pd.read_csv(google_drive_data_path + '/screen_events.csv')\n",
        "# Calculate duration in milliseconds by simple subtraction since values are already timestamps\n",
        "screen_data['duration_ms'] = screen_data['endTime'] - screen_data['startTime']\n",
        "# prompt: filter out where duration_ms <= 0 in screen_data\n",
        "print(screen_data.shape)\n",
        "screen_data = screen_data[screen_data['duration_ms'] > 0]\n",
        "print(screen_data.shape)\n",
        "timezones = pd.read_csv(google_drive_data_path + '/timezones.csv')\n",
        "# First merge the timezone information with screen_data\n",
        "screen_data = screen_data.merge(timezones[['pid', 'timezone']], on='pid', how='left')\n",
        "\n",
        "# Calculate statDate using the timezone specific to each row\n",
        "screen_data['startDate'] = screen_data.apply(\n",
        "    lambda row: convert_unix_to_date(\n",
        "        row['startTime'],\n",
        "        timezone=row['timezone'],\n",
        "        return_date=True\n",
        "    ),\n",
        "    axis=1\n",
        ")\n",
        "# Calculate the metrics grouped by pid and statDate\n",
        "summary = screen_data.groupby(['pid', 'startDate']).agg({\n",
        "    'eventLabel': 'count',  # Count of events\n",
        "    'duration_ms': lambda x: sum(x) / (1000 * 60 * 60)  # Convert milliseconds to hours\n",
        "}).reset_index()\n",
        "\n",
        "# Rename columns for clarity\n",
        "summary.columns = ['pid', 'startDate', 'event_count', 'duration_hours']\n",
        "\n",
        "summary.to_csv(google_drive_data_path + '/screen_event_summary.csv', index=False)\n",
        "# Sort by pid and date, then drop the first date for each pid\n",
        "filtered_summary = summary.sort_values(['pid', 'startDate']).groupby('pid').apply(\n",
        "    lambda x: x.iloc[1:] if len(x) > 1 else pd.DataFrame()\n",
        ").reset_index(drop=True)\n",
        "# Calculate the averages and add date count + 1\n",
        "avg_metrics = filtered_summary.groupby('pid').agg({\n",
        "    'event_count': 'mean',\n",
        "    'duration_hours': 'mean',\n",
        "    'startDate': lambda x: len(x.unique()) + 1  # count of remaining dates + 1\n",
        "}).reset_index()\n",
        "\n",
        "# Rename columns to indicate these are averages\n",
        "avg_metrics.columns = ['PID', 'daily_unlocks', 'daily_screen_hours', 'day_count']\n",
        "\n",
        "avg_metrics['PID'] = avg_metrics['PID'].str.upper()\n",
        "# prompt: merge avg_metrics to df1 by PID, how = left\n",
        "\n",
        "df1 = pd.merge(df1, avg_metrics, on='PID', how='left')\n",
        "\n",
        "\n",
        "# Round daily_unlocks and daily_screen_hours to one decimal place\n",
        "df1['daily_unlocks'] = df1['daily_unlocks'].round(1)\n",
        "df1['daily_screen_hours'] = df1['daily_screen_hours'].round(1)\n",
        "\n"
      ],
      "metadata": {
        "id": "T-7yrziy7bIy"
      },
      "execution_count": null,
      "outputs": []
    },
    {
      "cell_type": "code",
      "source": [
        "df2 = df1.copy()\n",
        "\n",
        "df2['app_day_count'] = pd.to_numeric(df2['app_day_count'], errors='coerce').fillna(0).astype(int)\n",
        "\n",
        "df2['day_missing'] = df2['app_day_count'] - df2['day_count']\n",
        "def create_note(row):\n",
        "\n",
        "    # Check status=5 condition first\n",
        "    if row['status'] == 5:\n",
        "        return 'dropped out'\n",
        "\n",
        "    # Check for missing values first\n",
        "    if (pd.isna(row['app_day_count']) or pd.isna(row['status']) or\n",
        "        pd.isna(row['daily_unlocks']) or pd.isna(row['daily_screen_hours']) or\n",
        "        pd.isna(row['day_count']) or pd.isna(row['day_missing'])):\n",
        "        return 'TBD'\n",
        "\n",
        "    # Check app_day_count <= 3\n",
        "    if row['app_day_count'] <= 3:\n",
        "        return 'TBD'\n",
        "\n",
        "    # For app_day_count > 3 cases\n",
        "    if row['app_day_count'] > 3:\n",
        "        if row['day_missing'] >= row['day_count']:\n",
        "            return 'missing half of all the days'\n",
        "        elif row['daily_unlocks'] >= 10 and row['daily_screen_hours'] >= 2:\n",
        "            return 'working well'\n",
        "        elif row['daily_unlocks'] >= 10 and row['daily_screen_hours'] < 2:\n",
        "            return 'not enough screen time'\n",
        "        elif row['daily_unlocks'] < 10 and row['daily_screen_hours'] >= 2:\n",
        "            return 'not enough locks'\n",
        "        elif row['daily_unlocks'] < 10 and row['daily_screen_hours'] < 2:\n",
        "            return 'neither locks nor screen time is enough'\n",
        "\n",
        "    return 'TBD'  # Default case if none of the conditions match\n",
        "\n",
        "# Apply the function to create the note column\n",
        "df2['note'] = df2.apply(create_note, axis=1)\n",
        "\n",
        "df2 = df2.sort_values(by=['lapse_last_update','status'])"
      ],
      "metadata": {
        "id": "bAw0BNpr_Lr7"
      },
      "execution_count": null,
      "outputs": []
    },
    {
      "cell_type": "code",
      "source": [
        "# Save the files\n",
        "write_df_to_sheet(df2, participant_manager_ID)"
      ],
      "metadata": {
        "id": "soPMld1t7iNR"
      },
      "execution_count": null,
      "outputs": []
    },
    {
      "cell_type": "markdown",
      "source": [
        "## Screen events data monitor"
      ],
      "metadata": {
        "id": "QxahhXwbU9Iq"
      }
    },
    {
      "cell_type": "code",
      "source": [
        "import datetime\n",
        "from datetime import timezone, timedelta\n",
        "import pytz\n",
        "\n",
        "df = df2.copy()\n",
        "# Get timezone\n",
        "ny_tz = pytz.timezone('America/New_York')\n",
        "\n",
        "# Get today's date\n",
        "today = datetime.datetime.now(ny_tz)\n",
        "\n",
        "# Generate the three dates as strings\n",
        "today_str = today.strftime('%m%d')\n",
        "yesterday_str = (today - timedelta(days=1)).strftime('%m%d')\n",
        "day_before_str = (today - timedelta(days=2)).strftime('%m%d')\n",
        "\n",
        "# Create list of possible column names (both string and int versions)\n",
        "date_cols = [\n",
        "    today_str, yesterday_str, day_before_str,  # string versions\n",
        "    int(today_str), int(yesterday_str), int(day_before_str)  # int versions\n",
        "]\n",
        "\n",
        "# Find which version of each date exists in the columns\n",
        "existing_date_cols = [col for col in date_cols if col in df.columns]"
      ],
      "metadata": {
        "id": "ByjR0ahRRqqA"
      },
      "execution_count": null,
      "outputs": []
    },
    {
      "cell_type": "markdown",
      "source": [
        "### Data pause drop out notification"
      ],
      "metadata": {
        "id": "5Vhbd5mJVhW6"
      }
    },
    {
      "cell_type": "markdown",
      "source": [
        "if no data is seen in the past 3 days"
      ],
      "metadata": {
        "id": "nN5iGkGSRyAu"
      }
    },
    {
      "cell_type": "code",
      "source": [
        "# Filter rows where all three days are 'data paused'\n",
        "all_days_paused_mask = df[existing_date_cols].eq('data paused').all(axis=1)\n",
        "paused_emails = df.loc[all_days_paused_mask, 'Email']\n",
        "\n",
        "# Convert to comma-separated string\n",
        "email_list = ', '.join(paused_emails)\n",
        "\n",
        "print(email_list)"
      ],
      "metadata": {
        "colab": {
          "base_uri": "https://localhost:8080/"
        },
        "id": "Kmiv4oriQ3NK",
        "outputId": "1ca36f91-b19d-4ee7-e0e8-f85eb43b827c"
      },
      "execution_count": null,
      "outputs": [
        {
          "output_type": "stream",
          "name": "stdout",
          "text": [
            "djsboca@aol.com\n"
          ]
        }
      ]
    },
    {
      "cell_type": "markdown",
      "source": [
        "### Data pause notification"
      ],
      "metadata": {
        "id": "hP1l2wstVxbP"
      }
    },
    {
      "cell_type": "markdown",
      "source": [
        "If the data is not coming through in the last 12 hours"
      ],
      "metadata": {
        "id": "YYvt4dgjSOJL"
      }
    },
    {
      "cell_type": "code",
      "source": [
        "# Find which version of today's date exists\n",
        "today_col = next(col for col in [today_str, int(today_str)] if col in df.columns)\n",
        "\n",
        "# Create masks\n",
        "today_paused_mask = df[today_col] == 'data paused'\n",
        "\n",
        "# Get emails where today is paused but not all days are paused\n",
        "target_emails = df.loc[today_paused_mask & ~all_days_paused_mask, 'Email']\n",
        "\n",
        "# Convert to comma-separated string\n",
        "email_list = ', '.join(target_emails)\n",
        "\n",
        "print(email_list)"
      ],
      "metadata": {
        "colab": {
          "base_uri": "https://localhost:8080/"
        },
        "id": "98Jvne3iPF54",
        "outputId": "c0f56a51-e546-4ad9-87ea-446a3327c74d"
      },
      "execution_count": null,
      "outputs": [
        {
          "output_type": "stream",
          "name": "stdout",
          "text": [
            "jimoreno2055@gmail.com\n"
          ]
        }
      ]
    },
    {
      "cell_type": "markdown",
      "source": [
        "### Data resume notification"
      ],
      "metadata": {
        "id": "QOZGWJwjVEVo"
      }
    },
    {
      "cell_type": "markdown",
      "source": [
        "If yesterday's status is data pause, but today is working"
      ],
      "metadata": {
        "id": "sbL7IZ0LTCxQ"
      }
    },
    {
      "cell_type": "code",
      "source": [
        "yesterday_col = next(col for col in [yesterday_str, int(yesterday_str)] if col in df.columns)\n",
        "\n",
        "# Create masks for the conditions\n",
        "today_started_mask = df[today_col] == 'started'\n",
        "yesterday_paused_mask = df[yesterday_col] == 'data paused'\n",
        "\n",
        "# Get emails that meet both conditions\n",
        "resume_emails = df.loc[today_started_mask & yesterday_paused_mask, 'Email']\n",
        "\n",
        "# Convert to comma-separated string\n",
        "email_list = ', '.join(resume_emails)\n",
        "\n",
        "print(email_list)"
      ],
      "metadata": {
        "colab": {
          "base_uri": "https://localhost:8080/"
        },
        "id": "JMlcV8cHTALc",
        "outputId": "bacef3c7-2b3d-4f0d-a1d5-9ebde9c5b06c"
      },
      "execution_count": null,
      "outputs": [
        {
          "output_type": "stream",
          "name": "stdout",
          "text": [
            "ahaileselassie7459@gmail.com, davidwaters54367@gmail.com, jordansanch116@gmail.com, mappscarl@gmail.com\n"
          ]
        }
      ]
    },
    {
      "cell_type": "markdown",
      "source": [
        "## Check the survey filter question"
      ],
      "metadata": {
        "id": "RFbAsYrQaxl7"
      }
    },
    {
      "cell_type": "code",
      "source": [
        "survey_data = pd.read_csv(google_drive_data_path + '/survey_responses.csv')"
      ],
      "metadata": {
        "id": "gZ1dcnXqaw4Q"
      },
      "execution_count": null,
      "outputs": []
    },
    {
      "cell_type": "code",
      "source": [
        "# prompt: filter by q_13 != 0\n",
        "\n",
        "# Assuming 'q_13' is a column in your survey_data DataFrame\n",
        "filtered_survey_data = survey_data[survey_data['q_13'] != 0]\n",
        "filtered_survey_data['pid']"
      ],
      "metadata": {
        "colab": {
          "base_uri": "https://localhost:8080/",
          "height": 115
        },
        "id": "422dUiTJbCC9",
        "outputId": "8cd23239-9cb1-4dd2-9f2d-fbb8e7238e47"
      },
      "execution_count": null,
      "outputs": [
        {
          "output_type": "execute_result",
          "data": {
            "text/plain": [
              "25    st042\n",
              "Name: pid, dtype: object"
            ],
            "text/html": [
              "<div>\n",
              "<style scoped>\n",
              "    .dataframe tbody tr th:only-of-type {\n",
              "        vertical-align: middle;\n",
              "    }\n",
              "\n",
              "    .dataframe tbody tr th {\n",
              "        vertical-align: top;\n",
              "    }\n",
              "\n",
              "    .dataframe thead th {\n",
              "        text-align: right;\n",
              "    }\n",
              "</style>\n",
              "<table border=\"1\" class=\"dataframe\">\n",
              "  <thead>\n",
              "    <tr style=\"text-align: right;\">\n",
              "      <th></th>\n",
              "      <th>pid</th>\n",
              "    </tr>\n",
              "  </thead>\n",
              "  <tbody>\n",
              "    <tr>\n",
              "      <th>25</th>\n",
              "      <td>st042</td>\n",
              "    </tr>\n",
              "  </tbody>\n",
              "</table>\n",
              "</div><br><label><b>dtype:</b> object</label>"
            ]
          },
          "metadata": {},
          "execution_count": 34
        }
      ]
    },
    {
      "cell_type": "markdown",
      "source": [
        "## Generate reminder mail list"
      ],
      "metadata": {
        "id": "yo3YdmPp0ZCb"
      }
    },
    {
      "cell_type": "markdown",
      "source": [
        "Generate a list of emails for certain filter. Copy the output into bcc in gmail"
      ],
      "metadata": {
        "id": "5IFbMEHF_QTS"
      }
    },
    {
      "cell_type": "markdown",
      "source": [
        "Locate the corresponding email in the document [Emails](https://docs.google.com/document/d/1e5TZJ6ILpku8rVdO_ADUwI-lM8SCIh7xG95jrG73INY/edit?usp=sharing)"
      ],
      "metadata": {
        "id": "gLfObLMXLC6q"
      }
    },
    {
      "cell_type": "code",
      "source": [
        "# Double check with user_states data"
      ],
      "metadata": {
        "id": "iVobj8krapGc"
      },
      "execution_count": 21,
      "outputs": []
    },
    {
      "cell_type": "code",
      "source": [
        "survey_meta_manager = pd.read_csv(google_drive_data_path + '/survey_meta_pivot.csv')\n",
        "\n",
        "def get_emails_by_day_count(day_count):\n",
        "    emails = survey_meta_manager[survey_meta_manager['app_day_count'] == day_count]['Email'].tolist()\n",
        "    if emails:\n",
        "        return ','.join(emails)\n",
        "    else:\n",
        "        return None"
      ],
      "metadata": {
        "id": "5Gnj-Ly8WvlC"
      },
      "execution_count": null,
      "outputs": []
    },
    {
      "cell_type": "code",
      "source": [
        "survey_meta_manager.head()"
      ],
      "metadata": {
        "colab": {
          "base_uri": "https://localhost:8080/",
          "height": 206
        },
        "id": "5zCBIMxm0TCY",
        "outputId": "c6780bc4-381a-4cbb-8bf6-e65a6a0930d3"
      },
      "execution_count": null,
      "outputs": [
        {
          "output_type": "execute_result",
          "data": {
            "text/plain": [
              "     PID     survey1  app_day_count                     Email date_invited\n",
              "0  ST011  2024-12-04            6.0       mappscarl@gmail.com   2024-12-04\n",
              "1  ST012  2024-12-04            6.0           djsboca@aol.com   2024-12-04\n",
              "2  ST013  2024-12-04            6.0   santanana2000@yahoo.com   2024-12-04\n",
              "3  ST014  2024-12-04            6.0  sadiesantacruz@gmail.com   2024-12-04\n",
              "4  ST015  2024-12-04            6.0    jimoreno2055@gmail.com   2024-12-04"
            ],
            "text/html": [
              "\n",
              "  <div id=\"df-5f2e0dfd-5aa8-4658-986f-43701af66e17\" class=\"colab-df-container\">\n",
              "    <div>\n",
              "<style scoped>\n",
              "    .dataframe tbody tr th:only-of-type {\n",
              "        vertical-align: middle;\n",
              "    }\n",
              "\n",
              "    .dataframe tbody tr th {\n",
              "        vertical-align: top;\n",
              "    }\n",
              "\n",
              "    .dataframe thead th {\n",
              "        text-align: right;\n",
              "    }\n",
              "</style>\n",
              "<table border=\"1\" class=\"dataframe\">\n",
              "  <thead>\n",
              "    <tr style=\"text-align: right;\">\n",
              "      <th></th>\n",
              "      <th>PID</th>\n",
              "      <th>survey1</th>\n",
              "      <th>app_day_count</th>\n",
              "      <th>Email</th>\n",
              "      <th>date_invited</th>\n",
              "    </tr>\n",
              "  </thead>\n",
              "  <tbody>\n",
              "    <tr>\n",
              "      <th>0</th>\n",
              "      <td>ST011</td>\n",
              "      <td>2024-12-04</td>\n",
              "      <td>6.0</td>\n",
              "      <td>mappscarl@gmail.com</td>\n",
              "      <td>2024-12-04</td>\n",
              "    </tr>\n",
              "    <tr>\n",
              "      <th>1</th>\n",
              "      <td>ST012</td>\n",
              "      <td>2024-12-04</td>\n",
              "      <td>6.0</td>\n",
              "      <td>djsboca@aol.com</td>\n",
              "      <td>2024-12-04</td>\n",
              "    </tr>\n",
              "    <tr>\n",
              "      <th>2</th>\n",
              "      <td>ST013</td>\n",
              "      <td>2024-12-04</td>\n",
              "      <td>6.0</td>\n",
              "      <td>santanana2000@yahoo.com</td>\n",
              "      <td>2024-12-04</td>\n",
              "    </tr>\n",
              "    <tr>\n",
              "      <th>3</th>\n",
              "      <td>ST014</td>\n",
              "      <td>2024-12-04</td>\n",
              "      <td>6.0</td>\n",
              "      <td>sadiesantacruz@gmail.com</td>\n",
              "      <td>2024-12-04</td>\n",
              "    </tr>\n",
              "    <tr>\n",
              "      <th>4</th>\n",
              "      <td>ST015</td>\n",
              "      <td>2024-12-04</td>\n",
              "      <td>6.0</td>\n",
              "      <td>jimoreno2055@gmail.com</td>\n",
              "      <td>2024-12-04</td>\n",
              "    </tr>\n",
              "  </tbody>\n",
              "</table>\n",
              "</div>\n",
              "    <div class=\"colab-df-buttons\">\n",
              "\n",
              "  <div class=\"colab-df-container\">\n",
              "    <button class=\"colab-df-convert\" onclick=\"convertToInteractive('df-5f2e0dfd-5aa8-4658-986f-43701af66e17')\"\n",
              "            title=\"Convert this dataframe to an interactive table.\"\n",
              "            style=\"display:none;\">\n",
              "\n",
              "  <svg xmlns=\"http://www.w3.org/2000/svg\" height=\"24px\" viewBox=\"0 -960 960 960\">\n",
              "    <path d=\"M120-120v-720h720v720H120Zm60-500h600v-160H180v160Zm220 220h160v-160H400v160Zm0 220h160v-160H400v160ZM180-400h160v-160H180v160Zm440 0h160v-160H620v160ZM180-180h160v-160H180v160Zm440 0h160v-160H620v160Z\"/>\n",
              "  </svg>\n",
              "    </button>\n",
              "\n",
              "  <style>\n",
              "    .colab-df-container {\n",
              "      display:flex;\n",
              "      gap: 12px;\n",
              "    }\n",
              "\n",
              "    .colab-df-convert {\n",
              "      background-color: #E8F0FE;\n",
              "      border: none;\n",
              "      border-radius: 50%;\n",
              "      cursor: pointer;\n",
              "      display: none;\n",
              "      fill: #1967D2;\n",
              "      height: 32px;\n",
              "      padding: 0 0 0 0;\n",
              "      width: 32px;\n",
              "    }\n",
              "\n",
              "    .colab-df-convert:hover {\n",
              "      background-color: #E2EBFA;\n",
              "      box-shadow: 0px 1px 2px rgba(60, 64, 67, 0.3), 0px 1px 3px 1px rgba(60, 64, 67, 0.15);\n",
              "      fill: #174EA6;\n",
              "    }\n",
              "\n",
              "    .colab-df-buttons div {\n",
              "      margin-bottom: 4px;\n",
              "    }\n",
              "\n",
              "    [theme=dark] .colab-df-convert {\n",
              "      background-color: #3B4455;\n",
              "      fill: #D2E3FC;\n",
              "    }\n",
              "\n",
              "    [theme=dark] .colab-df-convert:hover {\n",
              "      background-color: #434B5C;\n",
              "      box-shadow: 0px 1px 3px 1px rgba(0, 0, 0, 0.15);\n",
              "      filter: drop-shadow(0px 1px 2px rgba(0, 0, 0, 0.3));\n",
              "      fill: #FFFFFF;\n",
              "    }\n",
              "  </style>\n",
              "\n",
              "    <script>\n",
              "      const buttonEl =\n",
              "        document.querySelector('#df-5f2e0dfd-5aa8-4658-986f-43701af66e17 button.colab-df-convert');\n",
              "      buttonEl.style.display =\n",
              "        google.colab.kernel.accessAllowed ? 'block' : 'none';\n",
              "\n",
              "      async function convertToInteractive(key) {\n",
              "        const element = document.querySelector('#df-5f2e0dfd-5aa8-4658-986f-43701af66e17');\n",
              "        const dataTable =\n",
              "          await google.colab.kernel.invokeFunction('convertToInteractive',\n",
              "                                                    [key], {});\n",
              "        if (!dataTable) return;\n",
              "\n",
              "        const docLinkHtml = 'Like what you see? Visit the ' +\n",
              "          '<a target=\"_blank\" href=https://colab.research.google.com/notebooks/data_table.ipynb>data table notebook</a>'\n",
              "          + ' to learn more about interactive tables.';\n",
              "        element.innerHTML = '';\n",
              "        dataTable['output_type'] = 'display_data';\n",
              "        await google.colab.output.renderOutput(dataTable, element);\n",
              "        const docLink = document.createElement('div');\n",
              "        docLink.innerHTML = docLinkHtml;\n",
              "        element.appendChild(docLink);\n",
              "      }\n",
              "    </script>\n",
              "  </div>\n",
              "\n",
              "\n",
              "<div id=\"df-900e46be-002d-403b-8540-677d5d69ba4c\">\n",
              "  <button class=\"colab-df-quickchart\" onclick=\"quickchart('df-900e46be-002d-403b-8540-677d5d69ba4c')\"\n",
              "            title=\"Suggest charts\"\n",
              "            style=\"display:none;\">\n",
              "\n",
              "<svg xmlns=\"http://www.w3.org/2000/svg\" height=\"24px\"viewBox=\"0 0 24 24\"\n",
              "     width=\"24px\">\n",
              "    <g>\n",
              "        <path d=\"M19 3H5c-1.1 0-2 .9-2 2v14c0 1.1.9 2 2 2h14c1.1 0 2-.9 2-2V5c0-1.1-.9-2-2-2zM9 17H7v-7h2v7zm4 0h-2V7h2v10zm4 0h-2v-4h2v4z\"/>\n",
              "    </g>\n",
              "</svg>\n",
              "  </button>\n",
              "\n",
              "<style>\n",
              "  .colab-df-quickchart {\n",
              "      --bg-color: #E8F0FE;\n",
              "      --fill-color: #1967D2;\n",
              "      --hover-bg-color: #E2EBFA;\n",
              "      --hover-fill-color: #174EA6;\n",
              "      --disabled-fill-color: #AAA;\n",
              "      --disabled-bg-color: #DDD;\n",
              "  }\n",
              "\n",
              "  [theme=dark] .colab-df-quickchart {\n",
              "      --bg-color: #3B4455;\n",
              "      --fill-color: #D2E3FC;\n",
              "      --hover-bg-color: #434B5C;\n",
              "      --hover-fill-color: #FFFFFF;\n",
              "      --disabled-bg-color: #3B4455;\n",
              "      --disabled-fill-color: #666;\n",
              "  }\n",
              "\n",
              "  .colab-df-quickchart {\n",
              "    background-color: var(--bg-color);\n",
              "    border: none;\n",
              "    border-radius: 50%;\n",
              "    cursor: pointer;\n",
              "    display: none;\n",
              "    fill: var(--fill-color);\n",
              "    height: 32px;\n",
              "    padding: 0;\n",
              "    width: 32px;\n",
              "  }\n",
              "\n",
              "  .colab-df-quickchart:hover {\n",
              "    background-color: var(--hover-bg-color);\n",
              "    box-shadow: 0 1px 2px rgba(60, 64, 67, 0.3), 0 1px 3px 1px rgba(60, 64, 67, 0.15);\n",
              "    fill: var(--button-hover-fill-color);\n",
              "  }\n",
              "\n",
              "  .colab-df-quickchart-complete:disabled,\n",
              "  .colab-df-quickchart-complete:disabled:hover {\n",
              "    background-color: var(--disabled-bg-color);\n",
              "    fill: var(--disabled-fill-color);\n",
              "    box-shadow: none;\n",
              "  }\n",
              "\n",
              "  .colab-df-spinner {\n",
              "    border: 2px solid var(--fill-color);\n",
              "    border-color: transparent;\n",
              "    border-bottom-color: var(--fill-color);\n",
              "    animation:\n",
              "      spin 1s steps(1) infinite;\n",
              "  }\n",
              "\n",
              "  @keyframes spin {\n",
              "    0% {\n",
              "      border-color: transparent;\n",
              "      border-bottom-color: var(--fill-color);\n",
              "      border-left-color: var(--fill-color);\n",
              "    }\n",
              "    20% {\n",
              "      border-color: transparent;\n",
              "      border-left-color: var(--fill-color);\n",
              "      border-top-color: var(--fill-color);\n",
              "    }\n",
              "    30% {\n",
              "      border-color: transparent;\n",
              "      border-left-color: var(--fill-color);\n",
              "      border-top-color: var(--fill-color);\n",
              "      border-right-color: var(--fill-color);\n",
              "    }\n",
              "    40% {\n",
              "      border-color: transparent;\n",
              "      border-right-color: var(--fill-color);\n",
              "      border-top-color: var(--fill-color);\n",
              "    }\n",
              "    60% {\n",
              "      border-color: transparent;\n",
              "      border-right-color: var(--fill-color);\n",
              "    }\n",
              "    80% {\n",
              "      border-color: transparent;\n",
              "      border-right-color: var(--fill-color);\n",
              "      border-bottom-color: var(--fill-color);\n",
              "    }\n",
              "    90% {\n",
              "      border-color: transparent;\n",
              "      border-bottom-color: var(--fill-color);\n",
              "    }\n",
              "  }\n",
              "</style>\n",
              "\n",
              "  <script>\n",
              "    async function quickchart(key) {\n",
              "      const quickchartButtonEl =\n",
              "        document.querySelector('#' + key + ' button');\n",
              "      quickchartButtonEl.disabled = true;  // To prevent multiple clicks.\n",
              "      quickchartButtonEl.classList.add('colab-df-spinner');\n",
              "      try {\n",
              "        const charts = await google.colab.kernel.invokeFunction(\n",
              "            'suggestCharts', [key], {});\n",
              "      } catch (error) {\n",
              "        console.error('Error during call to suggestCharts:', error);\n",
              "      }\n",
              "      quickchartButtonEl.classList.remove('colab-df-spinner');\n",
              "      quickchartButtonEl.classList.add('colab-df-quickchart-complete');\n",
              "    }\n",
              "    (() => {\n",
              "      let quickchartButtonEl =\n",
              "        document.querySelector('#df-900e46be-002d-403b-8540-677d5d69ba4c button');\n",
              "      quickchartButtonEl.style.display =\n",
              "        google.colab.kernel.accessAllowed ? 'block' : 'none';\n",
              "    })();\n",
              "  </script>\n",
              "</div>\n",
              "\n",
              "    </div>\n",
              "  </div>\n"
            ],
            "application/vnd.google.colaboratory.intrinsic+json": {
              "type": "dataframe",
              "variable_name": "survey_meta_manager",
              "summary": "{\n  \"name\": \"survey_meta_manager\",\n  \"rows\": 49,\n  \"fields\": [\n    {\n      \"column\": \"PID\",\n      \"properties\": {\n        \"dtype\": \"string\",\n        \"num_unique_values\": 49,\n        \"samples\": [\n          \"ST034\",\n          \"ST052\",\n          \"ST058\"\n        ],\n        \"semantic_type\": \"\",\n        \"description\": \"\"\n      }\n    },\n    {\n      \"column\": \"survey1\",\n      \"properties\": {\n        \"dtype\": \"object\",\n        \"num_unique_values\": 6,\n        \"samples\": [\n          \"2024-12-04\",\n          \"2024-12-05\",\n          \"2024-12-09\"\n        ],\n        \"semantic_type\": \"\",\n        \"description\": \"\"\n      }\n    },\n    {\n      \"column\": \"app_day_count\",\n      \"properties\": {\n        \"dtype\": \"number\",\n        \"std\": 1.5787629627314204,\n        \"min\": 1.0,\n        \"max\": 6.0,\n        \"num_unique_values\": 6,\n        \"samples\": [\n          6.0,\n          5.0,\n          1.0\n        ],\n        \"semantic_type\": \"\",\n        \"description\": \"\"\n      }\n    },\n    {\n      \"column\": \"Email\",\n      \"properties\": {\n        \"dtype\": \"string\",\n        \"num_unique_values\": 49,\n        \"samples\": [\n          \"peacepulisic1@gmail.com\",\n          \"finplan65@yahoo.com\",\n          \"reevawebb@yahoo.com\"\n        ],\n        \"semantic_type\": \"\",\n        \"description\": \"\"\n      }\n    },\n    {\n      \"column\": \"date_invited\",\n      \"properties\": {\n        \"dtype\": \"object\",\n        \"num_unique_values\": 5,\n        \"samples\": [\n          \"2024-12-05\",\n          \"2024-12-09\",\n          \"2024-12-07\"\n        ],\n        \"semantic_type\": \"\",\n        \"description\": \"\"\n      }\n    }\n  ]\n}"
            }
          },
          "metadata": {},
          "execution_count": 36
        }
      ]
    },
    {
      "cell_type": "markdown",
      "source": [
        "### Week 1 completion"
      ],
      "metadata": {
        "id": "ojA0MPE20e-z"
      }
    },
    {
      "cell_type": "code",
      "source": [
        "# filter those day_count is 7\n",
        "emails = get_emails_by_day_count(7)\n",
        "print(emails)"
      ],
      "metadata": {
        "id": "Y4P-gZgi0pQk",
        "colab": {
          "base_uri": "https://localhost:8080/"
        },
        "outputId": "4dc5cee1-b02f-42ff-ba50-543fd966f97a"
      },
      "execution_count": null,
      "outputs": [
        {
          "output_type": "stream",
          "name": "stdout",
          "text": [
            "None\n"
          ]
        }
      ]
    },
    {
      "cell_type": "markdown",
      "source": [
        "### Week 2 completion"
      ],
      "metadata": {
        "id": "QWnH2Zud0exL"
      }
    },
    {
      "cell_type": "code",
      "source": [
        "# filter those day_count is 14\n",
        "emails = get_emails_by_day_count(14)\n",
        "print(emails)"
      ],
      "metadata": {
        "colab": {
          "base_uri": "https://localhost:8080/"
        },
        "id": "CIXdomrCXEFg",
        "outputId": "fc6c0c1e-97f0-4184-daed-96712d412228"
      },
      "execution_count": null,
      "outputs": [
        {
          "output_type": "stream",
          "name": "stdout",
          "text": [
            "None\n"
          ]
        }
      ]
    },
    {
      "cell_type": "markdown",
      "source": [
        "### Week 3 completion"
      ],
      "metadata": {
        "id": "nrXxVuNI0ep5"
      }
    },
    {
      "cell_type": "code",
      "source": [
        "# filter those day_count is 21\n",
        "emails = get_emails_by_day_count(21)\n",
        "print(emails)"
      ],
      "metadata": {
        "colab": {
          "base_uri": "https://localhost:8080/"
        },
        "id": "Q9Zx5vq2XEaB",
        "outputId": "48f494aa-fe4c-4a52-fcb3-27ff63e0f57a"
      },
      "execution_count": null,
      "outputs": [
        {
          "output_type": "stream",
          "name": "stdout",
          "text": [
            "None\n"
          ]
        }
      ]
    },
    {
      "cell_type": "markdown",
      "source": [
        "### Daily reminder"
      ],
      "metadata": {
        "id": "ZSKaRnMO0eUi"
      }
    },
    {
      "cell_type": "code",
      "source": [
        "# if there is an available survey awaiting\n",
        "# Create four columns with initial 'unavailable' status\n",
        "survey_meta_manager['survey1_status'] = 'unavailable'\n",
        "survey_meta_manager['survey2_status'] = 'unavailable'\n",
        "survey_meta_manager['survey3_status'] = 'unavailable'\n",
        "survey_meta_manager['survey4_status'] = 'unavailable'\n",
        "\n",
        "# Update status to 'complete' if there's a date in the survey columns\n",
        "# Check if the column exists before accessing it\n",
        "for i in range(1, 5):\n",
        "    survey_col = f'survey{i}'\n",
        "    status_col = f'{survey_col}_status'\n",
        "    if survey_col in survey_meta_manager.columns:  # Check if column exists\n",
        "        survey_meta_manager[status_col] = np.where(survey_meta_manager[survey_col].notna(), 'complete', survey_meta_manager[status_col])\n",
        "\n",
        "# Update status to 'available' if survey is NA and day_count exceeds the threshold\n",
        "thresholds = [6, 13, 20]\n",
        "for i, col in enumerate(['survey2', 'survey3', 'survey4'], start=2):\n",
        "    status_col = f'{col}_status'\n",
        "    if col in survey_meta_manager.columns:  # Check if column exists\n",
        "        survey_meta_manager[status_col] = np.where(\n",
        "            (survey_meta_manager[col].isna()) & (survey_meta_manager['app_day_count'] > thresholds[i-2]),\n",
        "            'available',\n",
        "            survey_meta_manager[status_col]\n",
        "        )\n",
        "\n",
        "# Save the updated DataFrame\n",
        "print(\"The shape of the dataframe is: \", survey_meta_manager.shape)\n",
        "survey_meta_manager.to_csv(google_drive_data_path + '/survey_meta_manager.csv', index=False)"
      ],
      "metadata": {
        "colab": {
          "base_uri": "https://localhost:8080/"
        },
        "id": "qPZeroGt0kOa",
        "outputId": "62b872ee-dddb-43f2-9e21-ff1cda5f6a47"
      },
      "execution_count": null,
      "outputs": [
        {
          "output_type": "stream",
          "name": "stdout",
          "text": [
            "The shape of the dataframe is:  (49, 9)\n"
          ]
        }
      ]
    },
    {
      "cell_type": "code",
      "source": [
        "survey_meta_manager.head()"
      ],
      "metadata": {
        "colab": {
          "base_uri": "https://localhost:8080/",
          "height": 206
        },
        "id": "Vt8dE2w60wHj",
        "outputId": "2cd4ffac-ede9-44ed-f692-0b441ade6d40"
      },
      "execution_count": null,
      "outputs": [
        {
          "output_type": "execute_result",
          "data": {
            "text/plain": [
              "     PID     survey1  app_day_count                     Email date_invited  \\\n",
              "0  ST011  2024-12-04            6.0       mappscarl@gmail.com   2024-12-04   \n",
              "1  ST012  2024-12-04            6.0           djsboca@aol.com   2024-12-04   \n",
              "2  ST013  2024-12-04            6.0   santanana2000@yahoo.com   2024-12-04   \n",
              "3  ST014  2024-12-04            6.0  sadiesantacruz@gmail.com   2024-12-04   \n",
              "4  ST015  2024-12-04            6.0    jimoreno2055@gmail.com   2024-12-04   \n",
              "\n",
              "  survey1_status survey2_status survey3_status survey4_status  \n",
              "0       complete    unavailable    unavailable    unavailable  \n",
              "1       complete    unavailable    unavailable    unavailable  \n",
              "2       complete    unavailable    unavailable    unavailable  \n",
              "3       complete    unavailable    unavailable    unavailable  \n",
              "4       complete    unavailable    unavailable    unavailable  "
            ],
            "text/html": [
              "\n",
              "  <div id=\"df-7138e8bb-fbe1-4816-9c63-c41b05d13650\" class=\"colab-df-container\">\n",
              "    <div>\n",
              "<style scoped>\n",
              "    .dataframe tbody tr th:only-of-type {\n",
              "        vertical-align: middle;\n",
              "    }\n",
              "\n",
              "    .dataframe tbody tr th {\n",
              "        vertical-align: top;\n",
              "    }\n",
              "\n",
              "    .dataframe thead th {\n",
              "        text-align: right;\n",
              "    }\n",
              "</style>\n",
              "<table border=\"1\" class=\"dataframe\">\n",
              "  <thead>\n",
              "    <tr style=\"text-align: right;\">\n",
              "      <th></th>\n",
              "      <th>PID</th>\n",
              "      <th>survey1</th>\n",
              "      <th>app_day_count</th>\n",
              "      <th>Email</th>\n",
              "      <th>date_invited</th>\n",
              "      <th>survey1_status</th>\n",
              "      <th>survey2_status</th>\n",
              "      <th>survey3_status</th>\n",
              "      <th>survey4_status</th>\n",
              "    </tr>\n",
              "  </thead>\n",
              "  <tbody>\n",
              "    <tr>\n",
              "      <th>0</th>\n",
              "      <td>ST011</td>\n",
              "      <td>2024-12-04</td>\n",
              "      <td>6.0</td>\n",
              "      <td>mappscarl@gmail.com</td>\n",
              "      <td>2024-12-04</td>\n",
              "      <td>complete</td>\n",
              "      <td>unavailable</td>\n",
              "      <td>unavailable</td>\n",
              "      <td>unavailable</td>\n",
              "    </tr>\n",
              "    <tr>\n",
              "      <th>1</th>\n",
              "      <td>ST012</td>\n",
              "      <td>2024-12-04</td>\n",
              "      <td>6.0</td>\n",
              "      <td>djsboca@aol.com</td>\n",
              "      <td>2024-12-04</td>\n",
              "      <td>complete</td>\n",
              "      <td>unavailable</td>\n",
              "      <td>unavailable</td>\n",
              "      <td>unavailable</td>\n",
              "    </tr>\n",
              "    <tr>\n",
              "      <th>2</th>\n",
              "      <td>ST013</td>\n",
              "      <td>2024-12-04</td>\n",
              "      <td>6.0</td>\n",
              "      <td>santanana2000@yahoo.com</td>\n",
              "      <td>2024-12-04</td>\n",
              "      <td>complete</td>\n",
              "      <td>unavailable</td>\n",
              "      <td>unavailable</td>\n",
              "      <td>unavailable</td>\n",
              "    </tr>\n",
              "    <tr>\n",
              "      <th>3</th>\n",
              "      <td>ST014</td>\n",
              "      <td>2024-12-04</td>\n",
              "      <td>6.0</td>\n",
              "      <td>sadiesantacruz@gmail.com</td>\n",
              "      <td>2024-12-04</td>\n",
              "      <td>complete</td>\n",
              "      <td>unavailable</td>\n",
              "      <td>unavailable</td>\n",
              "      <td>unavailable</td>\n",
              "    </tr>\n",
              "    <tr>\n",
              "      <th>4</th>\n",
              "      <td>ST015</td>\n",
              "      <td>2024-12-04</td>\n",
              "      <td>6.0</td>\n",
              "      <td>jimoreno2055@gmail.com</td>\n",
              "      <td>2024-12-04</td>\n",
              "      <td>complete</td>\n",
              "      <td>unavailable</td>\n",
              "      <td>unavailable</td>\n",
              "      <td>unavailable</td>\n",
              "    </tr>\n",
              "  </tbody>\n",
              "</table>\n",
              "</div>\n",
              "    <div class=\"colab-df-buttons\">\n",
              "\n",
              "  <div class=\"colab-df-container\">\n",
              "    <button class=\"colab-df-convert\" onclick=\"convertToInteractive('df-7138e8bb-fbe1-4816-9c63-c41b05d13650')\"\n",
              "            title=\"Convert this dataframe to an interactive table.\"\n",
              "            style=\"display:none;\">\n",
              "\n",
              "  <svg xmlns=\"http://www.w3.org/2000/svg\" height=\"24px\" viewBox=\"0 -960 960 960\">\n",
              "    <path d=\"M120-120v-720h720v720H120Zm60-500h600v-160H180v160Zm220 220h160v-160H400v160Zm0 220h160v-160H400v160ZM180-400h160v-160H180v160Zm440 0h160v-160H620v160ZM180-180h160v-160H180v160Zm440 0h160v-160H620v160Z\"/>\n",
              "  </svg>\n",
              "    </button>\n",
              "\n",
              "  <style>\n",
              "    .colab-df-container {\n",
              "      display:flex;\n",
              "      gap: 12px;\n",
              "    }\n",
              "\n",
              "    .colab-df-convert {\n",
              "      background-color: #E8F0FE;\n",
              "      border: none;\n",
              "      border-radius: 50%;\n",
              "      cursor: pointer;\n",
              "      display: none;\n",
              "      fill: #1967D2;\n",
              "      height: 32px;\n",
              "      padding: 0 0 0 0;\n",
              "      width: 32px;\n",
              "    }\n",
              "\n",
              "    .colab-df-convert:hover {\n",
              "      background-color: #E2EBFA;\n",
              "      box-shadow: 0px 1px 2px rgba(60, 64, 67, 0.3), 0px 1px 3px 1px rgba(60, 64, 67, 0.15);\n",
              "      fill: #174EA6;\n",
              "    }\n",
              "\n",
              "    .colab-df-buttons div {\n",
              "      margin-bottom: 4px;\n",
              "    }\n",
              "\n",
              "    [theme=dark] .colab-df-convert {\n",
              "      background-color: #3B4455;\n",
              "      fill: #D2E3FC;\n",
              "    }\n",
              "\n",
              "    [theme=dark] .colab-df-convert:hover {\n",
              "      background-color: #434B5C;\n",
              "      box-shadow: 0px 1px 3px 1px rgba(0, 0, 0, 0.15);\n",
              "      filter: drop-shadow(0px 1px 2px rgba(0, 0, 0, 0.3));\n",
              "      fill: #FFFFFF;\n",
              "    }\n",
              "  </style>\n",
              "\n",
              "    <script>\n",
              "      const buttonEl =\n",
              "        document.querySelector('#df-7138e8bb-fbe1-4816-9c63-c41b05d13650 button.colab-df-convert');\n",
              "      buttonEl.style.display =\n",
              "        google.colab.kernel.accessAllowed ? 'block' : 'none';\n",
              "\n",
              "      async function convertToInteractive(key) {\n",
              "        const element = document.querySelector('#df-7138e8bb-fbe1-4816-9c63-c41b05d13650');\n",
              "        const dataTable =\n",
              "          await google.colab.kernel.invokeFunction('convertToInteractive',\n",
              "                                                    [key], {});\n",
              "        if (!dataTable) return;\n",
              "\n",
              "        const docLinkHtml = 'Like what you see? Visit the ' +\n",
              "          '<a target=\"_blank\" href=https://colab.research.google.com/notebooks/data_table.ipynb>data table notebook</a>'\n",
              "          + ' to learn more about interactive tables.';\n",
              "        element.innerHTML = '';\n",
              "        dataTable['output_type'] = 'display_data';\n",
              "        await google.colab.output.renderOutput(dataTable, element);\n",
              "        const docLink = document.createElement('div');\n",
              "        docLink.innerHTML = docLinkHtml;\n",
              "        element.appendChild(docLink);\n",
              "      }\n",
              "    </script>\n",
              "  </div>\n",
              "\n",
              "\n",
              "<div id=\"df-8152765b-9ff8-4878-9d6a-2f6991f8b948\">\n",
              "  <button class=\"colab-df-quickchart\" onclick=\"quickchart('df-8152765b-9ff8-4878-9d6a-2f6991f8b948')\"\n",
              "            title=\"Suggest charts\"\n",
              "            style=\"display:none;\">\n",
              "\n",
              "<svg xmlns=\"http://www.w3.org/2000/svg\" height=\"24px\"viewBox=\"0 0 24 24\"\n",
              "     width=\"24px\">\n",
              "    <g>\n",
              "        <path d=\"M19 3H5c-1.1 0-2 .9-2 2v14c0 1.1.9 2 2 2h14c1.1 0 2-.9 2-2V5c0-1.1-.9-2-2-2zM9 17H7v-7h2v7zm4 0h-2V7h2v10zm4 0h-2v-4h2v4z\"/>\n",
              "    </g>\n",
              "</svg>\n",
              "  </button>\n",
              "\n",
              "<style>\n",
              "  .colab-df-quickchart {\n",
              "      --bg-color: #E8F0FE;\n",
              "      --fill-color: #1967D2;\n",
              "      --hover-bg-color: #E2EBFA;\n",
              "      --hover-fill-color: #174EA6;\n",
              "      --disabled-fill-color: #AAA;\n",
              "      --disabled-bg-color: #DDD;\n",
              "  }\n",
              "\n",
              "  [theme=dark] .colab-df-quickchart {\n",
              "      --bg-color: #3B4455;\n",
              "      --fill-color: #D2E3FC;\n",
              "      --hover-bg-color: #434B5C;\n",
              "      --hover-fill-color: #FFFFFF;\n",
              "      --disabled-bg-color: #3B4455;\n",
              "      --disabled-fill-color: #666;\n",
              "  }\n",
              "\n",
              "  .colab-df-quickchart {\n",
              "    background-color: var(--bg-color);\n",
              "    border: none;\n",
              "    border-radius: 50%;\n",
              "    cursor: pointer;\n",
              "    display: none;\n",
              "    fill: var(--fill-color);\n",
              "    height: 32px;\n",
              "    padding: 0;\n",
              "    width: 32px;\n",
              "  }\n",
              "\n",
              "  .colab-df-quickchart:hover {\n",
              "    background-color: var(--hover-bg-color);\n",
              "    box-shadow: 0 1px 2px rgba(60, 64, 67, 0.3), 0 1px 3px 1px rgba(60, 64, 67, 0.15);\n",
              "    fill: var(--button-hover-fill-color);\n",
              "  }\n",
              "\n",
              "  .colab-df-quickchart-complete:disabled,\n",
              "  .colab-df-quickchart-complete:disabled:hover {\n",
              "    background-color: var(--disabled-bg-color);\n",
              "    fill: var(--disabled-fill-color);\n",
              "    box-shadow: none;\n",
              "  }\n",
              "\n",
              "  .colab-df-spinner {\n",
              "    border: 2px solid var(--fill-color);\n",
              "    border-color: transparent;\n",
              "    border-bottom-color: var(--fill-color);\n",
              "    animation:\n",
              "      spin 1s steps(1) infinite;\n",
              "  }\n",
              "\n",
              "  @keyframes spin {\n",
              "    0% {\n",
              "      border-color: transparent;\n",
              "      border-bottom-color: var(--fill-color);\n",
              "      border-left-color: var(--fill-color);\n",
              "    }\n",
              "    20% {\n",
              "      border-color: transparent;\n",
              "      border-left-color: var(--fill-color);\n",
              "      border-top-color: var(--fill-color);\n",
              "    }\n",
              "    30% {\n",
              "      border-color: transparent;\n",
              "      border-left-color: var(--fill-color);\n",
              "      border-top-color: var(--fill-color);\n",
              "      border-right-color: var(--fill-color);\n",
              "    }\n",
              "    40% {\n",
              "      border-color: transparent;\n",
              "      border-right-color: var(--fill-color);\n",
              "      border-top-color: var(--fill-color);\n",
              "    }\n",
              "    60% {\n",
              "      border-color: transparent;\n",
              "      border-right-color: var(--fill-color);\n",
              "    }\n",
              "    80% {\n",
              "      border-color: transparent;\n",
              "      border-right-color: var(--fill-color);\n",
              "      border-bottom-color: var(--fill-color);\n",
              "    }\n",
              "    90% {\n",
              "      border-color: transparent;\n",
              "      border-bottom-color: var(--fill-color);\n",
              "    }\n",
              "  }\n",
              "</style>\n",
              "\n",
              "  <script>\n",
              "    async function quickchart(key) {\n",
              "      const quickchartButtonEl =\n",
              "        document.querySelector('#' + key + ' button');\n",
              "      quickchartButtonEl.disabled = true;  // To prevent multiple clicks.\n",
              "      quickchartButtonEl.classList.add('colab-df-spinner');\n",
              "      try {\n",
              "        const charts = await google.colab.kernel.invokeFunction(\n",
              "            'suggestCharts', [key], {});\n",
              "      } catch (error) {\n",
              "        console.error('Error during call to suggestCharts:', error);\n",
              "      }\n",
              "      quickchartButtonEl.classList.remove('colab-df-spinner');\n",
              "      quickchartButtonEl.classList.add('colab-df-quickchart-complete');\n",
              "    }\n",
              "    (() => {\n",
              "      let quickchartButtonEl =\n",
              "        document.querySelector('#df-8152765b-9ff8-4878-9d6a-2f6991f8b948 button');\n",
              "      quickchartButtonEl.style.display =\n",
              "        google.colab.kernel.accessAllowed ? 'block' : 'none';\n",
              "    })();\n",
              "  </script>\n",
              "</div>\n",
              "\n",
              "    </div>\n",
              "  </div>\n"
            ],
            "application/vnd.google.colaboratory.intrinsic+json": {
              "type": "dataframe",
              "variable_name": "survey_meta_manager",
              "summary": "{\n  \"name\": \"survey_meta_manager\",\n  \"rows\": 49,\n  \"fields\": [\n    {\n      \"column\": \"PID\",\n      \"properties\": {\n        \"dtype\": \"string\",\n        \"num_unique_values\": 49,\n        \"samples\": [\n          \"ST034\",\n          \"ST052\",\n          \"ST058\"\n        ],\n        \"semantic_type\": \"\",\n        \"description\": \"\"\n      }\n    },\n    {\n      \"column\": \"survey1\",\n      \"properties\": {\n        \"dtype\": \"object\",\n        \"num_unique_values\": 6,\n        \"samples\": [\n          \"2024-12-04\",\n          \"2024-12-05\",\n          \"2024-12-09\"\n        ],\n        \"semantic_type\": \"\",\n        \"description\": \"\"\n      }\n    },\n    {\n      \"column\": \"app_day_count\",\n      \"properties\": {\n        \"dtype\": \"number\",\n        \"std\": 1.5787629627314204,\n        \"min\": 1.0,\n        \"max\": 6.0,\n        \"num_unique_values\": 6,\n        \"samples\": [\n          6.0,\n          5.0,\n          1.0\n        ],\n        \"semantic_type\": \"\",\n        \"description\": \"\"\n      }\n    },\n    {\n      \"column\": \"Email\",\n      \"properties\": {\n        \"dtype\": \"string\",\n        \"num_unique_values\": 49,\n        \"samples\": [\n          \"peacepulisic1@gmail.com\",\n          \"finplan65@yahoo.com\",\n          \"reevawebb@yahoo.com\"\n        ],\n        \"semantic_type\": \"\",\n        \"description\": \"\"\n      }\n    },\n    {\n      \"column\": \"date_invited\",\n      \"properties\": {\n        \"dtype\": \"object\",\n        \"num_unique_values\": 5,\n        \"samples\": [\n          \"2024-12-05\",\n          \"2024-12-09\",\n          \"2024-12-07\"\n        ],\n        \"semantic_type\": \"\",\n        \"description\": \"\"\n      }\n    },\n    {\n      \"column\": \"survey1_status\",\n      \"properties\": {\n        \"dtype\": \"category\",\n        \"num_unique_values\": 2,\n        \"samples\": [\n          \"unavailable\",\n          \"complete\"\n        ],\n        \"semantic_type\": \"\",\n        \"description\": \"\"\n      }\n    },\n    {\n      \"column\": \"survey2_status\",\n      \"properties\": {\n        \"dtype\": \"category\",\n        \"num_unique_values\": 1,\n        \"samples\": [\n          \"unavailable\"\n        ],\n        \"semantic_type\": \"\",\n        \"description\": \"\"\n      }\n    },\n    {\n      \"column\": \"survey3_status\",\n      \"properties\": {\n        \"dtype\": \"category\",\n        \"num_unique_values\": 1,\n        \"samples\": [\n          \"unavailable\"\n        ],\n        \"semantic_type\": \"\",\n        \"description\": \"\"\n      }\n    },\n    {\n      \"column\": \"survey4_status\",\n      \"properties\": {\n        \"dtype\": \"category\",\n        \"num_unique_values\": 1,\n        \"samples\": [\n          \"unavailable\"\n        ],\n        \"semantic_type\": \"\",\n        \"description\": \"\"\n      }\n    }\n  ]\n}"
            }
          },
          "metadata": {},
          "execution_count": 41
        }
      ]
    },
    {
      "cell_type": "code",
      "source": [
        "# Get emails for participants with at least one 'available' survey\n",
        "target_participants = survey_meta_manager[(survey_meta_manager['survey2_status'] == 'available') |\n",
        "                                          (survey_meta_manager['survey3_status'] == 'available') |\n",
        "                                          (survey_meta_manager['survey4_status'] == 'available')]\n",
        "email_list = target_participants['Email'].tolist()\n",
        "print(','.join(email_list) or 'None')"
      ],
      "metadata": {
        "colab": {
          "base_uri": "https://localhost:8080/"
        },
        "id": "4-uTbyU8dZT6",
        "outputId": "242a7cf5-3379-4ab5-a809-a53f5cef4b69"
      },
      "execution_count": null,
      "outputs": [
        {
          "output_type": "stream",
          "name": "stdout",
          "text": [
            "None\n"
          ]
        }
      ]
    },
    {
      "cell_type": "markdown",
      "source": [
        "### Drop out notification"
      ],
      "metadata": {
        "id": "jRTSFjyIM5F6"
      }
    },
    {
      "cell_type": "code",
      "source": [
        "# If a survey is unanswered for seven days, send out a drop-out notification"
      ],
      "metadata": {
        "id": "a86pWV1cNFbZ"
      },
      "execution_count": null,
      "outputs": []
    },
    {
      "cell_type": "code",
      "source": [
        "# If for three consecutive days, data is not coming through"
      ],
      "metadata": {
        "id": "8VvPssuEVQpX"
      },
      "execution_count": null,
      "outputs": []
    },
    {
      "cell_type": "markdown",
      "source": [
        "## Participants from Janel"
      ],
      "metadata": {
        "id": "dN45CgfZWGzC"
      }
    },
    {
      "cell_type": "code",
      "source": [
        "sign_up_data = pd.read_excel(google_drive_data_path + '/signup_survey_data_processed_combined.xlsx')\n",
        "# prompt: filter where sourse == Janel Rana\n",
        "\n",
        "# Assuming 'sourse' is a column in your sign_up_data DataFrame\n",
        "filtered_sign_up_data = sign_up_data[sign_up_data['Source'] == 'Janel Rana']\n",
        "\n",
        "filtered_sign_up_data = filtered_sign_up_data[['Name','Email','Recruit','Note']]\n",
        "# prompt: In filtered_sign_up_data, create a new column \"recruited?\" from \"Recruit\": 1-> yes, 0->'will not', others -> 'TBD'\n",
        "\n",
        "# Create the 'recruited?' column based on the 'Recruit' column\n",
        "filtered_sign_up_data['recruited?'] = filtered_sign_up_data['Recruit'].map({\n",
        "    1: 'yes',\n",
        "    0: 'will not'\n",
        "})\n",
        "filtered_sign_up_data['recruited?'] = filtered_sign_up_data['recruited?'].fillna('TBD')"
      ],
      "metadata": {
        "id": "gAc7XrTEWJ_u"
      },
      "execution_count": null,
      "outputs": []
    },
    {
      "cell_type": "code",
      "source": [
        "Janel_noted_ID = \"17oIsLJ4GL5xK5SLQlc2tQ2NGZfuUw4AjWqCy2nC6jd0\"\n",
        "janel_noted_data = get_sheet_as_df(Janel_noted_ID)\n",
        "participant_manager = pd.read_csv(google_drive_data_path + '/participant_manager.csv')\n",
        "\n",
        "# prompt: In janel_noted_data and participant_manager, change values in Email all to lower case\n",
        "\n",
        "# 0. lower case Email in both files\n",
        "janel_noted_data['Email'] = janel_noted_data['Email'].str.lower()\n",
        "participant_manager['Email'] = participant_manager['Email'].str.lower()\n",
        "# Filter filtered_sign_up_data where Email does not exist in janel_noted_data\n",
        "filtered_df = filtered_sign_up_data[~filtered_sign_up_data['Email'].isin(janel_noted_data['Email'])]\n",
        "\n",
        "# Get columns present in janel_noted_data but missing in filtered_df\n",
        "missing_cols = list(set(janel_noted_data.columns) - set(filtered_df.columns))\n",
        "\n",
        "# Create missing columns in filtered_df and fill with NaN\n",
        "for col in missing_cols:\n",
        "    filtered_df[col] = float('nan')\n",
        "\n",
        "# Now you can safely concatenate\n",
        "combined_df = pd.concat([janel_noted_data, filtered_df[janel_noted_data.columns]], ignore_index=True)\n",
        "\n",
        "lasted_status = participant_manager[['Email','1208']]\n",
        "\n",
        "# prompt: merge lasted_status to combined_df by Email, how = left\n",
        "\n",
        "combined_df = pd.merge(combined_df, lasted_status, on='Email', how='left')\n",
        "\n",
        "# prompt: in combined_df, if recuited? = 'yes', update the value in 'note' from '1208'\n",
        "\n",
        "# Update 'note' column based on 'recruited?' column\n",
        "combined_df.loc[combined_df['recruited?'] == 'yes', 'note'] = combined_df.loc[combined_df['recruited?'] == 'yes', '1208']\n",
        "\n",
        "# prompt: drop column '1208'\n",
        "\n",
        "combined_df = combined_df.drop(columns=['1208'], errors='ignore')"
      ],
      "metadata": {
        "id": "VYpgpNFxZkq4"
      },
      "execution_count": null,
      "outputs": []
    },
    {
      "cell_type": "code",
      "source": [
        "success = write_df_to_sheet(combined_df, Janel_noted_ID)"
      ],
      "metadata": {
        "colab": {
          "base_uri": "https://localhost:8080/"
        },
        "id": "hZN6qqBcf2gm",
        "outputId": "880120cc-5270-410e-c717-7fafbb3401c5"
      },
      "execution_count": null,
      "outputs": [
        {
          "output_type": "stream",
          "name": "stdout",
          "text": [
            "Data successfully written to sheet\n"
          ]
        }
      ]
    },
    {
      "cell_type": "code",
      "source": [
        "def write_df_to_sheet(df, spreadsheet_id):\n",
        "    \"\"\"\n",
        "    Write DataFrame to Google Sheet with handling for special float values\n",
        "    \"\"\"\n",
        "    try:\n",
        "        # Make a copy to avoid modifying original DataFrame\n",
        "        df_clean = df.copy()\n",
        "\n",
        "        # Replace problematic values\n",
        "        df_clean = df_clean.replace([np.inf, -np.inf], 'Infinity')  # Handle infinity\n",
        "        df_clean = df_clean.fillna('')  # Replace NaN with empty string\n",
        "\n",
        "        # Open the spreadsheet\n",
        "        spreadsheet = gc.open_by_key(spreadsheet_id)\n",
        "        worksheet = spreadsheet.sheet1\n",
        "\n",
        "        # Convert DataFrame to list of lists including headers\n",
        "        values = [df_clean.columns.values.tolist()] + df_clean.values.tolist()\n",
        "\n",
        "        # Clear existing content and update\n",
        "        worksheet.clear()\n",
        "        worksheet.update(values=values, range_name='A1')  # Fixed order of arguments\n",
        "\n",
        "        print(\"Data successfully written to sheet\")\n",
        "        return True\n",
        "\n",
        "    except Exception as e:\n",
        "        print(f\"Error writing to spreadsheet: {e}\")\n",
        "        return False"
      ],
      "metadata": {
        "id": "i-gz-DFlgjXE"
      },
      "execution_count": null,
      "outputs": []
    },
    {
      "cell_type": "code",
      "source": [],
      "metadata": {
        "id": "Pb2Nlaelio7O"
      },
      "execution_count": null,
      "outputs": []
    }
  ]
}