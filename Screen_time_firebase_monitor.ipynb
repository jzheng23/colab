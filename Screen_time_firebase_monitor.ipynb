{
  "nbformat": 4,
  "nbformat_minor": 0,
  "metadata": {
    "colab": {
      "provenance": [],
      "collapsed_sections": [
        "QKn_oSCKjNMT",
        "ZsDdZEV8bLr4",
        "aIimX4uCjq-m",
        "EQ-a_Ljo7Wm_",
        "BgIVGzJj7cqO",
        "2u0oTRRn5593",
        "9c66xeLT7nfI",
        "b6xFu8KGeiBr",
        "gPZfk9lA7e8f",
        "m4Meu_IQiuts",
        "2vwb_EftYtPp",
        "QxahhXwbU9Iq",
        "RFbAsYrQaxl7",
        "yo3YdmPp0ZCb",
        "dN45CgfZWGzC"
      ],
      "authorship_tag": "ABX9TyOaLQst1d4znkZXf+SCPoH6",
      "include_colab_link": true
    },
    "kernelspec": {
      "name": "python3",
      "display_name": "Python 3"
    },
    "language_info": {
      "name": "python"
    }
  },
  "cells": [
    {
      "cell_type": "markdown",
      "metadata": {
        "id": "view-in-github",
        "colab_type": "text"
      },
      "source": [
        "<a href=\"https://colab.research.google.com/github/jzheng23/colab/blob/main/Screen_time_firebase_monitor.ipynb\" target=\"_parent\"><img src=\"https://colab.research.google.com/assets/colab-badge.svg\" alt=\"Open In Colab\"/></a>"
      ]
    },
    {
      "cell_type": "markdown",
      "source": [
        "This notebook provides the codes to check the progress of each participant, including two main functions:\n",
        "1. Check the last update of screen events from each participant\n",
        "2. Generate a list of emails (to be copied), to whom we should send a reminder email"
      ],
      "metadata": {
        "id": "UN2spQWn-0hl"
      }
    },
    {
      "cell_type": "markdown",
      "source": [
        "# Preparation"
      ],
      "metadata": {
        "id": "FxrxgTCQjNMS"
      }
    },
    {
      "cell_type": "markdown",
      "source": [
        "## Mount Google Drive and set up file path"
      ],
      "metadata": {
        "id": "QKn_oSCKjNMT"
      }
    },
    {
      "cell_type": "code",
      "source": [
        "from google.colab import drive\n",
        "drive.mount('/content/drive')"
      ],
      "metadata": {
        "colab": {
          "base_uri": "https://localhost:8080/"
        },
        "outputId": "9cc873fb-60d0-4a07-ab3a-49b206d28b20",
        "id": "oqZx3uxIjNMU"
      },
      "execution_count": 2,
      "outputs": [
        {
          "output_type": "stream",
          "name": "stdout",
          "text": [
            "Mounted at /content/drive\n"
          ]
        }
      ]
    },
    {
      "cell_type": "markdown",
      "source": [
        "Load the Google Drive path, depending who is running the notebook"
      ],
      "metadata": {
        "id": "gju8PTwCjNMU"
      }
    },
    {
      "cell_type": "code",
      "source": [
        "#Jian\n",
        "google_drive_data_path = '/content/drive/MyDrive/Problematic smartphone usage/Ambient display/Data'\n",
        "google_drive_key_path = '/content/drive/MyDrive/Problematic smartphone usage/Ambient display/Key'"
      ],
      "metadata": {
        "id": "mlDqMP9njNMU"
      },
      "execution_count": 3,
      "outputs": []
    },
    {
      "cell_type": "code",
      "source": [
        "#Subin\n",
        "# google_drive_data_path = '/content/drive/MyDrive/UMD_research/Problematic_Smartphone_Usage'\n",
        "# google_drive_key_path = '/content/drive/MyDrive/UMD_research/Problematic_Smartphone_Usage'"
      ],
      "metadata": {
        "id": "0Gv7pCnfjNMV"
      },
      "execution_count": null,
      "outputs": []
    },
    {
      "cell_type": "code",
      "source": [
        "import pandas as pd\n",
        "import numpy as np\n",
        "import datetime\n",
        "#Convert Unix timestamp to date/datetime in specified timezone\n",
        "def convert_unix_to_date(unix_timestamp, timezone='America/New_York', return_date=True):\n",
        "   \"\"\"\n",
        "\n",
        "   Parameters:\n",
        "       unix_timestamp: Unix timestamp in milliseconds\n",
        "       timezone: String of timezone (default 'America/New_York')\n",
        "       return_date: If True returns date only, if False returns datetime\n",
        "   \"\"\"\n",
        "   dt = pd.to_datetime(unix_timestamp, unit='ms', utc=True).tz_convert(timezone)\n",
        "   return dt.date() if return_date else dt"
      ],
      "metadata": {
        "id": "sFP3YyHUJR1h"
      },
      "execution_count": 4,
      "outputs": []
    },
    {
      "cell_type": "markdown",
      "source": [
        "## Google sheet module"
      ],
      "metadata": {
        "id": "ZsDdZEV8bLr4"
      }
    },
    {
      "cell_type": "code",
      "execution_count": 5,
      "metadata": {
        "id": "HJfOwxsPtvL2"
      },
      "outputs": [],
      "source": [
        "from google.colab import auth\n",
        "from google.auth import default\n",
        "import gspread\n",
        "\n",
        "# Authenticate\n",
        "auth.authenticate_user()\n",
        "creds, _ = default()\n",
        "gc = gspread.authorize(creds)"
      ]
    },
    {
      "cell_type": "code",
      "source": [
        "import pandas as pd\n",
        "\n",
        "def get_sheet_as_df(spreadsheet_id):\n",
        "    \"\"\"\n",
        "    Read Google Sheet and return as pandas DataFrame\n",
        "\n",
        "    Args:\n",
        "        spreadsheet_id (str): The ID from the Google Sheet URL\n",
        "\n",
        "    Returns:\n",
        "        pandas.DataFrame: Data from the sheet\n",
        "    \"\"\"\n",
        "    try:\n",
        "        # Open the spreadsheet\n",
        "        spreadsheet = gc.open_by_key(spreadsheet_id)\n",
        "\n",
        "        # Get first worksheet\n",
        "        worksheet = spreadsheet.sheet1\n",
        "\n",
        "        # Get all values including headers\n",
        "        all_values = worksheet.get_all_values()\n",
        "\n",
        "        # Convert to DataFrame\n",
        "        df = pd.DataFrame(all_values[1:], columns=all_values[0])\n",
        "\n",
        "        return df\n",
        "\n",
        "    except Exception as e:\n",
        "        print(f\"Error accessing spreadsheet: {e}\")\n",
        "        return None\n",
        "\n"
      ],
      "metadata": {
        "id": "FUIm4VIMaEaR"
      },
      "execution_count": 6,
      "outputs": []
    },
    {
      "cell_type": "code",
      "source": [
        "def write_df_to_sheet(df, spreadsheet_id):\n",
        "    try:\n",
        "        df_clean = df.copy()\n",
        "\n",
        "        # Convert datetime columns\n",
        "        date_cols = df_clean.select_dtypes(include=['datetime64[ns]', 'datetime64']).columns\n",
        "        for col in date_cols:\n",
        "            df_clean[col] = df_clean[col].dt.strftime('%Y-%m-%d')\n",
        "\n",
        "        # Convert numeric columns to handle inf values first\n",
        "        df_clean = df_clean.replace([np.inf, -np.inf], 'Infinity')\n",
        "\n",
        "        # Convert all columns to string explicitly\n",
        "        for col in df_clean.columns:\n",
        "            df_clean[col] = df_clean[col].astype(str)\n",
        "\n",
        "        df_clean = df_clean.fillna('')\n",
        "\n",
        "        spreadsheet = gc.open_by_key(spreadsheet_id)\n",
        "        worksheet = spreadsheet.sheet1\n",
        "\n",
        "        values = [df_clean.columns.values.tolist()] + df_clean.values.tolist()\n",
        "        worksheet.clear()\n",
        "        worksheet.update(values=values, range_name='A1')\n",
        "\n",
        "        return True\n",
        "\n",
        "    except Exception as e:\n",
        "        print(f\"Error writing to spreadsheet: {e}\")\n",
        "        return False"
      ],
      "metadata": {
        "id": "borQFmY8Pdm_"
      },
      "execution_count": 7,
      "outputs": []
    },
    {
      "cell_type": "markdown",
      "source": [],
      "metadata": {
        "id": "vRG-MwXSPdUq"
      }
    },
    {
      "cell_type": "markdown",
      "source": [
        "# Firebase database"
      ],
      "metadata": {
        "id": "Z-x7WGXf-Uuf"
      }
    },
    {
      "cell_type": "markdown",
      "source": [
        "## Set up link"
      ],
      "metadata": {
        "id": "aIimX4uCjq-m"
      }
    },
    {
      "cell_type": "code",
      "source": [
        "import firebase_admin\n",
        "from firebase_admin import credentials, db\n",
        "import csv\n",
        "import pandas as pd"
      ],
      "metadata": {
        "id": "zy1HrBmDnOJx"
      },
      "execution_count": 8,
      "outputs": []
    },
    {
      "cell_type": "code",
      "source": [
        "# Don't re-run this cell unless the kernel has been restarted\n",
        "cred = credentials.Certificate(google_drive_key_path+'/timer-42ad2-firebase-adminsdk-4r7oj-2c373565f2.json')\n",
        "firebase_admin.initialize_app(cred, {\n",
        "    'databaseURL': 'https://timer-42ad2-default-rtdb.firebaseio.com'\n",
        "})"
      ],
      "metadata": {
        "id": "gFVB47CUKTsr",
        "colab": {
          "base_uri": "https://localhost:8080/"
        },
        "outputId": "60788c9b-c2af-4bbf-cbee-489b2ad324ac"
      },
      "execution_count": 9,
      "outputs": [
        {
          "output_type": "execute_result",
          "data": {
            "text/plain": [
              "<firebase_admin.App at 0x7d9275fdb4c0>"
            ]
          },
          "metadata": {},
          "execution_count": 9
        }
      ]
    },
    {
      "cell_type": "code",
      "source": [
        "#Convert Unix timestamp to date/datetime in specified timezone\n",
        "def convert_unix_to_date(unix_timestamp, timezone='America/New_York', return_date=True):\n",
        "   \"\"\"\n",
        "\n",
        "   Parameters:\n",
        "       unix_timestamp: Unix timestamp in milliseconds\n",
        "       timezone: String of timezone (default 'America/New_York')\n",
        "       return_date: If True returns date only, if False returns datetime\n",
        "   \"\"\"\n",
        "   dt = pd.to_datetime(unix_timestamp, unit='ms', utc=True).tz_convert(timezone)\n",
        "   return dt.date() if return_date else dt"
      ],
      "metadata": {
        "id": "QQdQsFQSslsy"
      },
      "execution_count": 10,
      "outputs": []
    },
    {
      "cell_type": "markdown",
      "source": [
        "## Response data"
      ],
      "metadata": {
        "id": "EQ-a_Ljo7Wm_"
      }
    },
    {
      "cell_type": "code",
      "source": [
        "def process_responses(responses, pid, host, survey_id):\n",
        "    responses_data = []\n",
        "    response_dict = {\n",
        "        'pid': pid,\n",
        "        'host': host,\n",
        "        'surveyID': survey_id\n",
        "    }\n",
        "\n",
        "    if isinstance(responses, dict):\n",
        "        for question_id, answer in responses.items():\n",
        "            response_dict[f'q_{question_id}'] = answer\n",
        "    elif isinstance(responses, list):\n",
        "        for question_id, answer in enumerate(responses):\n",
        "            if answer is not None:\n",
        "                response_dict[f'q_{question_id}'] = answer\n",
        "\n",
        "    responses_data.append(response_dict)\n",
        "    return responses_data\n",
        "\n",
        "def get_timestamp(data):\n",
        "    if isinstance(data, dict):\n",
        "        return data.get('a') or data.get('timestamp')\n",
        "    return None\n",
        "\n",
        "def get_responses(data):\n",
        "    if isinstance(data, dict):\n",
        "        return data.get('b') or data.get('responses')\n",
        "    elif isinstance(data, list):\n",
        "        return data\n",
        "    return None\n",
        "\n",
        "def firebase_to_csv_log_Screen(ref_path, output_file):\n",
        "    ref = db.reference(ref_path)\n",
        "    data = ref.get()\n",
        "    transformed_data = []\n",
        "\n",
        "    for pid, pid_data in data.items():\n",
        "        pid = pid.lower()\n",
        "\n",
        "        # Process each host under the pid\n",
        "        for host, events in pid_data.items():\n",
        "            if isinstance(events, list):\n",
        "                for index, event in enumerate(events):\n",
        "                    if event is not None and isinstance(event, dict):\n",
        "                        row = {\n",
        "                            'pid': pid,\n",
        "                            'host': host,\n",
        "                            'eventLabel': index,\n",
        "                            'startTime': event.get('startTime'),\n",
        "                            'endTime': event.get('endTime')\n",
        "                        }\n",
        "                        transformed_data.append(row)\n",
        "\n",
        "    df = pd.DataFrame(transformed_data)\n",
        "    if len(transformed_data) > 0:\n",
        "        df = df[['pid', 'host', 'eventLabel', 'startTime', 'endTime']]\n",
        "    df.to_csv(output_file, index=False)\n",
        "\n",
        "def responses_to_csvs(meta_file, responses_file):\n",
        "    ref = db.reference('/responses')\n",
        "    data = ref.get()\n",
        "\n",
        "    meta_data = []\n",
        "    responses_data = []\n",
        "\n",
        "    for pid, pid_data in data.items():\n",
        "        pid = pid.lower()\n",
        "\n",
        "        # Process each host under pid\n",
        "        for host, host_data in pid_data.items():\n",
        "            # If host_data is a list, enumerate through it\n",
        "            if isinstance(host_data, list):\n",
        "                for survey_id, survey_data in enumerate(host_data):\n",
        "                    if survey_data is not None:\n",
        "                        timestamp = get_timestamp(survey_data)\n",
        "                        if timestamp:\n",
        "                            meta_data.append({\n",
        "                                'pid': pid,\n",
        "                                'host': host,\n",
        "                                'surveyID': str(survey_id),\n",
        "                                'timestamp': timestamp\n",
        "                            })\n",
        "\n",
        "                            responses = get_responses(survey_data)\n",
        "                            if responses:\n",
        "                                responses_data.extend(process_responses(responses, pid, host, str(survey_id)))\n",
        "\n",
        "    # Create and save metadata DataFrame\n",
        "    meta_df = pd.DataFrame(meta_data)\n",
        "    if len(meta_data) > 0:\n",
        "        meta_df = meta_df[['pid', 'host', 'surveyID', 'timestamp']]\n",
        "    meta_df.to_csv(meta_file, index=False)\n",
        "\n",
        "    # Create responses DataFrame in wide format\n",
        "    responses_df = pd.DataFrame(responses_data)\n",
        "\n",
        "    if len(responses_data) > 0:\n",
        "        first_cols = ['pid', 'host', 'surveyID']\n",
        "        q_cols = [col for col in responses_df.columns if col.startswith('q_')]\n",
        "        q_cols.sort(key=lambda x: int(x.split('_')[1]))\n",
        "        responses_df = responses_df[first_cols + q_cols]\n",
        "\n",
        "    responses_df.to_csv(responses_file, index=False)"
      ],
      "metadata": {
        "id": "Q4q0ytetcZIu"
      },
      "execution_count": 11,
      "outputs": []
    },
    {
      "cell_type": "code",
      "source": [
        "responses_to_csvs('survey_meta.csv', 'survey_responses.csv')\n",
        "survey_meta_data = pd.read_csv('/content/survey_meta.csv')\n",
        "print(\"The shape of the survey_meta_data is \" + str(survey_meta_data.shape))\n",
        "survey_meta_data.to_csv(google_drive_data_path + '/survey_meta.csv', index=False)\n",
        "survey_responses_data = pd.read_csv('/content/survey_responses.csv')\n",
        "print(\"The shape of the survey_responses_data is \" + str(survey_responses_data.shape))\n",
        "survey_responses_data.to_csv(google_drive_data_path + '/survey_responses.csv', index=False)"
      ],
      "metadata": {
        "id": "yTWJeIa2Bdoi",
        "colab": {
          "base_uri": "https://localhost:8080/"
        },
        "outputId": "ee55359f-bf71-48b9-8bef-33ef4ada9802"
      },
      "execution_count": 12,
      "outputs": [
        {
          "output_type": "stream",
          "name": "stdout",
          "text": [
            "The shape of the survey_meta_data is (41, 4)\n",
            "The shape of the survey_responses_data is (41, 26)\n"
          ]
        }
      ]
    },
    {
      "cell_type": "markdown",
      "source": [
        "## Screen events"
      ],
      "metadata": {
        "id": "BgIVGzJj7cqO"
      }
    },
    {
      "cell_type": "code",
      "source": [
        "def firebase_to_csv_log_Screen(ref_path, output_file):\n",
        "    ref = db.reference(ref_path)\n",
        "    data = ref.get()\n",
        "    transformed_data = []\n",
        "\n",
        "    for pid, pid_data in data.items():\n",
        "        pid = pid.lower()\n",
        "\n",
        "        if not isinstance(pid_data, dict):\n",
        "            continue\n",
        "\n",
        "        for host, events in pid_data.items():\n",
        "            if isinstance(events, list):\n",
        "                # Handle list structure\n",
        "                for index, event in enumerate(events):\n",
        "                    if event is None:\n",
        "                        continue\n",
        "                    if isinstance(event, dict):\n",
        "                        row = {\n",
        "                            'pid': pid,\n",
        "                            'host': host,\n",
        "                            'eventLabel': index,\n",
        "                            'startTime': event.get('startTime'),\n",
        "                            'endTime': event.get('endTime')\n",
        "                        }\n",
        "                        transformed_data.append(row)\n",
        "            elif isinstance(events, dict):\n",
        "                # Handle dictionary structure\n",
        "                for event_label, event_data in events.items():\n",
        "                    if isinstance(event_data, dict):\n",
        "                        row = {\n",
        "                            'pid': pid,\n",
        "                            'host': host,\n",
        "                            'eventLabel': event_label,\n",
        "                            'startTime': event_data.get('startTime'),\n",
        "                            'endTime': event_data.get('endTime')\n",
        "                        }\n",
        "                        transformed_data.append(row)\n",
        "\n",
        "    df = pd.DataFrame(transformed_data)\n",
        "    if len(transformed_data) > 0:\n",
        "        df = df[['pid', 'host', 'eventLabel', 'startTime', 'endTime']]\n",
        "    df.to_csv(output_file, index=False)"
      ],
      "metadata": {
        "id": "_j9kjFxsa6PV"
      },
      "execution_count": 13,
      "outputs": []
    },
    {
      "cell_type": "code",
      "source": [
        "firebase_to_csv_log_Screen('/screen_events','screen_events.csv')\n",
        "screen_events_data = pd.read_csv('/content/screen_events.csv')\n",
        "print(\"The shape of the screen_events_data is \" + str(screen_events_data.shape))\n",
        "screen_events_data.to_csv(google_drive_data_path + '/screen_events.csv', index=False)"
      ],
      "metadata": {
        "id": "CLCIRK2H7qgu",
        "colab": {
          "base_uri": "https://localhost:8080/"
        },
        "outputId": "754e7361-c36c-465e-892b-c159485960f0"
      },
      "execution_count": 14,
      "outputs": [
        {
          "output_type": "stream",
          "name": "stdout",
          "text": [
            "The shape of the screen_events_data is (9319, 5)\n"
          ]
        }
      ]
    },
    {
      "cell_type": "code",
      "source": [
        "# prompt: count how many row under each unique pid in the screen_events_data\n",
        "\n",
        "# row_counts = screen_events_data.groupby('pid').size().reset_index(name='row_count')\n",
        "# row_counts"
      ],
      "metadata": {
        "id": "Dy9bo2w-MRWX"
      },
      "execution_count": 15,
      "outputs": []
    },
    {
      "cell_type": "markdown",
      "source": [
        "## Device info"
      ],
      "metadata": {
        "id": "2u0oTRRn5593"
      }
    },
    {
      "cell_type": "code",
      "source": [
        "# this function works for device and timezone infor\n",
        "def firebase_to_csv(ref_path, output_file):\n",
        "    # Get reference to device_info\n",
        "    ref = db.reference(ref_path)\n",
        "    data = ref.get()\n",
        "\n",
        "    transformed_data = []\n",
        "\n",
        "    # Transform the nested structure\n",
        "    for pid, pid_data in data.items():\n",
        "        pid = pid.lower()\n",
        "\n",
        "        if isinstance(pid_data, str):\n",
        "            # Case where timezone is directly under pid\n",
        "            row = {\n",
        "                'pid': pid,\n",
        "                'host': pd.NA,  # or None\n",
        "                'timezone': pid_data\n",
        "            }\n",
        "            transformed_data.append(row)\n",
        "        else:\n",
        "            # Case where pid has host-timezone pairs\n",
        "            for host, timezone in pid_data.items():\n",
        "                row = {\n",
        "                    'pid': pid,\n",
        "                    'host': host,\n",
        "                    'timezone': timezone\n",
        "                }\n",
        "                transformed_data.append(row)\n",
        "\n",
        "    # Convert to DataFrame\n",
        "    df = pd.DataFrame(transformed_data)\n",
        "\n",
        "    # Ensure pid and host are the first columns\n",
        "    cols = ['pid', 'host'] + [col for col in df.columns if col not in ['pid', 'host']]\n",
        "    df = df[cols]\n",
        "\n",
        "    # Save to CSV\n",
        "    df.to_csv(output_file, index=False)"
      ],
      "metadata": {
        "id": "TAhF2VZv5Zr1"
      },
      "execution_count": 16,
      "outputs": []
    },
    {
      "cell_type": "code",
      "source": [
        "firebase_to_csv('/device_info','device_info.csv')\n",
        "device_data = pd.read_csv('/content/device_info.csv')\n",
        "\n",
        "# First let's convert the string representation of dictionary to actual dictionary\n",
        "device_data0 = device_data.copy()\n",
        "device_data0['timezone'] = device_data0['timezone'].apply(eval)\n",
        "\n",
        "# Now extract each field into its own column\n",
        "device_data0['Base'] = device_data0['timezone'].apply(lambda x: x.get('Base'))\n",
        "device_data0['Brand'] = device_data0['timezone'].apply(lambda x: x.get('Brand'))\n",
        "device_data0['Model'] = device_data0['timezone'].apply(lambda x: x.get('Model'))\n",
        "\n",
        "# If you want to drop the original timezone column, you can use:\n",
        "device_data = device_data0.drop('timezone', axis=1)\n",
        "\n",
        "print(\"The shape of the device_data is \" + str(device_data.shape))\n",
        "device_data.to_csv(google_drive_data_path + '/device_info.csv', index=False)"
      ],
      "metadata": {
        "colab": {
          "base_uri": "https://localhost:8080/"
        },
        "id": "ftq95Onxf92a",
        "outputId": "ecc9159d-4f2b-44dd-f926-50219e4339fb"
      },
      "execution_count": 17,
      "outputs": [
        {
          "output_type": "stream",
          "name": "stdout",
          "text": [
            "The shape of the device_data is (38, 5)\n"
          ]
        }
      ]
    },
    {
      "cell_type": "markdown",
      "source": [
        "## Timezone info"
      ],
      "metadata": {
        "id": "9c66xeLT7nfI"
      }
    },
    {
      "cell_type": "code",
      "source": [
        "firebase_to_csv('/timezones','timezones.csv')\n",
        "timezones_data = pd.read_csv('/content/timezones.csv')\n",
        "print(\"The shape of the timezones_data is \" + str(timezones_data.shape))\n",
        "timezones_data.to_csv(google_drive_data_path + '/timezones.csv', index=False)"
      ],
      "metadata": {
        "id": "do7aFA789Lzw",
        "colab": {
          "base_uri": "https://localhost:8080/"
        },
        "outputId": "d45e4d3e-89dd-4e8e-efa1-534a3cbe7962"
      },
      "execution_count": 18,
      "outputs": [
        {
          "output_type": "stream",
          "name": "stdout",
          "text": [
            "The shape of the timezones_data is (39, 3)\n"
          ]
        }
      ]
    },
    {
      "cell_type": "markdown",
      "source": [
        "## User states"
      ],
      "metadata": {
        "id": "b6xFu8KGeiBr"
      }
    },
    {
      "cell_type": "markdown",
      "source": [
        "This data was introduced in an update of the app, so it only exist in some of the participants' data."
      ],
      "metadata": {
        "id": "vKtFpijBem5K"
      }
    },
    {
      "cell_type": "code",
      "source": [
        "firebase_to_csv('/user_states','user_states.csv')\n",
        "user_states = pd.read_csv('/content/user_states.csv')"
      ],
      "metadata": {
        "id": "RCUS3KHpehUq"
      },
      "execution_count": 19,
      "outputs": []
    },
    {
      "cell_type": "code",
      "source": [
        "# First convert the string representation of dictionary to actual dictionary\n",
        "user_states['timezone'] = user_states['timezone'].apply(eval)\n",
        "\n",
        "# Extract each field into its own column\n",
        "user_states['day_count'] = user_states['timezone'].apply(lambda x: x.get('day_count'))\n",
        "user_states['survey1_completed'] = user_states['timezone'].apply(lambda x: x.get('survey1_completed'))\n",
        "user_states['survey2_completed'] = user_states['timezone'].apply(lambda x: x.get('survey2_completed'))\n",
        "user_states['survey3_completed'] = user_states['timezone'].apply(lambda x: x.get('survey3_completed'))\n",
        "user_states['survey4_completed'] = user_states['timezone'].apply(lambda x: x.get('survey4_completed'))\n",
        "user_states['tutorial_completed'] = user_states['timezone'].apply(lambda x: x.get('tutorial_completed'))\n",
        "\n",
        "# Drop the original timezone column\n",
        "user_states = user_states.drop('timezone', axis=1)\n",
        "\n",
        "# Display the result\n",
        "print(\"The shape of the user_states is \" + str(user_states.shape))\n",
        "user_states.to_csv(google_drive_data_path + '/user_states.csv', index=False)\n"
      ],
      "metadata": {
        "id": "wdOXILAAhPpZ",
        "colab": {
          "base_uri": "https://localhost:8080/"
        },
        "outputId": "ee23d406-f1dd-4afe-fb81-2ad93e70cbda"
      },
      "execution_count": 20,
      "outputs": [
        {
          "output_type": "stream",
          "name": "stdout",
          "text": [
            "The shape of the user_states is (37, 8)\n"
          ]
        }
      ]
    },
    {
      "cell_type": "markdown",
      "source": [
        "## Setting changes"
      ],
      "metadata": {
        "id": "gPZfk9lA7e8f"
      }
    },
    {
      "cell_type": "markdown",
      "source": [
        "Data of setting changes will come in the third week. Don't run this chuck of code early than that, it will return just error.\n",
        "\n"
      ],
      "metadata": {
        "id": "DX9eu2pneHqD"
      }
    },
    {
      "cell_type": "code",
      "source": [
        "def firebase_to_csv_log_setting (ref_path, output_file):\n",
        "    ref = db.reference(ref_path)\n",
        "    data = ref.get()\n",
        "    transformed_data = []\n",
        "\n",
        "    # dictionary structure\n",
        "    for pid, changes in data.items():  # 'pid' = key\n",
        "        if isinstance(changes, list):\n",
        "            for index, change in enumerate(changes, start=0):  #event_label_start:1\n",
        "                if change is None:\n",
        "                    continue\n",
        "                if isinstance(change, dict):\n",
        "                    row = {'pid': pid,\n",
        "                        'eventLabel': index,\n",
        "                        'newValue' : change.get('newValue'),\n",
        "                        'setting': change.get('setting'),\n",
        "                        'timestamp': change.get('timestamp')}\n",
        "                    transformed_data.append(row)\n",
        "\n",
        "    df = pd.DataFrame(transformed_data)\n",
        "    df = df[['pid', 'newValue', 'setting', 'timestamp']]\n",
        "    df.to_csv(output_file, index=False)"
      ],
      "metadata": {
        "id": "7wKmjI3kdlhZ"
      },
      "execution_count": null,
      "outputs": []
    },
    {
      "cell_type": "code",
      "source": [
        "firebase_to_csv_log_setting('/settings_change_logs','settings_change_logs.csv')\n",
        "settings_change_logs_data = pd.read_csv('/content/settings_change_logs.csv')\n",
        "print(\"The shape of the settings_change_logs_data is \" + str(settings_change_logs_data.shape))\n",
        "settings_change_logs_data.to_csv(google_drive_data_path + '/settings_change_logs.csv', index=False)"
      ],
      "metadata": {
        "colab": {
          "base_uri": "https://localhost:8080/",
          "height": 315
        },
        "id": "z4BKVzrla3cL",
        "outputId": "6ded6a2c-85d3-42ea-e4d0-06b4c52c246e"
      },
      "execution_count": null,
      "outputs": [
        {
          "output_type": "error",
          "ename": "AttributeError",
          "evalue": "'NoneType' object has no attribute 'items'",
          "traceback": [
            "\u001b[0;31m---------------------------------------------------------------------------\u001b[0m",
            "\u001b[0;31mAttributeError\u001b[0m                            Traceback (most recent call last)",
            "\u001b[0;32m<ipython-input-19-1f008957595b>\u001b[0m in \u001b[0;36m<cell line: 1>\u001b[0;34m()\u001b[0m\n\u001b[0;32m----> 1\u001b[0;31m \u001b[0mfirebase_to_csv_log_setting\u001b[0m\u001b[0;34m(\u001b[0m\u001b[0;34m'/settings_change_logs'\u001b[0m\u001b[0;34m,\u001b[0m\u001b[0;34m'settings_change_logs.csv'\u001b[0m\u001b[0;34m)\u001b[0m\u001b[0;34m\u001b[0m\u001b[0;34m\u001b[0m\u001b[0m\n\u001b[0m\u001b[1;32m      2\u001b[0m \u001b[0msettings_change_logs_data\u001b[0m \u001b[0;34m=\u001b[0m \u001b[0mpd\u001b[0m\u001b[0;34m.\u001b[0m\u001b[0mread_csv\u001b[0m\u001b[0;34m(\u001b[0m\u001b[0;34m'/content/settings_change_logs.csv'\u001b[0m\u001b[0;34m)\u001b[0m\u001b[0;34m\u001b[0m\u001b[0;34m\u001b[0m\u001b[0m\n\u001b[1;32m      3\u001b[0m \u001b[0mprint\u001b[0m\u001b[0;34m(\u001b[0m\u001b[0;34m\"The shape of the settings_change_logs_data is \"\u001b[0m \u001b[0;34m+\u001b[0m \u001b[0mstr\u001b[0m\u001b[0;34m(\u001b[0m\u001b[0msettings_change_logs_data\u001b[0m\u001b[0;34m.\u001b[0m\u001b[0mshape\u001b[0m\u001b[0;34m)\u001b[0m\u001b[0;34m)\u001b[0m\u001b[0;34m\u001b[0m\u001b[0;34m\u001b[0m\u001b[0m\n\u001b[1;32m      4\u001b[0m \u001b[0msettings_change_logs_data\u001b[0m\u001b[0;34m.\u001b[0m\u001b[0mto_csv\u001b[0m\u001b[0;34m(\u001b[0m\u001b[0mgoogle_drive_data_path\u001b[0m \u001b[0;34m+\u001b[0m \u001b[0;34m'/settings_change_logs.csv'\u001b[0m\u001b[0;34m,\u001b[0m \u001b[0mindex\u001b[0m\u001b[0;34m=\u001b[0m\u001b[0;32mFalse\u001b[0m\u001b[0;34m)\u001b[0m\u001b[0;34m\u001b[0m\u001b[0;34m\u001b[0m\u001b[0m\n",
            "\u001b[0;32m<ipython-input-18-2ccbaf59e9ea>\u001b[0m in \u001b[0;36mfirebase_to_csv_log_setting\u001b[0;34m(ref_path, output_file)\u001b[0m\n\u001b[1;32m      5\u001b[0m \u001b[0;34m\u001b[0m\u001b[0m\n\u001b[1;32m      6\u001b[0m     \u001b[0;31m# dictionary structure\u001b[0m\u001b[0;34m\u001b[0m\u001b[0;34m\u001b[0m\u001b[0m\n\u001b[0;32m----> 7\u001b[0;31m     \u001b[0;32mfor\u001b[0m \u001b[0mpid\u001b[0m\u001b[0;34m,\u001b[0m \u001b[0mchanges\u001b[0m \u001b[0;32min\u001b[0m \u001b[0mdata\u001b[0m\u001b[0;34m.\u001b[0m\u001b[0mitems\u001b[0m\u001b[0;34m(\u001b[0m\u001b[0;34m)\u001b[0m\u001b[0;34m:\u001b[0m  \u001b[0;31m# 'pid' = key\u001b[0m\u001b[0;34m\u001b[0m\u001b[0;34m\u001b[0m\u001b[0m\n\u001b[0m\u001b[1;32m      8\u001b[0m         \u001b[0;32mif\u001b[0m \u001b[0misinstance\u001b[0m\u001b[0;34m(\u001b[0m\u001b[0mchanges\u001b[0m\u001b[0;34m,\u001b[0m \u001b[0mlist\u001b[0m\u001b[0;34m)\u001b[0m\u001b[0;34m:\u001b[0m\u001b[0;34m\u001b[0m\u001b[0;34m\u001b[0m\u001b[0m\n\u001b[1;32m      9\u001b[0m             \u001b[0;32mfor\u001b[0m \u001b[0mindex\u001b[0m\u001b[0;34m,\u001b[0m \u001b[0mchange\u001b[0m \u001b[0;32min\u001b[0m \u001b[0menumerate\u001b[0m\u001b[0;34m(\u001b[0m\u001b[0mchanges\u001b[0m\u001b[0;34m,\u001b[0m \u001b[0mstart\u001b[0m\u001b[0;34m=\u001b[0m\u001b[0;36m0\u001b[0m\u001b[0;34m)\u001b[0m\u001b[0;34m:\u001b[0m  \u001b[0;31m#event_label_start:1\u001b[0m\u001b[0;34m\u001b[0m\u001b[0;34m\u001b[0m\u001b[0m\n",
            "\u001b[0;31mAttributeError\u001b[0m: 'NoneType' object has no attribute 'items'"
          ]
        }
      ]
    },
    {
      "cell_type": "markdown",
      "source": [
        "## Ringer"
      ],
      "metadata": {
        "id": "m4Meu_IQiuts"
      }
    },
    {
      "cell_type": "markdown",
      "source": [
        "Data of ringer changes will come in the third week. Don't run this chuck of code early than that, it will return just error."
      ],
      "metadata": {
        "id": "h3syiJYaeZ-t"
      }
    },
    {
      "cell_type": "code",
      "source": [
        "def firebase_to_csv_log_mode(ref_path, output_file):\n",
        "    ref = db.reference(ref_path)\n",
        "    data = ref.get()\n",
        "    transformed_data = []\n",
        "\n",
        "    for pid, middle_levels in data.items():\n",
        "        pid = pid.lower()\n",
        "        for middle_key, sub_changes in middle_levels.items():\n",
        "            for index, event in enumerate(sub_changes):\n",
        "                if isinstance(event, dict):\n",
        "                    row = {'pid': pid,'host':middle_key,'label': str(index),\n",
        "                        'mode': event.get('mode'),\n",
        "                        'timestamp': event.get('timestamp')}\n",
        "                    transformed_data.append(row)\n",
        "\n",
        "    df = pd.DataFrame(transformed_data)\n",
        "    df = df[['pid', 'host', 'label', 'mode', 'timestamp']]\n",
        "    df.to_csv(output_file, index=False)"
      ],
      "metadata": {
        "id": "NkA5rfhwv1Ga"
      },
      "execution_count": null,
      "outputs": []
    },
    {
      "cell_type": "code",
      "source": [
        "firebase_to_csv_log_mode('/ringer_mode_events','ringer_mode_events.csv')\n",
        "ringer_mode_events_data = pd.read_csv('/content/ringer_mode_events.csv')\n",
        "print(\"The shape of the ringer_mode_events_data is \" + str(ringer_mode_events_data.shape))\n",
        "ringer_mode_events_data.to_csv(google_drive_data_path + '/ringer_mode_events.csv', index=False)"
      ],
      "metadata": {
        "collapsed": true,
        "id": "KbCPCVA6iud8"
      },
      "execution_count": null,
      "outputs": []
    },
    {
      "cell_type": "markdown",
      "source": [
        "## Counters"
      ],
      "metadata": {
        "id": "2vwb_EftYtPp"
      }
    },
    {
      "cell_type": "markdown",
      "source": [
        "We don't actually need top analyze the counter data"
      ],
      "metadata": {
        "id": "HrOus7dZ8BjX"
      }
    },
    {
      "cell_type": "code",
      "source": [
        "# def firebase_to_csv_counters(ref_path, output_file):\n",
        "#     ref = db.reference(ref_path)\n",
        "#     data = ref.get()\n",
        "#     transformed_data = []\n",
        "#     for pid, value in data.items():\n",
        "#         pid = pid.lower()\n",
        "#         # Case 1: only numeric\n",
        "#         if isinstance(value, int):\n",
        "#             transformed_data.append({'pid': pid, 'screen_event_count': value})\n",
        "\n",
        "#         # Case 2: dictionary => selecting only value\n",
        "#         elif isinstance(value, dict):\n",
        "#             numeric_values = [v for v in value.values() if isinstance(v, int)]\n",
        "#             if numeric_values:\n",
        "#                 total = sum(numeric_values)\n",
        "#                 transformed_data.append({'pid': pid, 'screen_event_count': total})\n",
        "\n",
        "#     df = pd.DataFrame(transformed_data)\n",
        "#     df = df[['pid', 'screen_event_count']]\n",
        "#     df.to_csv(output_file, index=False)\n",
        "\n",
        "\n",
        "# firebase_to_csv_counters('/ringer_event_counters','ringer_event_counters.csv')\n",
        "# ringer_event_counters_data0 = pd.read_csv('/content/ringer_event_counters.csv')\n",
        "# print(ringer_event_counters_data0.head())\n",
        "\n",
        "# firebase_to_csv_counters('/screen_event_counters','screen_event_counters.csv')\n",
        "# screen_event_counters_data0 = pd.read_csv('/content/screen_event_counters.csv')\n",
        "# print(screen_event_counters_data0.head())\n",
        "\n",
        "# firebase_to_csv_counters('/settings_change_counters','settings_change_counters.csv')\n",
        "# settings_change_counters_data0 = pd.read_csv('/content/settings_change_counters.csv')\n",
        "# print(settings_change_counters_data0.head())"
      ],
      "metadata": {
        "id": "fk6_muXpjtZx"
      },
      "execution_count": null,
      "outputs": []
    },
    {
      "cell_type": "markdown",
      "source": [
        "# Paricipant management"
      ],
      "metadata": {
        "id": "G9C8L__e-2KH"
      }
    },
    {
      "cell_type": "markdown",
      "source": [
        "## Progress check\n",
        "\n",
        "Which day is each participant on, the state of each survey and the tutorial: unavailable, available, or completed."
      ],
      "metadata": {
        "id": "5JLcrCLQ-5T3"
      }
    },
    {
      "cell_type": "markdown",
      "source": [
        "(Wait about 10 seconds) Read in the meta data"
      ],
      "metadata": {
        "id": "QmxqmvZ7AwKe"
      }
    },
    {
      "cell_type": "code",
      "source": [
        "# read in the data\n",
        "import pytz\n",
        "from datetime import datetime\n",
        "\n",
        "survey_data = pd.read_csv(google_drive_data_path + '/survey_meta.csv')\n",
        "survey_data['submitDate'] = pd.to_datetime(survey_data['timestamp'].map(convert_unix_to_date))\n",
        "\n",
        "# Pivot the dataframe to create survey columns\n",
        "survey_meta_pivoted = survey_data.pivot(index=['pid','host'], columns='surveyID', values='submitDate')\n",
        "\n",
        "# Rename the columns\n",
        "survey_meta_pivoted.columns = ['survey' + str(col) for col in survey_meta_pivoted.columns]\n",
        "\n",
        "# Reset the index to make pid a column again\n",
        "survey_meta_pivoted = survey_meta_pivoted.reset_index()\n",
        "\n",
        "\n",
        "# Get today's date once\n",
        "ny_tz = pytz.timezone('America/New_York')\n",
        "today = pd.Timestamp.now(tz=ny_tz).normalize().date()\n",
        "\n",
        "# Fixed date operations\n",
        "# survey_meta_pivoted['survey1'] = pd.to_datetime(survey_meta_pivoted['survey1']).dt.date\n",
        "\n",
        "cols_to_convert = survey_meta_pivoted.filter(like='survey').columns\n",
        "for col in cols_to_convert:\n",
        "    survey_meta_pivoted[col] = pd.to_datetime(survey_meta_pivoted[col]).dt.date\n",
        "\n",
        "survey_meta_pivoted['real_day_count'] = np.array([today - d for d in survey_meta_pivoted['survey1']], dtype='timedelta64[D]').astype(int) + 1\n",
        "\n",
        "# if 'survey2' in survey_meta_pivoted.columns:\n",
        "#     survey_meta_pivoted['survey2'] = pd.to_datetime(survey_meta_pivoted['survey2']).dt.date"
      ],
      "metadata": {
        "id": "v2PrKPvNBwmL"
      },
      "execution_count": 64,
      "outputs": []
    },
    {
      "cell_type": "code",
      "source": [
        "# First check which columns are missing\n",
        "required_columns = ['survey2', 'survey3', 'survey4']\n",
        "existing_columns = survey_meta_pivoted.columns.tolist()\n",
        "missing_columns = [col for col in required_columns if col not in existing_columns]\n",
        "\n",
        "# Create copy of dataframe and add missing columns with NA\n",
        "df = survey_meta_pivoted.copy()\n",
        "for col in missing_columns:\n",
        "   df[col] = pd.NA\n",
        "\n",
        "# Get current date in NY timezone as pandas Timestamp\n",
        "today = pd.Timestamp.now(tz=ny_tz)\n",
        "\n",
        "\n",
        "# Calculate days_since_s1\n",
        "df['days_since_s1'] = df['real_day_count']\n",
        "\n",
        "# Create app_day_count column\n",
        "df['app_day_count'] = df['days_since_s1']"
      ],
      "metadata": {
        "id": "QfBGU0tOGFa-"
      },
      "execution_count": 65,
      "outputs": []
    },
    {
      "cell_type": "code",
      "source": [
        "df.dtypes"
      ],
      "metadata": {
        "colab": {
          "base_uri": "https://localhost:8080/",
          "height": 366
        },
        "id": "WxNYgGebHCJw",
        "outputId": "1832c822-c83d-4fb6-e406-caf0dc34080d"
      },
      "execution_count": 66,
      "outputs": [
        {
          "output_type": "execute_result",
          "data": {
            "text/plain": [
              "pid               object\n",
              "host               int64\n",
              "survey1           object\n",
              "survey2           object\n",
              "real_day_count     int64\n",
              "survey3           object\n",
              "survey4           object\n",
              "days_since_s1      int64\n",
              "app_day_count      int64\n",
              "dtype: object"
            ],
            "text/html": [
              "<div>\n",
              "<style scoped>\n",
              "    .dataframe tbody tr th:only-of-type {\n",
              "        vertical-align: middle;\n",
              "    }\n",
              "\n",
              "    .dataframe tbody tr th {\n",
              "        vertical-align: top;\n",
              "    }\n",
              "\n",
              "    .dataframe thead th {\n",
              "        text-align: right;\n",
              "    }\n",
              "</style>\n",
              "<table border=\"1\" class=\"dataframe\">\n",
              "  <thead>\n",
              "    <tr style=\"text-align: right;\">\n",
              "      <th></th>\n",
              "      <th>0</th>\n",
              "    </tr>\n",
              "  </thead>\n",
              "  <tbody>\n",
              "    <tr>\n",
              "      <th>pid</th>\n",
              "      <td>object</td>\n",
              "    </tr>\n",
              "    <tr>\n",
              "      <th>host</th>\n",
              "      <td>int64</td>\n",
              "    </tr>\n",
              "    <tr>\n",
              "      <th>survey1</th>\n",
              "      <td>object</td>\n",
              "    </tr>\n",
              "    <tr>\n",
              "      <th>survey2</th>\n",
              "      <td>object</td>\n",
              "    </tr>\n",
              "    <tr>\n",
              "      <th>real_day_count</th>\n",
              "      <td>int64</td>\n",
              "    </tr>\n",
              "    <tr>\n",
              "      <th>survey3</th>\n",
              "      <td>object</td>\n",
              "    </tr>\n",
              "    <tr>\n",
              "      <th>survey4</th>\n",
              "      <td>object</td>\n",
              "    </tr>\n",
              "    <tr>\n",
              "      <th>days_since_s1</th>\n",
              "      <td>int64</td>\n",
              "    </tr>\n",
              "    <tr>\n",
              "      <th>app_day_count</th>\n",
              "      <td>int64</td>\n",
              "    </tr>\n",
              "  </tbody>\n",
              "</table>\n",
              "</div><br><label><b>dtype:</b> object</label>"
            ]
          },
          "metadata": {},
          "execution_count": 66
        }
      ]
    },
    {
      "cell_type": "code",
      "source": [
        "# Handle cases where survey2 is NA\n",
        "df.loc[pd.isna(df['survey2']), 'app_day_count'] = df.loc[pd.isna(df['survey2']), 'days_since_s1'].clip(upper=8)\n",
        "\n",
        "# Handle survey2 cases when survey3 is NA\n",
        "df['survey2'] = pd.to_datetime(df['survey2']).dt.tz_localize(ny_tz)\n",
        "mask_survey2 = pd.notna(df['survey2'])\n",
        "\n",
        "# Handle survey3 cases when survey4 is NA\n",
        "df['survey3'] = pd.to_datetime(df['survey3']).dt.tz_localize(ny_tz)\n",
        "mask_survey3 = pd.notna(df['survey3'])\n",
        "\n",
        "df['survey4'] = pd.to_datetime(df['survey4']).dt.tz_localize(ny_tz)\n",
        "\n",
        "df['delay1'] = 0\n",
        "df.loc[mask_survey2, 'delay1'] = ((df.loc[mask_survey2, 'survey2']\n",
        "                                 - df.loc[mask_survey2, 'survey1']).dt.days - 7).clip(lower=0)\n",
        "\n",
        "mask_survey2_no3 = mask_survey2 & pd.isna(df['survey3'])\n",
        "df.loc[mask_survey2_no3, 'app_day_count'] = (df.loc[mask_survey2_no3, 'days_since_s1']\n",
        "                                           - df.loc[mask_survey2_no3, 'delay1']).clip(upper=15)\n",
        "\n",
        "df['delay2_threshold'] = 7\n",
        "df.loc[mask_survey3 & ((df['survey2'] - df['survey1']).dt.days == 6), 'delay2_threshold'] = 8\n",
        "\n",
        "df['delay2'] = 0\n",
        "df.loc[mask_survey3, 'delay2'] = ((df.loc[mask_survey3, 'survey3'] - df.loc[mask_survey3, 'survey2']).dt.days\n",
        "                                - df.loc[mask_survey3, 'delay2_threshold']).clip(lower=0)\n",
        "\n",
        "mask_survey3_no4 = mask_survey3 & pd.isna(df['survey4'])\n",
        "df.loc[mask_survey3_no4, 'app_day_count'] = (df.loc[mask_survey3_no4, 'days_since_s1']\n",
        "                                           - df.loc[mask_survey3_no4, 'delay1']\n",
        "                                           - df.loc[mask_survey3_no4, 'delay2']).clip(upper=22)\n",
        "\n",
        "# Handle survey4 cases\n",
        "df.loc[pd.notna(df['survey4']), 'app_day_count'] = 22\n",
        "survey_meta_pivoted = df[['pid', 'host', 'survey1', 'survey2', 'survey3', 'survey4', 'real_day_count', 'app_day_count']]\n",
        "survey_meta_pivoted = (survey_meta_pivoted\n",
        "   .assign(pid=lambda x: x['pid'].str.upper())\n",
        "   .rename(columns={'pid': 'PID'}))\n"
      ],
      "metadata": {
        "id": "yr6RQmY6JqKG",
        "colab": {
          "base_uri": "https://localhost:8080/",
          "height": 391
        },
        "outputId": "e5c23d24-4ca2-432e-c98f-7edc9c7b8d65"
      },
      "execution_count": 62,
      "outputs": [
        {
          "output_type": "stream",
          "name": "stderr",
          "text": [
            "<ipython-input-62-9cf1f508744b>:15: PerformanceWarning: Adding/subtracting object-dtype array to DatetimeArray not vectorized.\n",
            "  df.loc[mask_survey2, 'delay1'] = ((df.loc[mask_survey2, 'survey2']\n"
          ]
        },
        {
          "output_type": "error",
          "ename": "TypeError",
          "evalue": "unsupported operand type(s) for -: 'Timestamp' and 'datetime.date'",
          "traceback": [
            "\u001b[0;31m---------------------------------------------------------------------------\u001b[0m",
            "\u001b[0;31mTypeError\u001b[0m                                 Traceback (most recent call last)",
            "\u001b[0;32m<ipython-input-62-9cf1f508744b>\u001b[0m in \u001b[0;36m<cell line: 15>\u001b[0;34m()\u001b[0m\n\u001b[1;32m     13\u001b[0m \u001b[0;34m\u001b[0m\u001b[0m\n\u001b[1;32m     14\u001b[0m \u001b[0mdf\u001b[0m\u001b[0;34m[\u001b[0m\u001b[0;34m'delay1'\u001b[0m\u001b[0;34m]\u001b[0m \u001b[0;34m=\u001b[0m \u001b[0;36m0\u001b[0m\u001b[0;34m\u001b[0m\u001b[0;34m\u001b[0m\u001b[0m\n\u001b[0;32m---> 15\u001b[0;31m df.loc[mask_survey2, 'delay1'] = ((df.loc[mask_survey2, 'survey2']\n\u001b[0m\u001b[1;32m     16\u001b[0m                                  - df.loc[mask_survey2, 'survey1']).dt.days - 7).clip(lower=0)\n\u001b[1;32m     17\u001b[0m \u001b[0;34m\u001b[0m\u001b[0m\n",
            "\u001b[0;32m/usr/local/lib/python3.10/dist-packages/pandas/core/ops/common.py\u001b[0m in \u001b[0;36mnew_method\u001b[0;34m(self, other)\u001b[0m\n\u001b[1;32m     74\u001b[0m         \u001b[0mother\u001b[0m \u001b[0;34m=\u001b[0m \u001b[0mitem_from_zerodim\u001b[0m\u001b[0;34m(\u001b[0m\u001b[0mother\u001b[0m\u001b[0;34m)\u001b[0m\u001b[0;34m\u001b[0m\u001b[0;34m\u001b[0m\u001b[0m\n\u001b[1;32m     75\u001b[0m \u001b[0;34m\u001b[0m\u001b[0m\n\u001b[0;32m---> 76\u001b[0;31m         \u001b[0;32mreturn\u001b[0m \u001b[0mmethod\u001b[0m\u001b[0;34m(\u001b[0m\u001b[0mself\u001b[0m\u001b[0;34m,\u001b[0m \u001b[0mother\u001b[0m\u001b[0;34m)\u001b[0m\u001b[0;34m\u001b[0m\u001b[0;34m\u001b[0m\u001b[0m\n\u001b[0m\u001b[1;32m     77\u001b[0m \u001b[0;34m\u001b[0m\u001b[0m\n\u001b[1;32m     78\u001b[0m     \u001b[0;32mreturn\u001b[0m \u001b[0mnew_method\u001b[0m\u001b[0;34m\u001b[0m\u001b[0;34m\u001b[0m\u001b[0m\n",
            "\u001b[0;32m/usr/local/lib/python3.10/dist-packages/pandas/core/arraylike.py\u001b[0m in \u001b[0;36m__sub__\u001b[0;34m(self, other)\u001b[0m\n\u001b[1;32m    192\u001b[0m     \u001b[0;34m@\u001b[0m\u001b[0munpack_zerodim_and_defer\u001b[0m\u001b[0;34m(\u001b[0m\u001b[0;34m\"__sub__\"\u001b[0m\u001b[0;34m)\u001b[0m\u001b[0;34m\u001b[0m\u001b[0;34m\u001b[0m\u001b[0m\n\u001b[1;32m    193\u001b[0m     \u001b[0;32mdef\u001b[0m \u001b[0m__sub__\u001b[0m\u001b[0;34m(\u001b[0m\u001b[0mself\u001b[0m\u001b[0;34m,\u001b[0m \u001b[0mother\u001b[0m\u001b[0;34m)\u001b[0m\u001b[0;34m:\u001b[0m\u001b[0;34m\u001b[0m\u001b[0;34m\u001b[0m\u001b[0m\n\u001b[0;32m--> 194\u001b[0;31m         \u001b[0;32mreturn\u001b[0m \u001b[0mself\u001b[0m\u001b[0;34m.\u001b[0m\u001b[0m_arith_method\u001b[0m\u001b[0;34m(\u001b[0m\u001b[0mother\u001b[0m\u001b[0;34m,\u001b[0m \u001b[0moperator\u001b[0m\u001b[0;34m.\u001b[0m\u001b[0msub\u001b[0m\u001b[0;34m)\u001b[0m\u001b[0;34m\u001b[0m\u001b[0;34m\u001b[0m\u001b[0m\n\u001b[0m\u001b[1;32m    195\u001b[0m \u001b[0;34m\u001b[0m\u001b[0m\n\u001b[1;32m    196\u001b[0m     \u001b[0;34m@\u001b[0m\u001b[0munpack_zerodim_and_defer\u001b[0m\u001b[0;34m(\u001b[0m\u001b[0;34m\"__rsub__\"\u001b[0m\u001b[0;34m)\u001b[0m\u001b[0;34m\u001b[0m\u001b[0;34m\u001b[0m\u001b[0m\n",
            "\u001b[0;32m/usr/local/lib/python3.10/dist-packages/pandas/core/series.py\u001b[0m in \u001b[0;36m_arith_method\u001b[0;34m(self, other, op)\u001b[0m\n\u001b[1;32m   6133\u001b[0m     \u001b[0;32mdef\u001b[0m \u001b[0m_arith_method\u001b[0m\u001b[0;34m(\u001b[0m\u001b[0mself\u001b[0m\u001b[0;34m,\u001b[0m \u001b[0mother\u001b[0m\u001b[0;34m,\u001b[0m \u001b[0mop\u001b[0m\u001b[0;34m)\u001b[0m\u001b[0;34m:\u001b[0m\u001b[0;34m\u001b[0m\u001b[0;34m\u001b[0m\u001b[0m\n\u001b[1;32m   6134\u001b[0m         \u001b[0mself\u001b[0m\u001b[0;34m,\u001b[0m \u001b[0mother\u001b[0m \u001b[0;34m=\u001b[0m \u001b[0mself\u001b[0m\u001b[0;34m.\u001b[0m\u001b[0m_align_for_op\u001b[0m\u001b[0;34m(\u001b[0m\u001b[0mother\u001b[0m\u001b[0;34m)\u001b[0m\u001b[0;34m\u001b[0m\u001b[0;34m\u001b[0m\u001b[0m\n\u001b[0;32m-> 6135\u001b[0;31m         \u001b[0;32mreturn\u001b[0m \u001b[0mbase\u001b[0m\u001b[0;34m.\u001b[0m\u001b[0mIndexOpsMixin\u001b[0m\u001b[0;34m.\u001b[0m\u001b[0m_arith_method\u001b[0m\u001b[0;34m(\u001b[0m\u001b[0mself\u001b[0m\u001b[0;34m,\u001b[0m \u001b[0mother\u001b[0m\u001b[0;34m,\u001b[0m \u001b[0mop\u001b[0m\u001b[0;34m)\u001b[0m\u001b[0;34m\u001b[0m\u001b[0;34m\u001b[0m\u001b[0m\n\u001b[0m\u001b[1;32m   6136\u001b[0m \u001b[0;34m\u001b[0m\u001b[0m\n\u001b[1;32m   6137\u001b[0m     \u001b[0;32mdef\u001b[0m \u001b[0m_align_for_op\u001b[0m\u001b[0;34m(\u001b[0m\u001b[0mself\u001b[0m\u001b[0;34m,\u001b[0m \u001b[0mright\u001b[0m\u001b[0;34m,\u001b[0m \u001b[0malign_asobject\u001b[0m\u001b[0;34m:\u001b[0m \u001b[0mbool\u001b[0m \u001b[0;34m=\u001b[0m \u001b[0;32mFalse\u001b[0m\u001b[0;34m)\u001b[0m\u001b[0;34m:\u001b[0m\u001b[0;34m\u001b[0m\u001b[0;34m\u001b[0m\u001b[0m\n",
            "\u001b[0;32m/usr/local/lib/python3.10/dist-packages/pandas/core/base.py\u001b[0m in \u001b[0;36m_arith_method\u001b[0;34m(self, other, op)\u001b[0m\n\u001b[1;32m   1380\u001b[0m \u001b[0;34m\u001b[0m\u001b[0m\n\u001b[1;32m   1381\u001b[0m         \u001b[0;32mwith\u001b[0m \u001b[0mnp\u001b[0m\u001b[0;34m.\u001b[0m\u001b[0merrstate\u001b[0m\u001b[0;34m(\u001b[0m\u001b[0mall\u001b[0m\u001b[0;34m=\u001b[0m\u001b[0;34m\"ignore\"\u001b[0m\u001b[0;34m)\u001b[0m\u001b[0;34m:\u001b[0m\u001b[0;34m\u001b[0m\u001b[0;34m\u001b[0m\u001b[0m\n\u001b[0;32m-> 1382\u001b[0;31m             \u001b[0mresult\u001b[0m \u001b[0;34m=\u001b[0m \u001b[0mops\u001b[0m\u001b[0;34m.\u001b[0m\u001b[0marithmetic_op\u001b[0m\u001b[0;34m(\u001b[0m\u001b[0mlvalues\u001b[0m\u001b[0;34m,\u001b[0m \u001b[0mrvalues\u001b[0m\u001b[0;34m,\u001b[0m \u001b[0mop\u001b[0m\u001b[0;34m)\u001b[0m\u001b[0;34m\u001b[0m\u001b[0;34m\u001b[0m\u001b[0m\n\u001b[0m\u001b[1;32m   1383\u001b[0m \u001b[0;34m\u001b[0m\u001b[0m\n\u001b[1;32m   1384\u001b[0m         \u001b[0;32mreturn\u001b[0m \u001b[0mself\u001b[0m\u001b[0;34m.\u001b[0m\u001b[0m_construct_result\u001b[0m\u001b[0;34m(\u001b[0m\u001b[0mresult\u001b[0m\u001b[0;34m,\u001b[0m \u001b[0mname\u001b[0m\u001b[0;34m=\u001b[0m\u001b[0mres_name\u001b[0m\u001b[0;34m)\u001b[0m\u001b[0;34m\u001b[0m\u001b[0;34m\u001b[0m\u001b[0m\n",
            "\u001b[0;32m/usr/local/lib/python3.10/dist-packages/pandas/core/ops/array_ops.py\u001b[0m in \u001b[0;36marithmetic_op\u001b[0;34m(left, right, op)\u001b[0m\n\u001b[1;32m    271\u001b[0m         \u001b[0;31m# Timedelta/Timestamp and other custom scalars are included in the check\u001b[0m\u001b[0;34m\u001b[0m\u001b[0;34m\u001b[0m\u001b[0m\n\u001b[1;32m    272\u001b[0m         \u001b[0;31m# because numexpr will fail on it, see GH#31457\u001b[0m\u001b[0;34m\u001b[0m\u001b[0;34m\u001b[0m\u001b[0m\n\u001b[0;32m--> 273\u001b[0;31m         \u001b[0mres_values\u001b[0m \u001b[0;34m=\u001b[0m \u001b[0mop\u001b[0m\u001b[0;34m(\u001b[0m\u001b[0mleft\u001b[0m\u001b[0;34m,\u001b[0m \u001b[0mright\u001b[0m\u001b[0;34m)\u001b[0m\u001b[0;34m\u001b[0m\u001b[0;34m\u001b[0m\u001b[0m\n\u001b[0m\u001b[1;32m    274\u001b[0m     \u001b[0;32melse\u001b[0m\u001b[0;34m:\u001b[0m\u001b[0;34m\u001b[0m\u001b[0;34m\u001b[0m\u001b[0m\n\u001b[1;32m    275\u001b[0m         \u001b[0;31m# TODO we should handle EAs consistently and move this check before the if/else\u001b[0m\u001b[0;34m\u001b[0m\u001b[0;34m\u001b[0m\u001b[0m\n",
            "\u001b[0;32m/usr/local/lib/python3.10/dist-packages/pandas/core/ops/common.py\u001b[0m in \u001b[0;36mnew_method\u001b[0;34m(self, other)\u001b[0m\n\u001b[1;32m     74\u001b[0m         \u001b[0mother\u001b[0m \u001b[0;34m=\u001b[0m \u001b[0mitem_from_zerodim\u001b[0m\u001b[0;34m(\u001b[0m\u001b[0mother\u001b[0m\u001b[0;34m)\u001b[0m\u001b[0;34m\u001b[0m\u001b[0;34m\u001b[0m\u001b[0m\n\u001b[1;32m     75\u001b[0m \u001b[0;34m\u001b[0m\u001b[0m\n\u001b[0;32m---> 76\u001b[0;31m         \u001b[0;32mreturn\u001b[0m \u001b[0mmethod\u001b[0m\u001b[0;34m(\u001b[0m\u001b[0mself\u001b[0m\u001b[0;34m,\u001b[0m \u001b[0mother\u001b[0m\u001b[0;34m)\u001b[0m\u001b[0;34m\u001b[0m\u001b[0;34m\u001b[0m\u001b[0m\n\u001b[0m\u001b[1;32m     77\u001b[0m \u001b[0;34m\u001b[0m\u001b[0m\n\u001b[1;32m     78\u001b[0m     \u001b[0;32mreturn\u001b[0m \u001b[0mnew_method\u001b[0m\u001b[0;34m\u001b[0m\u001b[0;34m\u001b[0m\u001b[0m\n",
            "\u001b[0;32m/usr/local/lib/python3.10/dist-packages/pandas/core/arrays/datetimelike.py\u001b[0m in \u001b[0;36m__sub__\u001b[0;34m(self, other)\u001b[0m\n\u001b[1;32m   1452\u001b[0m         \u001b[0;32melif\u001b[0m \u001b[0mis_object_dtype\u001b[0m\u001b[0;34m(\u001b[0m\u001b[0mother_dtype\u001b[0m\u001b[0;34m)\u001b[0m\u001b[0;34m:\u001b[0m\u001b[0;34m\u001b[0m\u001b[0;34m\u001b[0m\u001b[0m\n\u001b[1;32m   1453\u001b[0m             \u001b[0;31m# e.g. Array/Index of DateOffset objects\u001b[0m\u001b[0;34m\u001b[0m\u001b[0;34m\u001b[0m\u001b[0m\n\u001b[0;32m-> 1454\u001b[0;31m             \u001b[0mresult\u001b[0m \u001b[0;34m=\u001b[0m \u001b[0mself\u001b[0m\u001b[0;34m.\u001b[0m\u001b[0m_addsub_object_array\u001b[0m\u001b[0;34m(\u001b[0m\u001b[0mother\u001b[0m\u001b[0;34m,\u001b[0m \u001b[0moperator\u001b[0m\u001b[0;34m.\u001b[0m\u001b[0msub\u001b[0m\u001b[0;34m)\u001b[0m\u001b[0;34m\u001b[0m\u001b[0;34m\u001b[0m\u001b[0m\n\u001b[0m\u001b[1;32m   1455\u001b[0m         elif lib.is_np_dtype(other_dtype, \"M\") or isinstance(\n\u001b[1;32m   1456\u001b[0m             \u001b[0mother_dtype\u001b[0m\u001b[0;34m,\u001b[0m \u001b[0mDatetimeTZDtype\u001b[0m\u001b[0;34m\u001b[0m\u001b[0;34m\u001b[0m\u001b[0m\n",
            "\u001b[0;32m/usr/local/lib/python3.10/dist-packages/pandas/core/arrays/datetimelike.py\u001b[0m in \u001b[0;36m_addsub_object_array\u001b[0;34m(self, other, op)\u001b[0m\n\u001b[1;32m   1348\u001b[0m         \u001b[0;32massert\u001b[0m \u001b[0mself\u001b[0m\u001b[0;34m.\u001b[0m\u001b[0mshape\u001b[0m \u001b[0;34m==\u001b[0m \u001b[0mother\u001b[0m\u001b[0;34m.\u001b[0m\u001b[0mshape\u001b[0m\u001b[0;34m,\u001b[0m \u001b[0;34m(\u001b[0m\u001b[0mself\u001b[0m\u001b[0;34m.\u001b[0m\u001b[0mshape\u001b[0m\u001b[0;34m,\u001b[0m \u001b[0mother\u001b[0m\u001b[0;34m.\u001b[0m\u001b[0mshape\u001b[0m\u001b[0;34m)\u001b[0m\u001b[0;34m\u001b[0m\u001b[0;34m\u001b[0m\u001b[0m\n\u001b[1;32m   1349\u001b[0m \u001b[0;34m\u001b[0m\u001b[0m\n\u001b[0;32m-> 1350\u001b[0;31m         \u001b[0mres_values\u001b[0m \u001b[0;34m=\u001b[0m \u001b[0mop\u001b[0m\u001b[0;34m(\u001b[0m\u001b[0mself\u001b[0m\u001b[0;34m.\u001b[0m\u001b[0mastype\u001b[0m\u001b[0;34m(\u001b[0m\u001b[0;34m\"O\"\u001b[0m\u001b[0;34m)\u001b[0m\u001b[0;34m,\u001b[0m \u001b[0mnp\u001b[0m\u001b[0;34m.\u001b[0m\u001b[0masarray\u001b[0m\u001b[0;34m(\u001b[0m\u001b[0mother\u001b[0m\u001b[0;34m)\u001b[0m\u001b[0;34m)\u001b[0m\u001b[0;34m\u001b[0m\u001b[0;34m\u001b[0m\u001b[0m\n\u001b[0m\u001b[1;32m   1351\u001b[0m         \u001b[0;32mreturn\u001b[0m \u001b[0mres_values\u001b[0m\u001b[0;34m\u001b[0m\u001b[0;34m\u001b[0m\u001b[0m\n\u001b[1;32m   1352\u001b[0m \u001b[0;34m\u001b[0m\u001b[0m\n",
            "\u001b[0;31mTypeError\u001b[0m: unsupported operand type(s) for -: 'Timestamp' and 'datetime.date'"
          ]
        }
      ]
    },
    {
      "cell_type": "code",
      "source": [],
      "metadata": {
        "id": "K38oamTkH9os"
      },
      "execution_count": null,
      "outputs": []
    },
    {
      "cell_type": "markdown",
      "source": [
        "Read the email info and merge"
      ],
      "metadata": {
        "id": "SyBFn33BA8fn"
      }
    },
    {
      "cell_type": "markdown",
      "source": [
        "Before running the cell below, make sure the Participants.xlsx is up to date."
      ],
      "metadata": {
        "id": "zq-IN9cCKjN5"
      }
    },
    {
      "cell_type": "code",
      "source": [
        "participant_data = pd.read_excel(google_drive_data_path + '/Participants.xlsx')\n",
        "\n",
        "participant_manager = pd.merge(survey_meta_pivoted, participant_data, on='PID', how='right')\n",
        "\n",
        "# Sort by survey1\n",
        "participant_manager = participant_manager.sort_values(by='survey1')\n",
        "\n",
        "# Drop the specified columns\n",
        "participant_manager = participant_manager.drop(columns=['host', 'real_day_count'], errors='ignore')\n",
        "\n",
        "# Rename the 'Date' column to 'Date_invited' in the participant_manager DataFrame.\n",
        "participant_manager = participant_manager.rename(columns={'Date': 'date_invited'})\n",
        "\n",
        "participant_manager.drop(columns=['nick name'], errors='ignore').to_csv(google_drive_data_path + '/survey_meta_pivot.csv', index=False)\n",
        "# Read and process screen data in one chain\n",
        "latest_times = (pd.read_csv(google_drive_data_path + '/screen_events.csv')\n",
        "   .groupby('pid')['endTime']\n",
        "   .max()\n",
        "   .reset_index()\n",
        "   .assign(lastUpdate=lambda x: x['endTime'].map(lambda y: convert_unix_to_date(y, return_date=False)))\n",
        "   .drop(columns=['endTime'])\n",
        "   .assign(PID=lambda x: x['pid'].str.upper())\n",
        "   .drop(columns=['pid']))\n",
        "\n",
        "# Read and process timezone data in one chain\n",
        "timezone_data = (pd.read_csv(google_drive_data_path + '/timezones.csv')\n",
        "   .assign(PID=lambda x: x['pid'].str.upper())\n",
        "   .drop(columns=['pid'])\n",
        "   [['PID', 'timezone']])\n",
        "\n",
        "# Combine all merges and data cleaning in one chain\n",
        "participant_manager = (participant_manager\n",
        "   .merge(latest_times, on='PID', how='left')\n",
        "   .merge(timezone_data, on='PID', how='left')\n",
        "   .assign(lastUpdate=lambda x: x['lastUpdate'].astype(str).replace('NaT', ''))\n",
        "   .fillna(''))"
      ],
      "metadata": {
        "id": "I-up9q11ojae"
      },
      "execution_count": 24,
      "outputs": []
    },
    {
      "cell_type": "markdown",
      "source": [
        "Update lastUpdate with Timezone"
      ],
      "metadata": {
        "id": "TrwVqrG6sqyE"
      }
    },
    {
      "cell_type": "code",
      "source": [
        "import pandas as pd\n",
        "from datetime import datetime\n",
        "import pytz\n",
        "\n",
        "def convert_to_local_time(row):\n",
        "    # Skip rows where either lastUpdate or timezone is missing\n",
        "    if pd.isna(row['lastUpdate']) or pd.isna(row['timezone']):\n",
        "        return pd.NaT\n",
        "\n",
        "    try:\n",
        "        # Parse the timestamp\n",
        "        dt = pd.to_datetime(row['lastUpdate'])\n",
        "        if pd.isna(dt):\n",
        "            return pd.NaT\n",
        "\n",
        "        # Get source timezone (EST/EDT)\n",
        "        source_tz = pytz.timezone('America/New_York')\n",
        "\n",
        "        # Localize the datetime\n",
        "        dt_source = source_tz.localize(dt.tz_localize(None))\n",
        "\n",
        "        # Convert to target timezone\n",
        "        target_tz = pytz.timezone(row['timezone'])\n",
        "        dt_target = dt_source.astimezone(target_tz)\n",
        "\n",
        "        return dt_target\n",
        "\n",
        "    except (ValueError, AttributeError):\n",
        "        return pd.NaT\n",
        "\n",
        "# Apply the conversion\n",
        "participant_manager['local_time'] = participant_manager.apply(convert_to_local_time, axis=1)\n",
        "\n",
        "# Replace \"NaT\" with empty strings in the 'lastUpdate' column\n",
        "participant_manager['local_time'] = participant_manager['local_time'].astype(str).replace('NaT', '')\n",
        "def calculate_time_lapse(last_update):\n",
        "    if pd.isna(last_update):\n",
        "        return None\n",
        "\n",
        "    # Get current time in EST (since lastUpdate is in EST)\n",
        "    est = pytz.timezone('America/New_York')\n",
        "    now = datetime.now(est)\n",
        "\n",
        "    try:\n",
        "        # Parse lastUpdate with timezone info (-05:00 is already in the data)\n",
        "        last_update = pd.to_datetime(last_update, utc=True)\n",
        "        last_update = last_update.astimezone(est)\n",
        "\n",
        "        # Calculate time difference\n",
        "        time_diff = now - last_update\n",
        "\n",
        "        # Convert to hours and minutes\n",
        "        total_minutes = time_diff.total_seconds() / 60\n",
        "        hours = int(total_minutes // 60)\n",
        "        minutes = int(total_minutes % 60)\n",
        "\n",
        "        # Format as HH:MM\n",
        "        return f\"{hours:02d}:{minutes:02d}\"\n",
        "    except:\n",
        "        return None\n",
        "\n",
        "# Calculate time lapse for each row\n",
        "participant_manager['time_lapse'] = participant_manager['lastUpdate'].apply(calculate_time_lapse)\n",
        "\n",
        "# prompt: Rename \"nick name\":\"nick_name\", \"timezone\":\"time_zone\", \"local_time\":\"last_update_local\",\"time_lapse\":\"lapse_last_update\"\n",
        "\n",
        "# Rename the columns\n",
        "participant_manager = participant_manager.rename(columns={\n",
        "    \"survey1\": \"start_date\",\n",
        "    \"nick name\": \"nick_name\",\n",
        "    \"timezone\": \"time_zone\",\n",
        "    \"local_time\": \"last_update_local\",\n",
        "    \"time_lapse\": \"lapse_last_update\"\n",
        "})\n",
        "\n",
        "print(participant_manager.columns)\n"
      ],
      "metadata": {
        "id": "qNxSDxWyuSx7",
        "colab": {
          "base_uri": "https://localhost:8080/"
        },
        "outputId": "47c4445c-2a70-40b5-c059-4db8828c5165"
      },
      "execution_count": 25,
      "outputs": [
        {
          "output_type": "stream",
          "name": "stdout",
          "text": [
            "Index(['PID', 'start_date', 'survey2', 'survey3', 'survey4', 'app_day_count',\n",
            "       'Email', 'nick_name', 'date_invited', 'lastUpdate', 'time_zone',\n",
            "       'last_update_local', 'lapse_last_update'],\n",
            "      dtype='object')\n"
          ]
        }
      ]
    },
    {
      "cell_type": "code",
      "source": [
        "# prompt: reorder the columns: PID, Email, nick_name, start_date, app_day_count, last_update_local, lapse_last_update\n",
        "\n",
        "# Reorder the columns\n",
        "new_column_order = ['PID', 'Email', 'nick_name', 'date_invited', 'start_date', 'survey2', 'survey3','survey4','app_day_count', 'last_update_local', 'lapse_last_update']\n",
        "participant_manager = participant_manager[new_column_order]"
      ],
      "metadata": {
        "id": "Ne-yNsOo-L-r"
      },
      "execution_count": 26,
      "outputs": []
    },
    {
      "cell_type": "markdown",
      "source": [
        "Creating a status"
      ],
      "metadata": {
        "id": "xtMfDvWSKA9G"
      }
    },
    {
      "cell_type": "code",
      "source": [
        "participant_manager_ID = '1RxxvaVzf15X3H0ak4UTDr4pjrBRjoCCiOW1smkTTJLs'\n",
        "saved_status = get_sheet_as_df(participant_manager_ID)\n",
        "# saved_status = saved_status.drop(columns=['PID', 'nick_name', 'start_date', 'app_day_count', 'last_update_local', 'lapse_last_update'], errors='ignore')\n",
        "\n",
        "import pandas as pd\n",
        "from datetime import datetime, time\n",
        "\n",
        "# Read the CSV\n",
        "df = participant_manager.copy()\n",
        "\n",
        "# Identify duplicate columns\n",
        "duplicate_cols = [col for col in df.columns if col in saved_status.columns and col != 'Email']"
      ],
      "metadata": {
        "id": "B4d3pbG7-7Ma"
      },
      "execution_count": 27,
      "outputs": []
    },
    {
      "cell_type": "code",
      "source": [
        "# Drop the duplicate columns from the right DataFrame before merging\n",
        "saved_status = saved_status.drop(columns=duplicate_cols, errors='ignore')\n",
        "saved_status = saved_status.drop(columns=['daily_unlocks', 'daily_screen_hours', 'day_count','day_missing','note'], errors='ignore')\n",
        "\n",
        "df = df.merge(saved_status, on='Email', how='left')\n",
        "\n",
        "# Convert 'status' column to numeric, handling errors\n",
        "df['status'] = pd.to_numeric(df['status'], errors='coerce')\n",
        "\n",
        "# Initialize status column with 1 ONLY where status is NaN or < 4\n",
        "mask_initial = df['status'].isna() | (df['status'] < 8)\n",
        "df.loc[mask_initial, 'status'] = 1\n"
      ],
      "metadata": {
        "id": "zgrIO21P_7ML"
      },
      "execution_count": 28,
      "outputs": []
    },
    {
      "cell_type": "code",
      "source": [
        "# Get all columns that are numbers as strings\n",
        "numeric_cols = [col for col in df.columns if str(col).isdigit()]\n",
        "\n",
        "# Replace NaT in datetime columns\n",
        "datetime_cols = ['date_invited', 'start_date', 'survey2', 'survey3', 'survey4']\n",
        "df[datetime_cols] = df[datetime_cols].astype(object).where(df[datetime_cols].notnull(), '')\n",
        "\n",
        "# Replace nulls in object columns\n",
        "object_cols = df.select_dtypes(include=['object']).columns\n",
        "df[object_cols] = df[object_cols].fillna('')\n",
        "\n",
        "# Replace string 'nan' in numeric columns\n",
        "df[numeric_cols] = df[numeric_cols].replace('nan', '')\n",
        "\n",
        "# For the int64 column (status)\n",
        "df['status'] = df['status'].fillna('')"
      ],
      "metadata": {
        "colab": {
          "base_uri": "https://localhost:8080/"
        },
        "id": "e0C3Gixjc7QI",
        "outputId": "6d9fb296-8cb7-4ceb-8d32-f05dfd9c8597"
      },
      "execution_count": 29,
      "outputs": [
        {
          "output_type": "stream",
          "name": "stderr",
          "text": [
            "<ipython-input-29-547b309ecef8>:10: FutureWarning: Downcasting object dtype arrays on .fillna, .ffill, .bfill is deprecated and will change in a future version. Call result.infer_objects(copy=False) instead. To opt-in to the future behavior, set `pd.set_option('future.no_silent_downcasting', True)`\n",
            "  df[object_cols] = df[object_cols].fillna('')\n"
          ]
        }
      ]
    },
    {
      "cell_type": "code",
      "source": [
        "df.to_csv(google_drive_data_path + '/participant_manager_temp.csv', index=False)"
      ],
      "metadata": {
        "id": "dOeihF1hipvq"
      },
      "execution_count": 30,
      "outputs": []
    },
    {
      "cell_type": "code",
      "source": [
        "df.head()"
      ],
      "metadata": {
        "colab": {
          "base_uri": "https://localhost:8080/",
          "height": 434
        },
        "id": "BrRBKjbWjMZg",
        "outputId": "8d025942-8fcb-4805-96a4-43c1c7cb5125"
      },
      "execution_count": 31,
      "outputs": [
        {
          "output_type": "execute_result",
          "data": {
            "text/plain": [
              "     PID                     Email nick_name date_invited  \\\n",
              "0  ST011       mappscarl@gmail.com      Solo   2024-12-04   \n",
              "1  ST012           djsboca@aol.com     David   2024-12-04   \n",
              "2  ST013   santanana2000@yahoo.com       dan   2024-12-04   \n",
              "3  ST014  sadiesantacruz@gmail.com     Sadie   2024-12-04   \n",
              "4  ST015    jimoreno2055@gmail.com      Juan   2024-12-04   \n",
              "\n",
              "                  start_date                    survey2 survey3 survey4  \\\n",
              "0  2024-12-03 19:00:00-05:00                                              \n",
              "1  2024-12-03 19:00:00-05:00  2024-12-10 00:00:00-05:00                   \n",
              "2  2024-12-03 19:00:00-05:00  2024-12-10 00:00:00-05:00                   \n",
              "3  2024-12-03 19:00:00-05:00                                              \n",
              "4  2024-12-03 19:00:00-05:00                                              \n",
              "\n",
              "  app_day_count                 last_update_local lapse_last_update  status  \\\n",
              "0           8.0  2024-12-10 15:15:32.156000-06:00             02:56       1   \n",
              "1           8.0  2024-12-10 18:23:48.718000-05:00             00:47       1   \n",
              "2           8.0  2024-12-10 18:08:47.993000-06:00             00:02       1   \n",
              "3           8.0  2024-12-10 18:08:59.581000-06:00             00:02       1   \n",
              "4           8.0  2024-12-10 11:22:23.778000-03:00             09:49       1   \n",
              "\n",
              "              1210          1209          1208          1207         1206  \\\n",
              "0  survey awaiting  working well   data paused  working well  data paused   \n",
              "1     working well   data paused   data paused   data paused                \n",
              "2     working well  working well  working well  working well                \n",
              "3  survey awaiting  working well  working well  working well                \n",
              "4  survey awaiting   data paused  working well  working well  data paused   \n",
              "\n",
              "          1205      Source  \n",
              "0               Janel Rana  \n",
              "1  data paused  Janel Rana  \n",
              "2               Janel Rana  \n",
              "3               Janel Rana  \n",
              "4               Janel Rana  "
            ],
            "text/html": [
              "\n",
              "  <div id=\"df-2fc20a3f-a660-4d21-a736-28b335eace4b\" class=\"colab-df-container\">\n",
              "    <div>\n",
              "<style scoped>\n",
              "    .dataframe tbody tr th:only-of-type {\n",
              "        vertical-align: middle;\n",
              "    }\n",
              "\n",
              "    .dataframe tbody tr th {\n",
              "        vertical-align: top;\n",
              "    }\n",
              "\n",
              "    .dataframe thead th {\n",
              "        text-align: right;\n",
              "    }\n",
              "</style>\n",
              "<table border=\"1\" class=\"dataframe\">\n",
              "  <thead>\n",
              "    <tr style=\"text-align: right;\">\n",
              "      <th></th>\n",
              "      <th>PID</th>\n",
              "      <th>Email</th>\n",
              "      <th>nick_name</th>\n",
              "      <th>date_invited</th>\n",
              "      <th>start_date</th>\n",
              "      <th>survey2</th>\n",
              "      <th>survey3</th>\n",
              "      <th>survey4</th>\n",
              "      <th>app_day_count</th>\n",
              "      <th>last_update_local</th>\n",
              "      <th>lapse_last_update</th>\n",
              "      <th>status</th>\n",
              "      <th>1210</th>\n",
              "      <th>1209</th>\n",
              "      <th>1208</th>\n",
              "      <th>1207</th>\n",
              "      <th>1206</th>\n",
              "      <th>1205</th>\n",
              "      <th>Source</th>\n",
              "    </tr>\n",
              "  </thead>\n",
              "  <tbody>\n",
              "    <tr>\n",
              "      <th>0</th>\n",
              "      <td>ST011</td>\n",
              "      <td>mappscarl@gmail.com</td>\n",
              "      <td>Solo</td>\n",
              "      <td>2024-12-04</td>\n",
              "      <td>2024-12-03 19:00:00-05:00</td>\n",
              "      <td></td>\n",
              "      <td></td>\n",
              "      <td></td>\n",
              "      <td>8.0</td>\n",
              "      <td>2024-12-10 15:15:32.156000-06:00</td>\n",
              "      <td>02:56</td>\n",
              "      <td>1</td>\n",
              "      <td>survey awaiting</td>\n",
              "      <td>working well</td>\n",
              "      <td>data paused</td>\n",
              "      <td>working well</td>\n",
              "      <td>data paused</td>\n",
              "      <td></td>\n",
              "      <td>Janel Rana</td>\n",
              "    </tr>\n",
              "    <tr>\n",
              "      <th>1</th>\n",
              "      <td>ST012</td>\n",
              "      <td>djsboca@aol.com</td>\n",
              "      <td>David</td>\n",
              "      <td>2024-12-04</td>\n",
              "      <td>2024-12-03 19:00:00-05:00</td>\n",
              "      <td>2024-12-10 00:00:00-05:00</td>\n",
              "      <td></td>\n",
              "      <td></td>\n",
              "      <td>8.0</td>\n",
              "      <td>2024-12-10 18:23:48.718000-05:00</td>\n",
              "      <td>00:47</td>\n",
              "      <td>1</td>\n",
              "      <td>working well</td>\n",
              "      <td>data paused</td>\n",
              "      <td>data paused</td>\n",
              "      <td>data paused</td>\n",
              "      <td></td>\n",
              "      <td>data paused</td>\n",
              "      <td>Janel Rana</td>\n",
              "    </tr>\n",
              "    <tr>\n",
              "      <th>2</th>\n",
              "      <td>ST013</td>\n",
              "      <td>santanana2000@yahoo.com</td>\n",
              "      <td>dan</td>\n",
              "      <td>2024-12-04</td>\n",
              "      <td>2024-12-03 19:00:00-05:00</td>\n",
              "      <td>2024-12-10 00:00:00-05:00</td>\n",
              "      <td></td>\n",
              "      <td></td>\n",
              "      <td>8.0</td>\n",
              "      <td>2024-12-10 18:08:47.993000-06:00</td>\n",
              "      <td>00:02</td>\n",
              "      <td>1</td>\n",
              "      <td>working well</td>\n",
              "      <td>working well</td>\n",
              "      <td>working well</td>\n",
              "      <td>working well</td>\n",
              "      <td></td>\n",
              "      <td></td>\n",
              "      <td>Janel Rana</td>\n",
              "    </tr>\n",
              "    <tr>\n",
              "      <th>3</th>\n",
              "      <td>ST014</td>\n",
              "      <td>sadiesantacruz@gmail.com</td>\n",
              "      <td>Sadie</td>\n",
              "      <td>2024-12-04</td>\n",
              "      <td>2024-12-03 19:00:00-05:00</td>\n",
              "      <td></td>\n",
              "      <td></td>\n",
              "      <td></td>\n",
              "      <td>8.0</td>\n",
              "      <td>2024-12-10 18:08:59.581000-06:00</td>\n",
              "      <td>00:02</td>\n",
              "      <td>1</td>\n",
              "      <td>survey awaiting</td>\n",
              "      <td>working well</td>\n",
              "      <td>working well</td>\n",
              "      <td>working well</td>\n",
              "      <td></td>\n",
              "      <td></td>\n",
              "      <td>Janel Rana</td>\n",
              "    </tr>\n",
              "    <tr>\n",
              "      <th>4</th>\n",
              "      <td>ST015</td>\n",
              "      <td>jimoreno2055@gmail.com</td>\n",
              "      <td>Juan</td>\n",
              "      <td>2024-12-04</td>\n",
              "      <td>2024-12-03 19:00:00-05:00</td>\n",
              "      <td></td>\n",
              "      <td></td>\n",
              "      <td></td>\n",
              "      <td>8.0</td>\n",
              "      <td>2024-12-10 11:22:23.778000-03:00</td>\n",
              "      <td>09:49</td>\n",
              "      <td>1</td>\n",
              "      <td>survey awaiting</td>\n",
              "      <td>data paused</td>\n",
              "      <td>working well</td>\n",
              "      <td>working well</td>\n",
              "      <td>data paused</td>\n",
              "      <td></td>\n",
              "      <td>Janel Rana</td>\n",
              "    </tr>\n",
              "  </tbody>\n",
              "</table>\n",
              "</div>\n",
              "    <div class=\"colab-df-buttons\">\n",
              "\n",
              "  <div class=\"colab-df-container\">\n",
              "    <button class=\"colab-df-convert\" onclick=\"convertToInteractive('df-2fc20a3f-a660-4d21-a736-28b335eace4b')\"\n",
              "            title=\"Convert this dataframe to an interactive table.\"\n",
              "            style=\"display:none;\">\n",
              "\n",
              "  <svg xmlns=\"http://www.w3.org/2000/svg\" height=\"24px\" viewBox=\"0 -960 960 960\">\n",
              "    <path d=\"M120-120v-720h720v720H120Zm60-500h600v-160H180v160Zm220 220h160v-160H400v160Zm0 220h160v-160H400v160ZM180-400h160v-160H180v160Zm440 0h160v-160H620v160ZM180-180h160v-160H180v160Zm440 0h160v-160H620v160Z\"/>\n",
              "  </svg>\n",
              "    </button>\n",
              "\n",
              "  <style>\n",
              "    .colab-df-container {\n",
              "      display:flex;\n",
              "      gap: 12px;\n",
              "    }\n",
              "\n",
              "    .colab-df-convert {\n",
              "      background-color: #E8F0FE;\n",
              "      border: none;\n",
              "      border-radius: 50%;\n",
              "      cursor: pointer;\n",
              "      display: none;\n",
              "      fill: #1967D2;\n",
              "      height: 32px;\n",
              "      padding: 0 0 0 0;\n",
              "      width: 32px;\n",
              "    }\n",
              "\n",
              "    .colab-df-convert:hover {\n",
              "      background-color: #E2EBFA;\n",
              "      box-shadow: 0px 1px 2px rgba(60, 64, 67, 0.3), 0px 1px 3px 1px rgba(60, 64, 67, 0.15);\n",
              "      fill: #174EA6;\n",
              "    }\n",
              "\n",
              "    .colab-df-buttons div {\n",
              "      margin-bottom: 4px;\n",
              "    }\n",
              "\n",
              "    [theme=dark] .colab-df-convert {\n",
              "      background-color: #3B4455;\n",
              "      fill: #D2E3FC;\n",
              "    }\n",
              "\n",
              "    [theme=dark] .colab-df-convert:hover {\n",
              "      background-color: #434B5C;\n",
              "      box-shadow: 0px 1px 3px 1px rgba(0, 0, 0, 0.15);\n",
              "      filter: drop-shadow(0px 1px 2px rgba(0, 0, 0, 0.3));\n",
              "      fill: #FFFFFF;\n",
              "    }\n",
              "  </style>\n",
              "\n",
              "    <script>\n",
              "      const buttonEl =\n",
              "        document.querySelector('#df-2fc20a3f-a660-4d21-a736-28b335eace4b button.colab-df-convert');\n",
              "      buttonEl.style.display =\n",
              "        google.colab.kernel.accessAllowed ? 'block' : 'none';\n",
              "\n",
              "      async function convertToInteractive(key) {\n",
              "        const element = document.querySelector('#df-2fc20a3f-a660-4d21-a736-28b335eace4b');\n",
              "        const dataTable =\n",
              "          await google.colab.kernel.invokeFunction('convertToInteractive',\n",
              "                                                    [key], {});\n",
              "        if (!dataTable) return;\n",
              "\n",
              "        const docLinkHtml = 'Like what you see? Visit the ' +\n",
              "          '<a target=\"_blank\" href=https://colab.research.google.com/notebooks/data_table.ipynb>data table notebook</a>'\n",
              "          + ' to learn more about interactive tables.';\n",
              "        element.innerHTML = '';\n",
              "        dataTable['output_type'] = 'display_data';\n",
              "        await google.colab.output.renderOutput(dataTable, element);\n",
              "        const docLink = document.createElement('div');\n",
              "        docLink.innerHTML = docLinkHtml;\n",
              "        element.appendChild(docLink);\n",
              "      }\n",
              "    </script>\n",
              "  </div>\n",
              "\n",
              "\n",
              "<div id=\"df-41efc545-d7e3-4255-bdd4-bf9413190e00\">\n",
              "  <button class=\"colab-df-quickchart\" onclick=\"quickchart('df-41efc545-d7e3-4255-bdd4-bf9413190e00')\"\n",
              "            title=\"Suggest charts\"\n",
              "            style=\"display:none;\">\n",
              "\n",
              "<svg xmlns=\"http://www.w3.org/2000/svg\" height=\"24px\"viewBox=\"0 0 24 24\"\n",
              "     width=\"24px\">\n",
              "    <g>\n",
              "        <path d=\"M19 3H5c-1.1 0-2 .9-2 2v14c0 1.1.9 2 2 2h14c1.1 0 2-.9 2-2V5c0-1.1-.9-2-2-2zM9 17H7v-7h2v7zm4 0h-2V7h2v10zm4 0h-2v-4h2v4z\"/>\n",
              "    </g>\n",
              "</svg>\n",
              "  </button>\n",
              "\n",
              "<style>\n",
              "  .colab-df-quickchart {\n",
              "      --bg-color: #E8F0FE;\n",
              "      --fill-color: #1967D2;\n",
              "      --hover-bg-color: #E2EBFA;\n",
              "      --hover-fill-color: #174EA6;\n",
              "      --disabled-fill-color: #AAA;\n",
              "      --disabled-bg-color: #DDD;\n",
              "  }\n",
              "\n",
              "  [theme=dark] .colab-df-quickchart {\n",
              "      --bg-color: #3B4455;\n",
              "      --fill-color: #D2E3FC;\n",
              "      --hover-bg-color: #434B5C;\n",
              "      --hover-fill-color: #FFFFFF;\n",
              "      --disabled-bg-color: #3B4455;\n",
              "      --disabled-fill-color: #666;\n",
              "  }\n",
              "\n",
              "  .colab-df-quickchart {\n",
              "    background-color: var(--bg-color);\n",
              "    border: none;\n",
              "    border-radius: 50%;\n",
              "    cursor: pointer;\n",
              "    display: none;\n",
              "    fill: var(--fill-color);\n",
              "    height: 32px;\n",
              "    padding: 0;\n",
              "    width: 32px;\n",
              "  }\n",
              "\n",
              "  .colab-df-quickchart:hover {\n",
              "    background-color: var(--hover-bg-color);\n",
              "    box-shadow: 0 1px 2px rgba(60, 64, 67, 0.3), 0 1px 3px 1px rgba(60, 64, 67, 0.15);\n",
              "    fill: var(--button-hover-fill-color);\n",
              "  }\n",
              "\n",
              "  .colab-df-quickchart-complete:disabled,\n",
              "  .colab-df-quickchart-complete:disabled:hover {\n",
              "    background-color: var(--disabled-bg-color);\n",
              "    fill: var(--disabled-fill-color);\n",
              "    box-shadow: none;\n",
              "  }\n",
              "\n",
              "  .colab-df-spinner {\n",
              "    border: 2px solid var(--fill-color);\n",
              "    border-color: transparent;\n",
              "    border-bottom-color: var(--fill-color);\n",
              "    animation:\n",
              "      spin 1s steps(1) infinite;\n",
              "  }\n",
              "\n",
              "  @keyframes spin {\n",
              "    0% {\n",
              "      border-color: transparent;\n",
              "      border-bottom-color: var(--fill-color);\n",
              "      border-left-color: var(--fill-color);\n",
              "    }\n",
              "    20% {\n",
              "      border-color: transparent;\n",
              "      border-left-color: var(--fill-color);\n",
              "      border-top-color: var(--fill-color);\n",
              "    }\n",
              "    30% {\n",
              "      border-color: transparent;\n",
              "      border-left-color: var(--fill-color);\n",
              "      border-top-color: var(--fill-color);\n",
              "      border-right-color: var(--fill-color);\n",
              "    }\n",
              "    40% {\n",
              "      border-color: transparent;\n",
              "      border-right-color: var(--fill-color);\n",
              "      border-top-color: var(--fill-color);\n",
              "    }\n",
              "    60% {\n",
              "      border-color: transparent;\n",
              "      border-right-color: var(--fill-color);\n",
              "    }\n",
              "    80% {\n",
              "      border-color: transparent;\n",
              "      border-right-color: var(--fill-color);\n",
              "      border-bottom-color: var(--fill-color);\n",
              "    }\n",
              "    90% {\n",
              "      border-color: transparent;\n",
              "      border-bottom-color: var(--fill-color);\n",
              "    }\n",
              "  }\n",
              "</style>\n",
              "\n",
              "  <script>\n",
              "    async function quickchart(key) {\n",
              "      const quickchartButtonEl =\n",
              "        document.querySelector('#' + key + ' button');\n",
              "      quickchartButtonEl.disabled = true;  // To prevent multiple clicks.\n",
              "      quickchartButtonEl.classList.add('colab-df-spinner');\n",
              "      try {\n",
              "        const charts = await google.colab.kernel.invokeFunction(\n",
              "            'suggestCharts', [key], {});\n",
              "      } catch (error) {\n",
              "        console.error('Error during call to suggestCharts:', error);\n",
              "      }\n",
              "      quickchartButtonEl.classList.remove('colab-df-spinner');\n",
              "      quickchartButtonEl.classList.add('colab-df-quickchart-complete');\n",
              "    }\n",
              "    (() => {\n",
              "      let quickchartButtonEl =\n",
              "        document.querySelector('#df-41efc545-d7e3-4255-bdd4-bf9413190e00 button');\n",
              "      quickchartButtonEl.style.display =\n",
              "        google.colab.kernel.accessAllowed ? 'block' : 'none';\n",
              "    })();\n",
              "  </script>\n",
              "</div>\n",
              "\n",
              "    </div>\n",
              "  </div>\n"
            ],
            "application/vnd.google.colaboratory.intrinsic+json": {
              "type": "dataframe",
              "variable_name": "df",
              "summary": "{\n  \"name\": \"df\",\n  \"rows\": 49,\n  \"fields\": [\n    {\n      \"column\": \"PID\",\n      \"properties\": {\n        \"dtype\": \"string\",\n        \"num_unique_values\": 49,\n        \"samples\": [\n          \"ST034\",\n          \"ST048\",\n          \"ST053\"\n        ],\n        \"semantic_type\": \"\",\n        \"description\": \"\"\n      }\n    },\n    {\n      \"column\": \"Email\",\n      \"properties\": {\n        \"dtype\": \"string\",\n        \"num_unique_values\": 49,\n        \"samples\": [\n          \"peacepulisic1@gmail.com\",\n          \"mmmoshen@yahoo.com\",\n          \"miller.jennylee@yahoo.com\"\n        ],\n        \"semantic_type\": \"\",\n        \"description\": \"\"\n      }\n    },\n    {\n      \"column\": \"nick_name\",\n      \"properties\": {\n        \"dtype\": \"string\",\n        \"num_unique_values\": 45,\n        \"samples\": [\n          \"Martins\",\n          \"Keisha\",\n          \"Jesse\"\n        ],\n        \"semantic_type\": \"\",\n        \"description\": \"\"\n      }\n    },\n    {\n      \"column\": \"date_invited\",\n      \"properties\": {\n        \"dtype\": \"date\",\n        \"min\": \"2024-12-04 00:00:00\",\n        \"max\": \"2024-12-09 00:00:00\",\n        \"num_unique_values\": 5,\n        \"samples\": [\n          \"2024-12-05 00:00:00\",\n          \"2024-12-09 00:00:00\",\n          \"2024-12-07 00:00:00\"\n        ],\n        \"semantic_type\": \"\",\n        \"description\": \"\"\n      }\n    },\n    {\n      \"column\": \"start_date\",\n      \"properties\": {\n        \"dtype\": \"date\",\n        \"min\": \"2024-12-03 19:00:00-05:00\",\n        \"max\": \"2024-12-09 19:00:00-05:00\",\n        \"num_unique_values\": 8,\n        \"samples\": [\n          \"2024-12-04 19:00:00-05:00\",\n          \"2024-12-08 19:00:00-05:00\",\n          \"2024-12-03 19:00:00-05:00\"\n        ],\n        \"semantic_type\": \"\",\n        \"description\": \"\"\n      }\n    },\n    {\n      \"column\": \"survey2\",\n      \"properties\": {\n        \"dtype\": \"object\",\n        \"num_unique_values\": 2,\n        \"samples\": [\n          \"2024-12-10 00:00:00-05:00\",\n          \"\"\n        ],\n        \"semantic_type\": \"\",\n        \"description\": \"\"\n      }\n    },\n    {\n      \"column\": \"survey3\",\n      \"properties\": {\n        \"dtype\": \"object\",\n        \"num_unique_values\": 1,\n        \"samples\": [\n          \"\"\n        ],\n        \"semantic_type\": \"\",\n        \"description\": \"\"\n      }\n    },\n    {\n      \"column\": \"survey4\",\n      \"properties\": {\n        \"dtype\": \"object\",\n        \"num_unique_values\": 1,\n        \"samples\": [\n          \"\"\n        ],\n        \"semantic_type\": \"\",\n        \"description\": \"\"\n      }\n    },\n    {\n      \"column\": \"app_day_count\",\n      \"properties\": {\n        \"dtype\": \"date\",\n        \"min\": \"1970-01-01 00:00:00.000000002\",\n        \"max\": \"1970-01-01 00:00:00.000000008\",\n        \"num_unique_values\": 8,\n        \"samples\": [\n          7.0\n        ],\n        \"semantic_type\": \"\",\n        \"description\": \"\"\n      }\n    },\n    {\n      \"column\": \"last_update_local\",\n      \"properties\": {\n        \"dtype\": \"object\",\n        \"num_unique_values\": 39,\n        \"samples\": [\n          \"2024-12-10 18:41:51.867000-05:00\"\n        ],\n        \"semantic_type\": \"\",\n        \"description\": \"\"\n      }\n    },\n    {\n      \"column\": \"lapse_last_update\",\n      \"properties\": {\n        \"dtype\": \"string\",\n        \"num_unique_values\": 33,\n        \"samples\": [\n          \"09:11\"\n        ],\n        \"semantic_type\": \"\",\n        \"description\": \"\"\n      }\n    },\n    {\n      \"column\": \"status\",\n      \"properties\": {\n        \"dtype\": \"number\",\n        \"std\": 1,\n        \"min\": 1,\n        \"max\": 8,\n        \"num_unique_values\": 2,\n        \"samples\": [\n          8\n        ],\n        \"semantic_type\": \"\",\n        \"description\": \"\"\n      }\n    },\n    {\n      \"column\": \"1210\",\n      \"properties\": {\n        \"dtype\": \"category\",\n        \"num_unique_values\": 4,\n        \"samples\": [\n          \"working well\"\n        ],\n        \"semantic_type\": \"\",\n        \"description\": \"\"\n      }\n    },\n    {\n      \"column\": \"1209\",\n      \"properties\": {\n        \"dtype\": \"category\",\n        \"num_unique_values\": 4,\n        \"samples\": [\n          \"data paused\"\n        ],\n        \"semantic_type\": \"\",\n        \"description\": \"\"\n      }\n    },\n    {\n      \"column\": \"1208\",\n      \"properties\": {\n        \"dtype\": \"category\",\n        \"num_unique_values\": 5,\n        \"samples\": [\n          \"working well\"\n        ],\n        \"semantic_type\": \"\",\n        \"description\": \"\"\n      }\n    },\n    {\n      \"column\": \"1207\",\n      \"properties\": {\n        \"dtype\": \"category\",\n        \"num_unique_values\": 5,\n        \"samples\": [\n          \"data paused\"\n        ],\n        \"semantic_type\": \"\",\n        \"description\": \"\"\n      }\n    },\n    {\n      \"column\": \"1206\",\n      \"properties\": {\n        \"dtype\": \"category\",\n        \"num_unique_values\": 2,\n        \"samples\": [\n          \"\"\n        ],\n        \"semantic_type\": \"\",\n        \"description\": \"\"\n      }\n    },\n    {\n      \"column\": \"1205\",\n      \"properties\": {\n        \"dtype\": \"category\",\n        \"num_unique_values\": 2,\n        \"samples\": [\n          \"data paused\"\n        ],\n        \"semantic_type\": \"\",\n        \"description\": \"\"\n      }\n    },\n    {\n      \"column\": \"Source\",\n      \"properties\": {\n        \"dtype\": \"category\",\n        \"num_unique_values\": 11,\n        \"samples\": [\n          \"WeChat\"\n        ],\n        \"semantic_type\": \"\",\n        \"description\": \"\"\n      }\n    }\n  ]\n}"
            }
          },
          "metadata": {},
          "execution_count": 31
        }
      ]
    },
    {
      "cell_type": "code",
      "source": [
        "df = pd.read_csv(google_drive_data_path + '/participant_manager_temp.csv')\n",
        "# Convert lapse_last_update to datetime.time objects where possible\n",
        "def convert_time(x):\n",
        "    try:\n",
        "        if pd.notna(x):\n",
        "            hours, minutes = map(int, x.split(':'))\n",
        "            return time(hours, minutes)\n",
        "    except:\n",
        "        return pd.NaT\n",
        "\n",
        "df['lapse_time'] = df['lapse_last_update'].apply(convert_time)\n",
        "\n",
        "# Set status based on conditions, but only where status < 4 or NaN\n",
        "cutoff_time = time(12, 0)\n",
        "mask_eligible = (df['status'] < 8) | (df['status'].isna())\n",
        "\n",
        "# New conditions (checking for empty strings)\n",
        "# If both start_date and last_update_local are empty strings\n",
        "mask_both_empty = (df['start_date'] == '') & (df['last_update_local'] == '')\n",
        "df.loc[mask_eligible & mask_both_empty, 'status'] = 1\n",
        "\n",
        "# If start_date is empty string but last_update_local is not\n",
        "mask_only_update = (df['start_date'] == '') & (df['last_update_local'] != '')\n",
        "df.loc[mask_eligible & mask_only_update, 'status'] = 4\n",
        "\n",
        "# If start_date is not empty string but last_update_local is empty string\n",
        "mask_only_start = (df['start_date'] != '') & (df['last_update_local'] == '')\n",
        "df.loc[mask_eligible & mask_only_start, 'status'] = 3\n",
        "\n",
        "# Original conditions\n",
        "# 1. If lapse_last_update < 12:00, status = \"started\"\n",
        "mask_started = df['lapse_time'].apply(lambda x: pd.notna(x) and isinstance(x, time) and x < cutoff_time)\n",
        "df.loc[mask_eligible & mask_started, 'status'] = 2\n",
        "\n",
        "# 2. If start_date is not empty but lapse_last_update is empty or ≥ 12:00\n",
        "mask_tech_issue = (df['start_date'] != '') & (~mask_started)\n",
        "df.loc[mask_eligible & mask_tech_issue, 'status'] = 3\n",
        "\n",
        "# New survey conditions for status 4\n",
        "mask_survey2 = (df['app_day_count'].isin([7, 8])) & (df['survey2'].isna() | (df['survey2'] == ''))\n",
        "mask_survey3 = (df['app_day_count'].isin([14, 15])) & (df['survey3'].isna() | (df['survey3'] == ''))\n",
        "mask_survey4 = (df['app_day_count'].isin([21, 22])) & (df['survey4'].isna() | (df['survey4'] == ''))\n",
        "\n",
        "# Combine all survey conditions\n",
        "mask_surveys = mask_survey2 | mask_survey3 | mask_survey4\n",
        "\n",
        "# Add the new condition to set status = 4\n",
        "df.loc[mask_eligible & mask_surveys, 'status'] = 4\n"
      ],
      "metadata": {
        "id": "SoKPsknr_v7k"
      },
      "execution_count": 32,
      "outputs": []
    },
    {
      "cell_type": "code",
      "source": [
        "# Drop the temporary lapse_time column\n",
        "df = df.drop('lapse_time', axis=1)\n",
        "import datetime\n",
        "from datetime import timezone\n",
        "import pytz\n",
        "\n",
        "# Get today's date in New York time\n",
        "ny_tz = pytz.timezone('America/New_York')\n",
        "today = datetime.datetime.now(ny_tz).strftime('%m%d')\n",
        "# Drop today's column if it already exists\n",
        "if int(today) in df.columns:\n",
        "    df = df.drop(columns=[int(today)])\n",
        "\n",
        "# Create status-note mapping dictionary from the CSV data\n",
        "status_mapping = {\n",
        "    0: 'invitation expired',\n",
        "    1: 'invited',\n",
        "    2: 'working well',\n",
        "    3: 'data paused',\n",
        "    4: 'survey awaiting',\n",
        "    8: 'dropped out',\n",
        "    9: 'completed'\n",
        "}\n",
        "\n",
        "# Create a new column with today's date and initialize it with NaN\n",
        "df[today] = float('nan')\n",
        "\n",
        "# Update the new column using the status mapping\n",
        "df.loc[df[today].isna(), today] = df.loc[df[today].isna(), 'status'].map(status_mapping)\n",
        "\n",
        "# Get the fixed columns we want first (up to status)\n",
        "fixed_cols = ['PID', 'Email', 'nick_name', 'date_invited', 'start_date', 'survey2',\n",
        "       'survey3', 'survey4', 'app_day_count', 'last_update_local', 'lapse_last_update', 'status']\n",
        "\n",
        "# Add today's column\n",
        "fixed_cols.append(today)\n",
        "\n",
        "# Get the remaining date columns in descending order\n",
        "# Use the original column types from df.columns\n",
        "date_cols = [col for col in df.columns if str(col).isdigit() and col != today]\n",
        "date_cols = sorted(date_cols, key=lambda x: int(str(x)), reverse=True)\n",
        "\n",
        "# Combine all columns in desired order\n",
        "new_order = fixed_cols + date_cols\n",
        "\n",
        "# Reorder the dataframe\n",
        "df1 = df[new_order].copy()\n",
        "\n",
        "sign_up_data = pd.read_excel(google_drive_data_path + '/signup_survey_data_processed_combined.xlsx')\n",
        "\n",
        "# prompt: Drop 'Source' in df1 if there is such a column. Then merge sign_update[['Email','Source']] to df1.\n",
        "\n",
        "if 'Source' in df1.columns:\n",
        "  df1 = df1.drop('Source', axis=1)\n",
        "\n",
        "df1 = pd.merge(df1, sign_up_data[['Email', 'Source']], on='Email', how='left')"
      ],
      "metadata": {
        "id": "bHJNhjqTPv1a",
        "colab": {
          "base_uri": "https://localhost:8080/"
        },
        "outputId": "917385a5-f9bd-4082-a8c1-2e6ee1609bfe"
      },
      "execution_count": 33,
      "outputs": [
        {
          "output_type": "stream",
          "name": "stderr",
          "text": [
            "<ipython-input-33-f56f0642d3d3>:29: FutureWarning: Setting an item of incompatible dtype is deprecated and will raise an error in a future version of pandas. Value '['survey awaiting' 'working well' 'working well' 'survey awaiting'\n",
            " 'survey awaiting' 'working well' 'survey awaiting' 'dropped out'\n",
            " 'survey awaiting' 'survey awaiting' 'survey awaiting' 'survey awaiting'\n",
            " 'dropped out' 'survey awaiting' 'survey awaiting' 'survey awaiting'\n",
            " 'survey awaiting' 'survey awaiting' 'survey awaiting' 'working well'\n",
            " 'working well' 'working well' 'working well' 'working well'\n",
            " 'working well' 'working well' 'working well' 'working well'\n",
            " 'working well' 'working well' 'dropped out' 'working well' 'working well'\n",
            " 'working well' 'working well' 'working well' 'working well'\n",
            " 'working well' 'data paused' 'data paused' 'data paused' 'data paused'\n",
            " 'data paused' 'data paused' 'data paused' 'data paused' 'data paused'\n",
            " 'data paused' 'data paused']' has dtype incompatible with float64, please explicitly cast to a compatible dtype first.\n",
            "  df.loc[df[today].isna(), today] = df.loc[df[today].isna(), 'status'].map(status_mapping)\n"
          ]
        }
      ]
    },
    {
      "cell_type": "code",
      "source": [
        "screen_data = pd.read_csv(google_drive_data_path + '/screen_events.csv')\n",
        "# Calculate duration in milliseconds by simple subtraction since values are already timestamps\n",
        "screen_data['duration_ms'] = screen_data['endTime'] - screen_data['startTime']\n",
        "# prompt: filter out where duration_ms <= 0 in screen_data\n",
        "print(screen_data.shape)\n",
        "screen_data = screen_data[screen_data['duration_ms'] > 0]\n",
        "print(screen_data.shape)\n",
        "timezones = pd.read_csv(google_drive_data_path + '/timezones.csv')\n",
        "# First merge the timezone information with screen_data\n",
        "screen_data = screen_data.merge(timezones[['pid', 'timezone']], on='pid', how='left')\n",
        "\n",
        "# Calculate statDate using the timezone specific to each row\n",
        "screen_data['startDate'] = screen_data.apply(\n",
        "    lambda row: convert_unix_to_date(\n",
        "        row['startTime'],\n",
        "        timezone=row['timezone'],\n",
        "        return_date=True\n",
        "    ),\n",
        "    axis=1\n",
        ")\n",
        "# Calculate the metrics grouped by pid and statDate\n",
        "summary = screen_data.groupby(['pid', 'startDate']).agg({\n",
        "    'eventLabel': 'count',  # Count of events\n",
        "    'duration_ms': lambda x: sum(x) / (1000 * 60 * 60)  # Convert milliseconds to hours\n",
        "}).reset_index()\n",
        "\n",
        "# Rename columns for clarity\n",
        "summary.columns = ['pid', 'startDate', 'event_count', 'duration_hours']\n",
        "\n",
        "summary.to_csv(google_drive_data_path + '/screen_event_summary.csv', index=False)\n",
        "# Sort by pid and date, then drop the first date for each pid\n",
        "filtered_summary = summary.sort_values(['pid', 'startDate']).groupby('pid').apply(\n",
        "    lambda x: x.iloc[1:] if len(x) > 1 else pd.DataFrame()\n",
        ").reset_index(drop=True)\n",
        "# Calculate the averages and add date count + 1\n",
        "avg_metrics = filtered_summary.groupby('pid').agg({\n",
        "    'event_count': 'mean',\n",
        "    'duration_hours': 'mean',\n",
        "    'startDate': lambda x: len(x.unique()) + 1  # count of remaining dates + 1\n",
        "}).reset_index()\n",
        "\n",
        "# Rename columns to indicate these are averages\n",
        "avg_metrics.columns = ['PID', 'daily_unlocks', 'daily_screen_hours', 'day_count']\n",
        "\n",
        "avg_metrics['PID'] = avg_metrics['PID'].str.upper()\n",
        "# prompt: merge avg_metrics to df1 by PID, how = left\n",
        "\n",
        "df1 = pd.merge(df1, avg_metrics, on='PID', how='left')\n",
        "\n",
        "\n",
        "# Round daily_unlocks and daily_screen_hours to one decimal place\n",
        "df1['daily_unlocks'] = df1['daily_unlocks'].round(1)\n",
        "df1['daily_screen_hours'] = df1['daily_screen_hours'].round(1)\n",
        "\n"
      ],
      "metadata": {
        "colab": {
          "base_uri": "https://localhost:8080/"
        },
        "id": "T-7yrziy7bIy",
        "outputId": "38732c0f-a291-4a76-e639-eb3fc740cde7"
      },
      "execution_count": 34,
      "outputs": [
        {
          "output_type": "stream",
          "name": "stdout",
          "text": [
            "(9319, 6)\n",
            "(8813, 6)\n"
          ]
        },
        {
          "output_type": "stream",
          "name": "stderr",
          "text": [
            "<ipython-input-34-6db3a76a14ee>:32: DeprecationWarning: DataFrameGroupBy.apply operated on the grouping columns. This behavior is deprecated, and in a future version of pandas the grouping columns will be excluded from the operation. Either pass `include_groups=False` to exclude the groupings or explicitly select the grouping columns after groupby to silence this warning.\n",
            "  filtered_summary = summary.sort_values(['pid', 'startDate']).groupby('pid').apply(\n"
          ]
        }
      ]
    },
    {
      "cell_type": "code",
      "source": [
        "df2 = df1.copy()\n",
        "\n",
        "df2['app_day_count'] = pd.to_numeric(df2['app_day_count'], errors='coerce').fillna(0).astype(int)\n",
        "\n",
        "df2['day_missing'] = df2['app_day_count'] - df2['day_count']\n",
        "def create_note(row):\n",
        "\n",
        "    # Check status=5 condition first\n",
        "    if row['status'] == 5:\n",
        "        return 'dropped out'\n",
        "\n",
        "    # Check for missing values first\n",
        "    if (pd.isna(row['app_day_count']) or pd.isna(row['status']) or\n",
        "        pd.isna(row['daily_unlocks']) or pd.isna(row['daily_screen_hours']) or\n",
        "        pd.isna(row['day_count']) or pd.isna(row['day_missing'])):\n",
        "        return 'TBD'\n",
        "\n",
        "    # Check app_day_count <= 3\n",
        "    if row['app_day_count'] <= 3:\n",
        "        return 'TBD'\n",
        "\n",
        "    # For app_day_count > 3 cases\n",
        "    if row['app_day_count'] > 3:\n",
        "        if row['day_missing'] >= row['day_count']:\n",
        "            return 'missing half of all the days'\n",
        "        elif row['daily_unlocks'] >= 10 and row['daily_screen_hours'] >= 2:\n",
        "            return 'working well'\n",
        "        elif row['daily_unlocks'] >= 10 and row['daily_screen_hours'] < 2:\n",
        "            return 'not enough screen time'\n",
        "        elif row['daily_unlocks'] < 10 and row['daily_screen_hours'] >= 2:\n",
        "            return 'not enough locks'\n",
        "        elif row['daily_unlocks'] < 10 and row['daily_screen_hours'] < 2:\n",
        "            return 'neither locks nor screen time is enough'\n",
        "\n",
        "    return 'TBD'  # Default case if none of the conditions match\n",
        "\n",
        "# Apply the function to create the note column\n",
        "df2['note'] = df2.apply(create_note, axis=1)\n",
        "\n",
        "df2 = df2.sort_values(by=['lapse_last_update','status'])"
      ],
      "metadata": {
        "id": "bAw0BNpr_Lr7"
      },
      "execution_count": 35,
      "outputs": []
    },
    {
      "cell_type": "code",
      "source": [
        "def time_to_minutes(time_str):\n",
        "    if time_str == '':\n",
        "        return float('inf')  # This will put empty strings at the bottom\n",
        "    try:\n",
        "        hours, minutes = map(int, time_str.split(':'))\n",
        "        return hours * 60 + minutes\n",
        "    except:\n",
        "        return float('inf')  # Handle any unexpected formats\n",
        "\n",
        "df2 = df2.sort_values(\n",
        "    by=['lapse_last_update', 'status'],\n",
        "    ascending=[True, True],\n",
        "    key=lambda x: x.map(time_to_minutes) if x.name == 'lapse_last_update' else x\n",
        ")"
      ],
      "metadata": {
        "id": "DXWQm_VEeMhZ"
      },
      "execution_count": 36,
      "outputs": []
    },
    {
      "cell_type": "code",
      "source": [
        "# remove all those nan"
      ],
      "metadata": {
        "id": "8OdDV5kmks2r"
      },
      "execution_count": 37,
      "outputs": []
    },
    {
      "cell_type": "code",
      "source": [
        "# Save the files\n",
        "write_df_to_sheet(df2, participant_manager_ID)"
      ],
      "metadata": {
        "colab": {
          "base_uri": "https://localhost:8080/"
        },
        "id": "soPMld1t7iNR",
        "outputId": "313ef3c3-7936-4e22-9e2b-99113e9b841b"
      },
      "execution_count": 38,
      "outputs": [
        {
          "output_type": "execute_result",
          "data": {
            "text/plain": [
              "True"
            ]
          },
          "metadata": {},
          "execution_count": 38
        }
      ]
    },
    {
      "cell_type": "code",
      "source": [
        "# prompt: count rows in df2 where status is 2\n",
        "\n",
        "# Assuming df2 is defined as in the provided code.\n",
        "count_working = len(df2[df2['status'] == 2])\n",
        "count_data_paused = len(df2[df2['status'] == 3])\n",
        "count_open_slots = 40 - count_working - count_data_paused\n",
        "# Print the count\n",
        "print(f\"{count_working} is working well\")\n",
        "print(f\"{count_data_paused} has data paused\")\n",
        "print(f\"Number of open slots: {count_open_slots}\")"
      ],
      "metadata": {
        "colab": {
          "base_uri": "https://localhost:8080/"
        },
        "id": "skbug0wpjURN",
        "outputId": "ce999d32-b218-4e21-cf93-679bdd9a6bae"
      },
      "execution_count": 39,
      "outputs": [
        {
          "output_type": "stream",
          "name": "stdout",
          "text": [
            "21 is working well\n",
            "11 has data paused\n",
            "Number of open slots: 8\n"
          ]
        }
      ]
    },
    {
      "cell_type": "markdown",
      "source": [
        "## Screen events data monitor"
      ],
      "metadata": {
        "id": "QxahhXwbU9Iq"
      }
    },
    {
      "cell_type": "code",
      "source": [
        "import datetime\n",
        "from datetime import timezone, timedelta\n",
        "import pytz\n",
        "\n",
        "df = df2.copy()\n",
        "# Get timezone\n",
        "ny_tz = pytz.timezone('America/New_York')\n",
        "\n",
        "# Get today's date\n",
        "today = datetime.datetime.now(ny_tz)\n",
        "\n",
        "# Generate the three dates as strings\n",
        "today_str = today.strftime('%m%d')\n",
        "yesterday_str = (today - timedelta(days=1)).strftime('%m%d')\n",
        "day_before_str = (today - timedelta(days=2)).strftime('%m%d')\n",
        "\n",
        "# Create list of possible column names (both string and int versions)\n",
        "date_cols = [\n",
        "    today_str, yesterday_str, day_before_str,  # string versions\n",
        "    int(today_str), int(yesterday_str), int(day_before_str)  # int versions\n",
        "]\n",
        "\n",
        "# Find which version of each date exists in the columns\n",
        "existing_date_cols = [col for col in date_cols if col in df.columns]"
      ],
      "metadata": {
        "id": "ByjR0ahRRqqA"
      },
      "execution_count": 40,
      "outputs": []
    },
    {
      "cell_type": "markdown",
      "source": [
        "### Data pause drop out notification"
      ],
      "metadata": {
        "id": "5Vhbd5mJVhW6"
      }
    },
    {
      "cell_type": "markdown",
      "source": [
        "if no data is seen in the past 3 days"
      ],
      "metadata": {
        "id": "nN5iGkGSRyAu"
      }
    },
    {
      "cell_type": "code",
      "source": [
        "# Filter rows where all three days are 'data paused'\n",
        "all_days_paused_mask = df[existing_date_cols].eq('data paused').all(axis=1)\n",
        "paused_emails = df.loc[all_days_paused_mask, 'Email']\n",
        "\n",
        "# Convert to comma-separated string\n",
        "email_list = ', '.join(paused_emails)\n",
        "\n",
        "print(email_list)"
      ],
      "metadata": {
        "colab": {
          "base_uri": "https://localhost:8080/"
        },
        "id": "Kmiv4oriQ3NK",
        "outputId": "a5fd0e6b-ad2e-426c-8cd5-46975a525dd2"
      },
      "execution_count": 41,
      "outputs": [
        {
          "output_type": "stream",
          "name": "stdout",
          "text": [
            "\n"
          ]
        }
      ]
    },
    {
      "cell_type": "markdown",
      "source": [
        "### Data pause notification"
      ],
      "metadata": {
        "id": "hP1l2wstVxbP"
      }
    },
    {
      "cell_type": "markdown",
      "source": [
        "If the data is not coming through in the last 12 hours"
      ],
      "metadata": {
        "id": "YYvt4dgjSOJL"
      }
    },
    {
      "cell_type": "code",
      "source": [
        "# Find which version of today's date exists\n",
        "today_col = next(col for col in [today_str, int(today_str)] if col in df.columns)\n",
        "\n",
        "# Create masks\n",
        "today_paused_mask = df[today_col] == 'data paused'\n",
        "\n",
        "# Get emails where today is paused but not all days are paused\n",
        "target_emails = df.loc[today_paused_mask & ~all_days_paused_mask, 'Email']\n",
        "\n",
        "# Convert to comma-separated string\n",
        "email_list = ', '.join(target_emails)\n",
        "\n",
        "print(email_list)"
      ],
      "metadata": {
        "colab": {
          "base_uri": "https://localhost:8080/"
        },
        "id": "98Jvne3iPF54",
        "outputId": "9b1c9ece-32c2-4591-f37f-f999430b6919"
      },
      "execution_count": 42,
      "outputs": [
        {
          "output_type": "stream",
          "name": "stdout",
          "text": [
            "nkaganovsky@gmail.com, laurenjrich@outlook.com, frankcampbell495@gmail.com, kimberlysmithy693@gmail.com, jthird253@gmail.com, brownmartins504@gmail.com, girakeira85@gmail.com, mmmoshen@yahoo.com, finplan65@yahoo.com, miller.jennylee@yahoo.com, reevawebb@yahoo.com\n"
          ]
        }
      ]
    },
    {
      "cell_type": "markdown",
      "source": [
        "### Data resume notification"
      ],
      "metadata": {
        "id": "QOZGWJwjVEVo"
      }
    },
    {
      "cell_type": "markdown",
      "source": [
        "If yesterday's status is data pause, but today is working"
      ],
      "metadata": {
        "id": "sbL7IZ0LTCxQ"
      }
    },
    {
      "cell_type": "code",
      "source": [
        "yesterday_col = next(col for col in [yesterday_str, int(yesterday_str)] if col in df.columns)\n",
        "\n",
        "# Create masks for the conditions\n",
        "today_started_mask = df[today_col] == 'started'\n",
        "yesterday_paused_mask = df[yesterday_col] == 'data paused'\n",
        "\n",
        "# Get emails that meet both conditions\n",
        "resume_emails = df.loc[today_started_mask & yesterday_paused_mask, 'Email']\n",
        "\n",
        "# Convert to comma-separated string\n",
        "email_list = ', '.join(resume_emails)\n",
        "\n",
        "print(email_list)"
      ],
      "metadata": {
        "colab": {
          "base_uri": "https://localhost:8080/"
        },
        "id": "JMlcV8cHTALc",
        "outputId": "067d2da8-a889-4625-d64d-e556f56100eb"
      },
      "execution_count": 43,
      "outputs": [
        {
          "output_type": "stream",
          "name": "stdout",
          "text": [
            "\n"
          ]
        }
      ]
    },
    {
      "cell_type": "markdown",
      "source": [
        "## Check the survey filter question"
      ],
      "metadata": {
        "id": "RFbAsYrQaxl7"
      }
    },
    {
      "cell_type": "code",
      "source": [
        "survey_data = pd.read_csv(google_drive_data_path + '/survey_responses.csv')"
      ],
      "metadata": {
        "id": "gZ1dcnXqaw4Q"
      },
      "execution_count": 44,
      "outputs": []
    },
    {
      "cell_type": "code",
      "source": [
        "# prompt: filter by q_13 != 0\n",
        "\n",
        "# Assuming 'q_13' is a column in your survey_data DataFrame\n",
        "filtered_survey_data = survey_data[survey_data['q_13'] != 0]\n",
        "filtered_survey_data['pid']"
      ],
      "metadata": {
        "colab": {
          "base_uri": "https://localhost:8080/",
          "height": 147
        },
        "id": "422dUiTJbCC9",
        "outputId": "072f798c-702d-4b19-d9dd-798da9404213"
      },
      "execution_count": 45,
      "outputs": [
        {
          "output_type": "execute_result",
          "data": {
            "text/plain": [
              "2     st012\n",
              "28    st042\n",
              "Name: pid, dtype: object"
            ],
            "text/html": [
              "<div>\n",
              "<style scoped>\n",
              "    .dataframe tbody tr th:only-of-type {\n",
              "        vertical-align: middle;\n",
              "    }\n",
              "\n",
              "    .dataframe tbody tr th {\n",
              "        vertical-align: top;\n",
              "    }\n",
              "\n",
              "    .dataframe thead th {\n",
              "        text-align: right;\n",
              "    }\n",
              "</style>\n",
              "<table border=\"1\" class=\"dataframe\">\n",
              "  <thead>\n",
              "    <tr style=\"text-align: right;\">\n",
              "      <th></th>\n",
              "      <th>pid</th>\n",
              "    </tr>\n",
              "  </thead>\n",
              "  <tbody>\n",
              "    <tr>\n",
              "      <th>2</th>\n",
              "      <td>st012</td>\n",
              "    </tr>\n",
              "    <tr>\n",
              "      <th>28</th>\n",
              "      <td>st042</td>\n",
              "    </tr>\n",
              "  </tbody>\n",
              "</table>\n",
              "</div><br><label><b>dtype:</b> object</label>"
            ]
          },
          "metadata": {},
          "execution_count": 45
        }
      ]
    },
    {
      "cell_type": "markdown",
      "source": [
        "## Generate reminder mail list"
      ],
      "metadata": {
        "id": "yo3YdmPp0ZCb"
      }
    },
    {
      "cell_type": "markdown",
      "source": [
        "Generate a list of emails for certain filter. Copy the output into bcc in gmail"
      ],
      "metadata": {
        "id": "5IFbMEHF_QTS"
      }
    },
    {
      "cell_type": "markdown",
      "source": [
        "Locate the corresponding email in the document [Emails](https://docs.google.com/document/d/1e5TZJ6ILpku8rVdO_ADUwI-lM8SCIh7xG95jrG73INY/edit?usp=sharing)"
      ],
      "metadata": {
        "id": "gLfObLMXLC6q"
      }
    },
    {
      "cell_type": "code",
      "source": [
        "# Double check with user_states data"
      ],
      "metadata": {
        "id": "iVobj8krapGc"
      },
      "execution_count": 46,
      "outputs": []
    },
    {
      "cell_type": "code",
      "source": [
        "survey_meta_manager = pd.read_csv(google_drive_data_path + '/survey_meta_pivot.csv')\n",
        "\n",
        "def get_emails_by_day_count(day_count):\n",
        "    emails = survey_meta_manager[survey_meta_manager['app_day_count'] == day_count]['Email'].tolist()\n",
        "    if emails:\n",
        "        return ','.join(emails)\n",
        "    else:\n",
        "        return None"
      ],
      "metadata": {
        "id": "5Gnj-Ly8WvlC"
      },
      "execution_count": 47,
      "outputs": []
    },
    {
      "cell_type": "code",
      "source": [
        "survey_meta_manager.head()"
      ],
      "metadata": {
        "colab": {
          "base_uri": "https://localhost:8080/",
          "height": 206
        },
        "id": "5zCBIMxm0TCY",
        "outputId": "6f0361ca-eb76-480b-b992-9a2eb0cd142a"
      },
      "execution_count": 48,
      "outputs": [
        {
          "output_type": "execute_result",
          "data": {
            "text/plain": [
              "     PID                    survey1                    survey2  survey3  \\\n",
              "0  ST011  2024-12-03 19:00:00-05:00                        NaN      NaN   \n",
              "1  ST012  2024-12-03 19:00:00-05:00  2024-12-10 00:00:00-05:00      NaN   \n",
              "2  ST013  2024-12-03 19:00:00-05:00  2024-12-10 00:00:00-05:00      NaN   \n",
              "3  ST014  2024-12-03 19:00:00-05:00                        NaN      NaN   \n",
              "4  ST015  2024-12-03 19:00:00-05:00                        NaN      NaN   \n",
              "\n",
              "   survey4  app_day_count                     Email date_invited  \n",
              "0      NaN            8.0       mappscarl@gmail.com   2024-12-04  \n",
              "1      NaN            8.0           djsboca@aol.com   2024-12-04  \n",
              "2      NaN            8.0   santanana2000@yahoo.com   2024-12-04  \n",
              "3      NaN            8.0  sadiesantacruz@gmail.com   2024-12-04  \n",
              "4      NaN            8.0    jimoreno2055@gmail.com   2024-12-04  "
            ],
            "text/html": [
              "\n",
              "  <div id=\"df-4b1c27ee-2a24-4df0-933b-e0206b21058d\" class=\"colab-df-container\">\n",
              "    <div>\n",
              "<style scoped>\n",
              "    .dataframe tbody tr th:only-of-type {\n",
              "        vertical-align: middle;\n",
              "    }\n",
              "\n",
              "    .dataframe tbody tr th {\n",
              "        vertical-align: top;\n",
              "    }\n",
              "\n",
              "    .dataframe thead th {\n",
              "        text-align: right;\n",
              "    }\n",
              "</style>\n",
              "<table border=\"1\" class=\"dataframe\">\n",
              "  <thead>\n",
              "    <tr style=\"text-align: right;\">\n",
              "      <th></th>\n",
              "      <th>PID</th>\n",
              "      <th>survey1</th>\n",
              "      <th>survey2</th>\n",
              "      <th>survey3</th>\n",
              "      <th>survey4</th>\n",
              "      <th>app_day_count</th>\n",
              "      <th>Email</th>\n",
              "      <th>date_invited</th>\n",
              "    </tr>\n",
              "  </thead>\n",
              "  <tbody>\n",
              "    <tr>\n",
              "      <th>0</th>\n",
              "      <td>ST011</td>\n",
              "      <td>2024-12-03 19:00:00-05:00</td>\n",
              "      <td>NaN</td>\n",
              "      <td>NaN</td>\n",
              "      <td>NaN</td>\n",
              "      <td>8.0</td>\n",
              "      <td>mappscarl@gmail.com</td>\n",
              "      <td>2024-12-04</td>\n",
              "    </tr>\n",
              "    <tr>\n",
              "      <th>1</th>\n",
              "      <td>ST012</td>\n",
              "      <td>2024-12-03 19:00:00-05:00</td>\n",
              "      <td>2024-12-10 00:00:00-05:00</td>\n",
              "      <td>NaN</td>\n",
              "      <td>NaN</td>\n",
              "      <td>8.0</td>\n",
              "      <td>djsboca@aol.com</td>\n",
              "      <td>2024-12-04</td>\n",
              "    </tr>\n",
              "    <tr>\n",
              "      <th>2</th>\n",
              "      <td>ST013</td>\n",
              "      <td>2024-12-03 19:00:00-05:00</td>\n",
              "      <td>2024-12-10 00:00:00-05:00</td>\n",
              "      <td>NaN</td>\n",
              "      <td>NaN</td>\n",
              "      <td>8.0</td>\n",
              "      <td>santanana2000@yahoo.com</td>\n",
              "      <td>2024-12-04</td>\n",
              "    </tr>\n",
              "    <tr>\n",
              "      <th>3</th>\n",
              "      <td>ST014</td>\n",
              "      <td>2024-12-03 19:00:00-05:00</td>\n",
              "      <td>NaN</td>\n",
              "      <td>NaN</td>\n",
              "      <td>NaN</td>\n",
              "      <td>8.0</td>\n",
              "      <td>sadiesantacruz@gmail.com</td>\n",
              "      <td>2024-12-04</td>\n",
              "    </tr>\n",
              "    <tr>\n",
              "      <th>4</th>\n",
              "      <td>ST015</td>\n",
              "      <td>2024-12-03 19:00:00-05:00</td>\n",
              "      <td>NaN</td>\n",
              "      <td>NaN</td>\n",
              "      <td>NaN</td>\n",
              "      <td>8.0</td>\n",
              "      <td>jimoreno2055@gmail.com</td>\n",
              "      <td>2024-12-04</td>\n",
              "    </tr>\n",
              "  </tbody>\n",
              "</table>\n",
              "</div>\n",
              "    <div class=\"colab-df-buttons\">\n",
              "\n",
              "  <div class=\"colab-df-container\">\n",
              "    <button class=\"colab-df-convert\" onclick=\"convertToInteractive('df-4b1c27ee-2a24-4df0-933b-e0206b21058d')\"\n",
              "            title=\"Convert this dataframe to an interactive table.\"\n",
              "            style=\"display:none;\">\n",
              "\n",
              "  <svg xmlns=\"http://www.w3.org/2000/svg\" height=\"24px\" viewBox=\"0 -960 960 960\">\n",
              "    <path d=\"M120-120v-720h720v720H120Zm60-500h600v-160H180v160Zm220 220h160v-160H400v160Zm0 220h160v-160H400v160ZM180-400h160v-160H180v160Zm440 0h160v-160H620v160ZM180-180h160v-160H180v160Zm440 0h160v-160H620v160Z\"/>\n",
              "  </svg>\n",
              "    </button>\n",
              "\n",
              "  <style>\n",
              "    .colab-df-container {\n",
              "      display:flex;\n",
              "      gap: 12px;\n",
              "    }\n",
              "\n",
              "    .colab-df-convert {\n",
              "      background-color: #E8F0FE;\n",
              "      border: none;\n",
              "      border-radius: 50%;\n",
              "      cursor: pointer;\n",
              "      display: none;\n",
              "      fill: #1967D2;\n",
              "      height: 32px;\n",
              "      padding: 0 0 0 0;\n",
              "      width: 32px;\n",
              "    }\n",
              "\n",
              "    .colab-df-convert:hover {\n",
              "      background-color: #E2EBFA;\n",
              "      box-shadow: 0px 1px 2px rgba(60, 64, 67, 0.3), 0px 1px 3px 1px rgba(60, 64, 67, 0.15);\n",
              "      fill: #174EA6;\n",
              "    }\n",
              "\n",
              "    .colab-df-buttons div {\n",
              "      margin-bottom: 4px;\n",
              "    }\n",
              "\n",
              "    [theme=dark] .colab-df-convert {\n",
              "      background-color: #3B4455;\n",
              "      fill: #D2E3FC;\n",
              "    }\n",
              "\n",
              "    [theme=dark] .colab-df-convert:hover {\n",
              "      background-color: #434B5C;\n",
              "      box-shadow: 0px 1px 3px 1px rgba(0, 0, 0, 0.15);\n",
              "      filter: drop-shadow(0px 1px 2px rgba(0, 0, 0, 0.3));\n",
              "      fill: #FFFFFF;\n",
              "    }\n",
              "  </style>\n",
              "\n",
              "    <script>\n",
              "      const buttonEl =\n",
              "        document.querySelector('#df-4b1c27ee-2a24-4df0-933b-e0206b21058d button.colab-df-convert');\n",
              "      buttonEl.style.display =\n",
              "        google.colab.kernel.accessAllowed ? 'block' : 'none';\n",
              "\n",
              "      async function convertToInteractive(key) {\n",
              "        const element = document.querySelector('#df-4b1c27ee-2a24-4df0-933b-e0206b21058d');\n",
              "        const dataTable =\n",
              "          await google.colab.kernel.invokeFunction('convertToInteractive',\n",
              "                                                    [key], {});\n",
              "        if (!dataTable) return;\n",
              "\n",
              "        const docLinkHtml = 'Like what you see? Visit the ' +\n",
              "          '<a target=\"_blank\" href=https://colab.research.google.com/notebooks/data_table.ipynb>data table notebook</a>'\n",
              "          + ' to learn more about interactive tables.';\n",
              "        element.innerHTML = '';\n",
              "        dataTable['output_type'] = 'display_data';\n",
              "        await google.colab.output.renderOutput(dataTable, element);\n",
              "        const docLink = document.createElement('div');\n",
              "        docLink.innerHTML = docLinkHtml;\n",
              "        element.appendChild(docLink);\n",
              "      }\n",
              "    </script>\n",
              "  </div>\n",
              "\n",
              "\n",
              "<div id=\"df-ec4f0f47-3b1d-4ef6-b164-8d0e2974274f\">\n",
              "  <button class=\"colab-df-quickchart\" onclick=\"quickchart('df-ec4f0f47-3b1d-4ef6-b164-8d0e2974274f')\"\n",
              "            title=\"Suggest charts\"\n",
              "            style=\"display:none;\">\n",
              "\n",
              "<svg xmlns=\"http://www.w3.org/2000/svg\" height=\"24px\"viewBox=\"0 0 24 24\"\n",
              "     width=\"24px\">\n",
              "    <g>\n",
              "        <path d=\"M19 3H5c-1.1 0-2 .9-2 2v14c0 1.1.9 2 2 2h14c1.1 0 2-.9 2-2V5c0-1.1-.9-2-2-2zM9 17H7v-7h2v7zm4 0h-2V7h2v10zm4 0h-2v-4h2v4z\"/>\n",
              "    </g>\n",
              "</svg>\n",
              "  </button>\n",
              "\n",
              "<style>\n",
              "  .colab-df-quickchart {\n",
              "      --bg-color: #E8F0FE;\n",
              "      --fill-color: #1967D2;\n",
              "      --hover-bg-color: #E2EBFA;\n",
              "      --hover-fill-color: #174EA6;\n",
              "      --disabled-fill-color: #AAA;\n",
              "      --disabled-bg-color: #DDD;\n",
              "  }\n",
              "\n",
              "  [theme=dark] .colab-df-quickchart {\n",
              "      --bg-color: #3B4455;\n",
              "      --fill-color: #D2E3FC;\n",
              "      --hover-bg-color: #434B5C;\n",
              "      --hover-fill-color: #FFFFFF;\n",
              "      --disabled-bg-color: #3B4455;\n",
              "      --disabled-fill-color: #666;\n",
              "  }\n",
              "\n",
              "  .colab-df-quickchart {\n",
              "    background-color: var(--bg-color);\n",
              "    border: none;\n",
              "    border-radius: 50%;\n",
              "    cursor: pointer;\n",
              "    display: none;\n",
              "    fill: var(--fill-color);\n",
              "    height: 32px;\n",
              "    padding: 0;\n",
              "    width: 32px;\n",
              "  }\n",
              "\n",
              "  .colab-df-quickchart:hover {\n",
              "    background-color: var(--hover-bg-color);\n",
              "    box-shadow: 0 1px 2px rgba(60, 64, 67, 0.3), 0 1px 3px 1px rgba(60, 64, 67, 0.15);\n",
              "    fill: var(--button-hover-fill-color);\n",
              "  }\n",
              "\n",
              "  .colab-df-quickchart-complete:disabled,\n",
              "  .colab-df-quickchart-complete:disabled:hover {\n",
              "    background-color: var(--disabled-bg-color);\n",
              "    fill: var(--disabled-fill-color);\n",
              "    box-shadow: none;\n",
              "  }\n",
              "\n",
              "  .colab-df-spinner {\n",
              "    border: 2px solid var(--fill-color);\n",
              "    border-color: transparent;\n",
              "    border-bottom-color: var(--fill-color);\n",
              "    animation:\n",
              "      spin 1s steps(1) infinite;\n",
              "  }\n",
              "\n",
              "  @keyframes spin {\n",
              "    0% {\n",
              "      border-color: transparent;\n",
              "      border-bottom-color: var(--fill-color);\n",
              "      border-left-color: var(--fill-color);\n",
              "    }\n",
              "    20% {\n",
              "      border-color: transparent;\n",
              "      border-left-color: var(--fill-color);\n",
              "      border-top-color: var(--fill-color);\n",
              "    }\n",
              "    30% {\n",
              "      border-color: transparent;\n",
              "      border-left-color: var(--fill-color);\n",
              "      border-top-color: var(--fill-color);\n",
              "      border-right-color: var(--fill-color);\n",
              "    }\n",
              "    40% {\n",
              "      border-color: transparent;\n",
              "      border-right-color: var(--fill-color);\n",
              "      border-top-color: var(--fill-color);\n",
              "    }\n",
              "    60% {\n",
              "      border-color: transparent;\n",
              "      border-right-color: var(--fill-color);\n",
              "    }\n",
              "    80% {\n",
              "      border-color: transparent;\n",
              "      border-right-color: var(--fill-color);\n",
              "      border-bottom-color: var(--fill-color);\n",
              "    }\n",
              "    90% {\n",
              "      border-color: transparent;\n",
              "      border-bottom-color: var(--fill-color);\n",
              "    }\n",
              "  }\n",
              "</style>\n",
              "\n",
              "  <script>\n",
              "    async function quickchart(key) {\n",
              "      const quickchartButtonEl =\n",
              "        document.querySelector('#' + key + ' button');\n",
              "      quickchartButtonEl.disabled = true;  // To prevent multiple clicks.\n",
              "      quickchartButtonEl.classList.add('colab-df-spinner');\n",
              "      try {\n",
              "        const charts = await google.colab.kernel.invokeFunction(\n",
              "            'suggestCharts', [key], {});\n",
              "      } catch (error) {\n",
              "        console.error('Error during call to suggestCharts:', error);\n",
              "      }\n",
              "      quickchartButtonEl.classList.remove('colab-df-spinner');\n",
              "      quickchartButtonEl.classList.add('colab-df-quickchart-complete');\n",
              "    }\n",
              "    (() => {\n",
              "      let quickchartButtonEl =\n",
              "        document.querySelector('#df-ec4f0f47-3b1d-4ef6-b164-8d0e2974274f button');\n",
              "      quickchartButtonEl.style.display =\n",
              "        google.colab.kernel.accessAllowed ? 'block' : 'none';\n",
              "    })();\n",
              "  </script>\n",
              "</div>\n",
              "\n",
              "    </div>\n",
              "  </div>\n"
            ],
            "application/vnd.google.colaboratory.intrinsic+json": {
              "type": "dataframe",
              "variable_name": "survey_meta_manager",
              "summary": "{\n  \"name\": \"survey_meta_manager\",\n  \"rows\": 49,\n  \"fields\": [\n    {\n      \"column\": \"PID\",\n      \"properties\": {\n        \"dtype\": \"string\",\n        \"num_unique_values\": 49,\n        \"samples\": [\n          \"ST034\",\n          \"ST048\",\n          \"ST053\"\n        ],\n        \"semantic_type\": \"\",\n        \"description\": \"\"\n      }\n    },\n    {\n      \"column\": \"survey1\",\n      \"properties\": {\n        \"dtype\": \"object\",\n        \"num_unique_values\": 7,\n        \"samples\": [\n          \"2024-12-03 19:00:00-05:00\",\n          \"2024-12-04 19:00:00-05:00\",\n          \"2024-12-08 19:00:00-05:00\"\n        ],\n        \"semantic_type\": \"\",\n        \"description\": \"\"\n      }\n    },\n    {\n      \"column\": \"survey2\",\n      \"properties\": {\n        \"dtype\": \"date\",\n        \"min\": \"2024-12-10 00:00:00-05:00\",\n        \"max\": \"2024-12-10 00:00:00-05:00\",\n        \"num_unique_values\": 1,\n        \"samples\": [\n          \"2024-12-10 00:00:00-05:00\"\n        ],\n        \"semantic_type\": \"\",\n        \"description\": \"\"\n      }\n    },\n    {\n      \"column\": \"survey3\",\n      \"properties\": {\n        \"dtype\": \"number\",\n        \"std\": null,\n        \"min\": null,\n        \"max\": null,\n        \"num_unique_values\": 0,\n        \"samples\": [],\n        \"semantic_type\": \"\",\n        \"description\": \"\"\n      }\n    },\n    {\n      \"column\": \"survey4\",\n      \"properties\": {\n        \"dtype\": \"number\",\n        \"std\": null,\n        \"min\": null,\n        \"max\": null,\n        \"num_unique_values\": 0,\n        \"samples\": [],\n        \"semantic_type\": \"\",\n        \"description\": \"\"\n      }\n    },\n    {\n      \"column\": \"app_day_count\",\n      \"properties\": {\n        \"dtype\": \"number\",\n        \"std\": 1.7061932205445403,\n        \"min\": 2.0,\n        \"max\": 8.0,\n        \"num_unique_values\": 7,\n        \"samples\": [],\n        \"semantic_type\": \"\",\n        \"description\": \"\"\n      }\n    },\n    {\n      \"column\": \"Email\",\n      \"properties\": {\n        \"dtype\": \"string\",\n        \"num_unique_values\": 49,\n        \"samples\": [],\n        \"semantic_type\": \"\",\n        \"description\": \"\"\n      }\n    },\n    {\n      \"column\": \"date_invited\",\n      \"properties\": {\n        \"dtype\": \"object\",\n        \"num_unique_values\": 5,\n        \"samples\": [],\n        \"semantic_type\": \"\",\n        \"description\": \"\"\n      }\n    }\n  ]\n}"
            }
          },
          "metadata": {},
          "execution_count": 48
        }
      ]
    },
    {
      "cell_type": "markdown",
      "source": [
        "### Week 1 completion"
      ],
      "metadata": {
        "id": "ojA0MPE20e-z"
      }
    },
    {
      "cell_type": "code",
      "source": [
        "# filter those day_count is 7\n",
        "emails = get_emails_by_day_count(7)\n",
        "print(emails)"
      ],
      "metadata": {
        "id": "Y4P-gZgi0pQk",
        "colab": {
          "base_uri": "https://localhost:8080/"
        },
        "outputId": "0753042d-455b-4a77-9b64-b177ff612d31"
      },
      "execution_count": 49,
      "outputs": [
        {
          "output_type": "stream",
          "name": "stdout",
          "text": [
            "peacepulisic1@gmail.com,owen.micch@gmail.com,alexrhonda37@gmail.com,simmsmba@gmail.com,ssksg73@gmail.com,noahsschool2018@gmail.com\n"
          ]
        }
      ]
    },
    {
      "cell_type": "markdown",
      "source": [
        "### Week 2 completion"
      ],
      "metadata": {
        "id": "QWnH2Zud0exL"
      }
    },
    {
      "cell_type": "code",
      "source": [
        "# filter those day_count is 14\n",
        "emails = get_emails_by_day_count(14)\n",
        "print(emails)"
      ],
      "metadata": {
        "colab": {
          "base_uri": "https://localhost:8080/"
        },
        "id": "CIXdomrCXEFg",
        "outputId": "85178628-27fa-4058-eb9e-ef31e7f7b9c2"
      },
      "execution_count": 50,
      "outputs": [
        {
          "output_type": "stream",
          "name": "stdout",
          "text": [
            "None\n"
          ]
        }
      ]
    },
    {
      "cell_type": "markdown",
      "source": [
        "### Week 3 completion"
      ],
      "metadata": {
        "id": "nrXxVuNI0ep5"
      }
    },
    {
      "cell_type": "code",
      "source": [
        "# filter those day_count is 21\n",
        "emails = get_emails_by_day_count(21)\n",
        "print(emails)"
      ],
      "metadata": {
        "colab": {
          "base_uri": "https://localhost:8080/"
        },
        "id": "Q9Zx5vq2XEaB",
        "outputId": "fa7a37c4-18b4-48d4-de40-8aed7e128e2f"
      },
      "execution_count": 51,
      "outputs": [
        {
          "output_type": "stream",
          "name": "stdout",
          "text": [
            "None\n"
          ]
        }
      ]
    },
    {
      "cell_type": "markdown",
      "source": [
        "### Daily reminder"
      ],
      "metadata": {
        "id": "ZSKaRnMO0eUi"
      }
    },
    {
      "cell_type": "code",
      "source": [
        "# if there is an available survey awaiting\n",
        "# Create four columns with initial 'unavailable' status\n",
        "survey_meta_manager['survey1_status'] = 'unavailable'\n",
        "survey_meta_manager['survey2_status'] = 'unavailable'\n",
        "survey_meta_manager['survey3_status'] = 'unavailable'\n",
        "survey_meta_manager['survey4_status'] = 'unavailable'\n",
        "\n",
        "# Update status to 'complete' if there's a date in the survey columns\n",
        "# Check if the column exists before accessing it\n",
        "for i in range(1, 5):\n",
        "    survey_col = f'survey{i}'\n",
        "    status_col = f'{survey_col}_status'\n",
        "    if survey_col in survey_meta_manager.columns:  # Check if column exists\n",
        "        survey_meta_manager[status_col] = np.where(survey_meta_manager[survey_col].notna(), 'complete', survey_meta_manager[status_col])\n",
        "\n",
        "# Update status to 'available' if survey is NA and day_count exceeds the threshold\n",
        "thresholds = [6, 13, 20]\n",
        "for i, col in enumerate(['survey2', 'survey3', 'survey4'], start=2):\n",
        "    status_col = f'{col}_status'\n",
        "    if col in survey_meta_manager.columns:  # Check if column exists\n",
        "        survey_meta_manager[status_col] = np.where(\n",
        "            (survey_meta_manager[col].isna()) & (survey_meta_manager['app_day_count'] > thresholds[i-2]),\n",
        "            'available',\n",
        "            survey_meta_manager[status_col]\n",
        "        )\n",
        "\n",
        "# Save the updated DataFrame\n",
        "print(\"The shape of the dataframe is: \", survey_meta_manager.shape)\n",
        "survey_meta_manager.to_csv(google_drive_data_path + '/survey_meta_manager.csv', index=False)"
      ],
      "metadata": {
        "colab": {
          "base_uri": "https://localhost:8080/"
        },
        "id": "qPZeroGt0kOa",
        "outputId": "135181a3-03d6-4e35-b637-bf4f74552330"
      },
      "execution_count": 52,
      "outputs": [
        {
          "output_type": "stream",
          "name": "stdout",
          "text": [
            "The shape of the dataframe is:  (49, 12)\n"
          ]
        }
      ]
    },
    {
      "cell_type": "code",
      "source": [
        "survey_meta_manager.head()"
      ],
      "metadata": {
        "colab": {
          "base_uri": "https://localhost:8080/",
          "height": 487
        },
        "id": "Vt8dE2w60wHj",
        "outputId": "6fbb9cbb-fd55-416a-8865-b18441bf56b4"
      },
      "execution_count": 53,
      "outputs": [
        {
          "output_type": "execute_result",
          "data": {
            "text/plain": [
              "     PID                    survey1                    survey2  survey3  \\\n",
              "0  ST011  2024-12-03 19:00:00-05:00                        NaN      NaN   \n",
              "1  ST012  2024-12-03 19:00:00-05:00  2024-12-10 00:00:00-05:00      NaN   \n",
              "2  ST013  2024-12-03 19:00:00-05:00  2024-12-10 00:00:00-05:00      NaN   \n",
              "3  ST014  2024-12-03 19:00:00-05:00                        NaN      NaN   \n",
              "4  ST015  2024-12-03 19:00:00-05:00                        NaN      NaN   \n",
              "\n",
              "   survey4  app_day_count                     Email date_invited  \\\n",
              "0      NaN            8.0       mappscarl@gmail.com   2024-12-04   \n",
              "1      NaN            8.0           djsboca@aol.com   2024-12-04   \n",
              "2      NaN            8.0   santanana2000@yahoo.com   2024-12-04   \n",
              "3      NaN            8.0  sadiesantacruz@gmail.com   2024-12-04   \n",
              "4      NaN            8.0    jimoreno2055@gmail.com   2024-12-04   \n",
              "\n",
              "  survey1_status survey2_status survey3_status survey4_status  \n",
              "0       complete      available    unavailable    unavailable  \n",
              "1       complete       complete    unavailable    unavailable  \n",
              "2       complete       complete    unavailable    unavailable  \n",
              "3       complete      available    unavailable    unavailable  \n",
              "4       complete      available    unavailable    unavailable  "
            ],
            "text/html": [
              "\n",
              "  <div id=\"df-dd0c6ba3-7c14-4d05-8b32-38b53e219d7f\" class=\"colab-df-container\">\n",
              "    <div>\n",
              "<style scoped>\n",
              "    .dataframe tbody tr th:only-of-type {\n",
              "        vertical-align: middle;\n",
              "    }\n",
              "\n",
              "    .dataframe tbody tr th {\n",
              "        vertical-align: top;\n",
              "    }\n",
              "\n",
              "    .dataframe thead th {\n",
              "        text-align: right;\n",
              "    }\n",
              "</style>\n",
              "<table border=\"1\" class=\"dataframe\">\n",
              "  <thead>\n",
              "    <tr style=\"text-align: right;\">\n",
              "      <th></th>\n",
              "      <th>PID</th>\n",
              "      <th>survey1</th>\n",
              "      <th>survey2</th>\n",
              "      <th>survey3</th>\n",
              "      <th>survey4</th>\n",
              "      <th>app_day_count</th>\n",
              "      <th>Email</th>\n",
              "      <th>date_invited</th>\n",
              "      <th>survey1_status</th>\n",
              "      <th>survey2_status</th>\n",
              "      <th>survey3_status</th>\n",
              "      <th>survey4_status</th>\n",
              "    </tr>\n",
              "  </thead>\n",
              "  <tbody>\n",
              "    <tr>\n",
              "      <th>0</th>\n",
              "      <td>ST011</td>\n",
              "      <td>2024-12-03 19:00:00-05:00</td>\n",
              "      <td>NaN</td>\n",
              "      <td>NaN</td>\n",
              "      <td>NaN</td>\n",
              "      <td>8.0</td>\n",
              "      <td>mappscarl@gmail.com</td>\n",
              "      <td>2024-12-04</td>\n",
              "      <td>complete</td>\n",
              "      <td>available</td>\n",
              "      <td>unavailable</td>\n",
              "      <td>unavailable</td>\n",
              "    </tr>\n",
              "    <tr>\n",
              "      <th>1</th>\n",
              "      <td>ST012</td>\n",
              "      <td>2024-12-03 19:00:00-05:00</td>\n",
              "      <td>2024-12-10 00:00:00-05:00</td>\n",
              "      <td>NaN</td>\n",
              "      <td>NaN</td>\n",
              "      <td>8.0</td>\n",
              "      <td>djsboca@aol.com</td>\n",
              "      <td>2024-12-04</td>\n",
              "      <td>complete</td>\n",
              "      <td>complete</td>\n",
              "      <td>unavailable</td>\n",
              "      <td>unavailable</td>\n",
              "    </tr>\n",
              "    <tr>\n",
              "      <th>2</th>\n",
              "      <td>ST013</td>\n",
              "      <td>2024-12-03 19:00:00-05:00</td>\n",
              "      <td>2024-12-10 00:00:00-05:00</td>\n",
              "      <td>NaN</td>\n",
              "      <td>NaN</td>\n",
              "      <td>8.0</td>\n",
              "      <td>santanana2000@yahoo.com</td>\n",
              "      <td>2024-12-04</td>\n",
              "      <td>complete</td>\n",
              "      <td>complete</td>\n",
              "      <td>unavailable</td>\n",
              "      <td>unavailable</td>\n",
              "    </tr>\n",
              "    <tr>\n",
              "      <th>3</th>\n",
              "      <td>ST014</td>\n",
              "      <td>2024-12-03 19:00:00-05:00</td>\n",
              "      <td>NaN</td>\n",
              "      <td>NaN</td>\n",
              "      <td>NaN</td>\n",
              "      <td>8.0</td>\n",
              "      <td>sadiesantacruz@gmail.com</td>\n",
              "      <td>2024-12-04</td>\n",
              "      <td>complete</td>\n",
              "      <td>available</td>\n",
              "      <td>unavailable</td>\n",
              "      <td>unavailable</td>\n",
              "    </tr>\n",
              "    <tr>\n",
              "      <th>4</th>\n",
              "      <td>ST015</td>\n",
              "      <td>2024-12-03 19:00:00-05:00</td>\n",
              "      <td>NaN</td>\n",
              "      <td>NaN</td>\n",
              "      <td>NaN</td>\n",
              "      <td>8.0</td>\n",
              "      <td>jimoreno2055@gmail.com</td>\n",
              "      <td>2024-12-04</td>\n",
              "      <td>complete</td>\n",
              "      <td>available</td>\n",
              "      <td>unavailable</td>\n",
              "      <td>unavailable</td>\n",
              "    </tr>\n",
              "  </tbody>\n",
              "</table>\n",
              "</div>\n",
              "    <div class=\"colab-df-buttons\">\n",
              "\n",
              "  <div class=\"colab-df-container\">\n",
              "    <button class=\"colab-df-convert\" onclick=\"convertToInteractive('df-dd0c6ba3-7c14-4d05-8b32-38b53e219d7f')\"\n",
              "            title=\"Convert this dataframe to an interactive table.\"\n",
              "            style=\"display:none;\">\n",
              "\n",
              "  <svg xmlns=\"http://www.w3.org/2000/svg\" height=\"24px\" viewBox=\"0 -960 960 960\">\n",
              "    <path d=\"M120-120v-720h720v720H120Zm60-500h600v-160H180v160Zm220 220h160v-160H400v160Zm0 220h160v-160H400v160ZM180-400h160v-160H180v160Zm440 0h160v-160H620v160ZM180-180h160v-160H180v160Zm440 0h160v-160H620v160Z\"/>\n",
              "  </svg>\n",
              "    </button>\n",
              "\n",
              "  <style>\n",
              "    .colab-df-container {\n",
              "      display:flex;\n",
              "      gap: 12px;\n",
              "    }\n",
              "\n",
              "    .colab-df-convert {\n",
              "      background-color: #E8F0FE;\n",
              "      border: none;\n",
              "      border-radius: 50%;\n",
              "      cursor: pointer;\n",
              "      display: none;\n",
              "      fill: #1967D2;\n",
              "      height: 32px;\n",
              "      padding: 0 0 0 0;\n",
              "      width: 32px;\n",
              "    }\n",
              "\n",
              "    .colab-df-convert:hover {\n",
              "      background-color: #E2EBFA;\n",
              "      box-shadow: 0px 1px 2px rgba(60, 64, 67, 0.3), 0px 1px 3px 1px rgba(60, 64, 67, 0.15);\n",
              "      fill: #174EA6;\n",
              "    }\n",
              "\n",
              "    .colab-df-buttons div {\n",
              "      margin-bottom: 4px;\n",
              "    }\n",
              "\n",
              "    [theme=dark] .colab-df-convert {\n",
              "      background-color: #3B4455;\n",
              "      fill: #D2E3FC;\n",
              "    }\n",
              "\n",
              "    [theme=dark] .colab-df-convert:hover {\n",
              "      background-color: #434B5C;\n",
              "      box-shadow: 0px 1px 3px 1px rgba(0, 0, 0, 0.15);\n",
              "      filter: drop-shadow(0px 1px 2px rgba(0, 0, 0, 0.3));\n",
              "      fill: #FFFFFF;\n",
              "    }\n",
              "  </style>\n",
              "\n",
              "    <script>\n",
              "      const buttonEl =\n",
              "        document.querySelector('#df-dd0c6ba3-7c14-4d05-8b32-38b53e219d7f button.colab-df-convert');\n",
              "      buttonEl.style.display =\n",
              "        google.colab.kernel.accessAllowed ? 'block' : 'none';\n",
              "\n",
              "      async function convertToInteractive(key) {\n",
              "        const element = document.querySelector('#df-dd0c6ba3-7c14-4d05-8b32-38b53e219d7f');\n",
              "        const dataTable =\n",
              "          await google.colab.kernel.invokeFunction('convertToInteractive',\n",
              "                                                    [key], {});\n",
              "        if (!dataTable) return;\n",
              "\n",
              "        const docLinkHtml = 'Like what you see? Visit the ' +\n",
              "          '<a target=\"_blank\" href=https://colab.research.google.com/notebooks/data_table.ipynb>data table notebook</a>'\n",
              "          + ' to learn more about interactive tables.';\n",
              "        element.innerHTML = '';\n",
              "        dataTable['output_type'] = 'display_data';\n",
              "        await google.colab.output.renderOutput(dataTable, element);\n",
              "        const docLink = document.createElement('div');\n",
              "        docLink.innerHTML = docLinkHtml;\n",
              "        element.appendChild(docLink);\n",
              "      }\n",
              "    </script>\n",
              "  </div>\n",
              "\n",
              "\n",
              "<div id=\"df-1a06497c-6037-4af0-b5e9-3cff1ffab8ef\">\n",
              "  <button class=\"colab-df-quickchart\" onclick=\"quickchart('df-1a06497c-6037-4af0-b5e9-3cff1ffab8ef')\"\n",
              "            title=\"Suggest charts\"\n",
              "            style=\"display:none;\">\n",
              "\n",
              "<svg xmlns=\"http://www.w3.org/2000/svg\" height=\"24px\"viewBox=\"0 0 24 24\"\n",
              "     width=\"24px\">\n",
              "    <g>\n",
              "        <path d=\"M19 3H5c-1.1 0-2 .9-2 2v14c0 1.1.9 2 2 2h14c1.1 0 2-.9 2-2V5c0-1.1-.9-2-2-2zM9 17H7v-7h2v7zm4 0h-2V7h2v10zm4 0h-2v-4h2v4z\"/>\n",
              "    </g>\n",
              "</svg>\n",
              "  </button>\n",
              "\n",
              "<style>\n",
              "  .colab-df-quickchart {\n",
              "      --bg-color: #E8F0FE;\n",
              "      --fill-color: #1967D2;\n",
              "      --hover-bg-color: #E2EBFA;\n",
              "      --hover-fill-color: #174EA6;\n",
              "      --disabled-fill-color: #AAA;\n",
              "      --disabled-bg-color: #DDD;\n",
              "  }\n",
              "\n",
              "  [theme=dark] .colab-df-quickchart {\n",
              "      --bg-color: #3B4455;\n",
              "      --fill-color: #D2E3FC;\n",
              "      --hover-bg-color: #434B5C;\n",
              "      --hover-fill-color: #FFFFFF;\n",
              "      --disabled-bg-color: #3B4455;\n",
              "      --disabled-fill-color: #666;\n",
              "  }\n",
              "\n",
              "  .colab-df-quickchart {\n",
              "    background-color: var(--bg-color);\n",
              "    border: none;\n",
              "    border-radius: 50%;\n",
              "    cursor: pointer;\n",
              "    display: none;\n",
              "    fill: var(--fill-color);\n",
              "    height: 32px;\n",
              "    padding: 0;\n",
              "    width: 32px;\n",
              "  }\n",
              "\n",
              "  .colab-df-quickchart:hover {\n",
              "    background-color: var(--hover-bg-color);\n",
              "    box-shadow: 0 1px 2px rgba(60, 64, 67, 0.3), 0 1px 3px 1px rgba(60, 64, 67, 0.15);\n",
              "    fill: var(--button-hover-fill-color);\n",
              "  }\n",
              "\n",
              "  .colab-df-quickchart-complete:disabled,\n",
              "  .colab-df-quickchart-complete:disabled:hover {\n",
              "    background-color: var(--disabled-bg-color);\n",
              "    fill: var(--disabled-fill-color);\n",
              "    box-shadow: none;\n",
              "  }\n",
              "\n",
              "  .colab-df-spinner {\n",
              "    border: 2px solid var(--fill-color);\n",
              "    border-color: transparent;\n",
              "    border-bottom-color: var(--fill-color);\n",
              "    animation:\n",
              "      spin 1s steps(1) infinite;\n",
              "  }\n",
              "\n",
              "  @keyframes spin {\n",
              "    0% {\n",
              "      border-color: transparent;\n",
              "      border-bottom-color: var(--fill-color);\n",
              "      border-left-color: var(--fill-color);\n",
              "    }\n",
              "    20% {\n",
              "      border-color: transparent;\n",
              "      border-left-color: var(--fill-color);\n",
              "      border-top-color: var(--fill-color);\n",
              "    }\n",
              "    30% {\n",
              "      border-color: transparent;\n",
              "      border-left-color: var(--fill-color);\n",
              "      border-top-color: var(--fill-color);\n",
              "      border-right-color: var(--fill-color);\n",
              "    }\n",
              "    40% {\n",
              "      border-color: transparent;\n",
              "      border-right-color: var(--fill-color);\n",
              "      border-top-color: var(--fill-color);\n",
              "    }\n",
              "    60% {\n",
              "      border-color: transparent;\n",
              "      border-right-color: var(--fill-color);\n",
              "    }\n",
              "    80% {\n",
              "      border-color: transparent;\n",
              "      border-right-color: var(--fill-color);\n",
              "      border-bottom-color: var(--fill-color);\n",
              "    }\n",
              "    90% {\n",
              "      border-color: transparent;\n",
              "      border-bottom-color: var(--fill-color);\n",
              "    }\n",
              "  }\n",
              "</style>\n",
              "\n",
              "  <script>\n",
              "    async function quickchart(key) {\n",
              "      const quickchartButtonEl =\n",
              "        document.querySelector('#' + key + ' button');\n",
              "      quickchartButtonEl.disabled = true;  // To prevent multiple clicks.\n",
              "      quickchartButtonEl.classList.add('colab-df-spinner');\n",
              "      try {\n",
              "        const charts = await google.colab.kernel.invokeFunction(\n",
              "            'suggestCharts', [key], {});\n",
              "      } catch (error) {\n",
              "        console.error('Error during call to suggestCharts:', error);\n",
              "      }\n",
              "      quickchartButtonEl.classList.remove('colab-df-spinner');\n",
              "      quickchartButtonEl.classList.add('colab-df-quickchart-complete');\n",
              "    }\n",
              "    (() => {\n",
              "      let quickchartButtonEl =\n",
              "        document.querySelector('#df-1a06497c-6037-4af0-b5e9-3cff1ffab8ef button');\n",
              "      quickchartButtonEl.style.display =\n",
              "        google.colab.kernel.accessAllowed ? 'block' : 'none';\n",
              "    })();\n",
              "  </script>\n",
              "</div>\n",
              "\n",
              "    </div>\n",
              "  </div>\n"
            ],
            "application/vnd.google.colaboratory.intrinsic+json": {
              "type": "dataframe",
              "variable_name": "survey_meta_manager",
              "summary": "{\n  \"name\": \"survey_meta_manager\",\n  \"rows\": 49,\n  \"fields\": [\n    {\n      \"column\": \"PID\",\n      \"properties\": {\n        \"dtype\": \"string\",\n        \"num_unique_values\": 49,\n        \"samples\": [\n          \"ST034\",\n          \"ST048\",\n          \"ST053\"\n        ],\n        \"semantic_type\": \"\",\n        \"description\": \"\"\n      }\n    },\n    {\n      \"column\": \"survey1\",\n      \"properties\": {\n        \"dtype\": \"object\",\n        \"num_unique_values\": 7,\n        \"samples\": [\n          \"2024-12-03 19:00:00-05:00\",\n          \"2024-12-04 19:00:00-05:00\",\n          \"2024-12-08 19:00:00-05:00\"\n        ],\n        \"semantic_type\": \"\",\n        \"description\": \"\"\n      }\n    },\n    {\n      \"column\": \"survey2\",\n      \"properties\": {\n        \"dtype\": \"date\",\n        \"min\": \"2024-12-10 00:00:00-05:00\",\n        \"max\": \"2024-12-10 00:00:00-05:00\",\n        \"num_unique_values\": 1,\n        \"samples\": [\n          \"2024-12-10 00:00:00-05:00\"\n        ],\n        \"semantic_type\": \"\",\n        \"description\": \"\"\n      }\n    },\n    {\n      \"column\": \"survey3\",\n      \"properties\": {\n        \"dtype\": \"number\",\n        \"std\": null,\n        \"min\": null,\n        \"max\": null,\n        \"num_unique_values\": 0,\n        \"samples\": [],\n        \"semantic_type\": \"\",\n        \"description\": \"\"\n      }\n    },\n    {\n      \"column\": \"survey4\",\n      \"properties\": {\n        \"dtype\": \"number\",\n        \"std\": null,\n        \"min\": null,\n        \"max\": null,\n        \"num_unique_values\": 0,\n        \"samples\": [],\n        \"semantic_type\": \"\",\n        \"description\": \"\"\n      }\n    },\n    {\n      \"column\": \"app_day_count\",\n      \"properties\": {\n        \"dtype\": \"number\",\n        \"std\": 1.7061932205445403,\n        \"min\": 2.0,\n        \"max\": 8.0,\n        \"num_unique_values\": 7,\n        \"samples\": [],\n        \"semantic_type\": \"\",\n        \"description\": \"\"\n      }\n    },\n    {\n      \"column\": \"Email\",\n      \"properties\": {\n        \"dtype\": \"string\",\n        \"num_unique_values\": 49,\n        \"samples\": [],\n        \"semantic_type\": \"\",\n        \"description\": \"\"\n      }\n    },\n    {\n      \"column\": \"date_invited\",\n      \"properties\": {\n        \"dtype\": \"object\",\n        \"num_unique_values\": 5,\n        \"samples\": [],\n        \"semantic_type\": \"\",\n        \"description\": \"\"\n      }\n    },\n    {\n      \"column\": \"survey1_status\",\n      \"properties\": {\n        \"dtype\": \"category\",\n        \"num_unique_values\": 2,\n        \"samples\": [],\n        \"semantic_type\": \"\",\n        \"description\": \"\"\n      }\n    },\n    {\n      \"column\": \"survey2_status\",\n      \"properties\": {\n        \"dtype\": \"category\",\n        \"num_unique_values\": 3,\n        \"samples\": [],\n        \"semantic_type\": \"\",\n        \"description\": \"\"\n      }\n    },\n    {\n      \"column\": \"survey3_status\",\n      \"properties\": {\n        \"dtype\": \"category\",\n        \"num_unique_values\": 1,\n        \"samples\": [],\n        \"semantic_type\": \"\",\n        \"description\": \"\"\n      }\n    },\n    {\n      \"column\": \"survey4_status\",\n      \"properties\": {\n        \"dtype\": \"category\",\n        \"num_unique_values\": 1,\n        \"samples\": [],\n        \"semantic_type\": \"\",\n        \"description\": \"\"\n      }\n    }\n  ]\n}"
            }
          },
          "metadata": {},
          "execution_count": 53
        }
      ]
    },
    {
      "cell_type": "code",
      "source": [
        "# Get emails for participants with at least one 'available' survey\n",
        "target_participants = survey_meta_manager[(survey_meta_manager['survey2_status'] == 'available') |\n",
        "                                          (survey_meta_manager['survey3_status'] == 'available') |\n",
        "                                          (survey_meta_manager['survey4_status'] == 'available')]\n",
        "email_list = target_participants['Email'].tolist()\n",
        "print(','.join(email_list) or 'None')"
      ],
      "metadata": {
        "colab": {
          "base_uri": "https://localhost:8080/"
        },
        "id": "4-uTbyU8dZT6",
        "outputId": "c29384e3-6847-4d3d-d7ba-f62be585dd68"
      },
      "execution_count": 54,
      "outputs": [
        {
          "output_type": "stream",
          "name": "stdout",
          "text": [
            "mappscarl@gmail.com,sadiesantacruz@gmail.com,jimoreno2055@gmail.com,hongvuh@gmail.com,shelomohtony@gmail.com,brian_60629@yahoo.com,ktippett05@nc.rr.com,notquiterite73@gmail.com,ahaileselassie7459@gmail.com,roald820@gmail.com,peacepulisic1@gmail.com,owen.micch@gmail.com,alexrhonda37@gmail.com,simmsmba@gmail.com,ssksg73@gmail.com,noahsschool2018@gmail.com\n"
          ]
        }
      ]
    },
    {
      "cell_type": "markdown",
      "source": [
        "### Drop out notification"
      ],
      "metadata": {
        "id": "jRTSFjyIM5F6"
      }
    },
    {
      "cell_type": "code",
      "source": [
        "# If a survey is unanswered for seven days, send out a drop-out notification"
      ],
      "metadata": {
        "id": "a86pWV1cNFbZ"
      },
      "execution_count": 55,
      "outputs": []
    },
    {
      "cell_type": "code",
      "source": [
        "# If for three consecutive days, data is not coming through"
      ],
      "metadata": {
        "id": "8VvPssuEVQpX"
      },
      "execution_count": 56,
      "outputs": []
    },
    {
      "cell_type": "markdown",
      "source": [
        "## Participants from Janel"
      ],
      "metadata": {
        "id": "dN45CgfZWGzC"
      }
    },
    {
      "cell_type": "code",
      "source": [
        "sign_up_data = pd.read_excel(google_drive_data_path + '/signup_survey_data_processed_combined.xlsx')\n",
        "# prompt: filter where sourse == Janel Rana\n",
        "\n",
        "# Assuming 'sourse' is a column in your sign_up_data DataFrame\n",
        "filtered_sign_up_data = sign_up_data[sign_up_data['Source'] == 'Janel Rana']\n",
        "\n",
        "filtered_sign_up_data = filtered_sign_up_data[['Name','Email','Recruit','Note']]\n",
        "# prompt: In filtered_sign_up_data, create a new column \"recruited?\" from \"Recruit\": 1-> yes, 0->'will not', others -> 'TBD'\n",
        "\n",
        "# Create the 'recruited?' column based on the 'Recruit' column\n",
        "filtered_sign_up_data['recruited?'] = filtered_sign_up_data['Recruit'].map({\n",
        "    1: 'yes',\n",
        "    0: 'will not'\n",
        "})\n",
        "filtered_sign_up_data['recruited?'] = filtered_sign_up_data['recruited?'].fillna('TBD')"
      ],
      "metadata": {
        "id": "gAc7XrTEWJ_u"
      },
      "execution_count": null,
      "outputs": []
    },
    {
      "cell_type": "code",
      "source": [
        "Janel_noted_ID = \"17oIsLJ4GL5xK5SLQlc2tQ2NGZfuUw4AjWqCy2nC6jd0\"\n",
        "janel_noted_data = get_sheet_as_df(Janel_noted_ID)\n",
        "participant_manager = pd.read_csv(google_drive_data_path + '/participant_manager.csv')\n",
        "\n",
        "# prompt: In janel_noted_data and participant_manager, change values in Email all to lower case\n",
        "\n",
        "# 0. lower case Email in both files\n",
        "janel_noted_data['Email'] = janel_noted_data['Email'].str.lower()\n",
        "participant_manager['Email'] = participant_manager['Email'].str.lower()\n",
        "# Filter filtered_sign_up_data where Email does not exist in janel_noted_data\n",
        "filtered_df = filtered_sign_up_data[~filtered_sign_up_data['Email'].isin(janel_noted_data['Email'])]\n",
        "\n",
        "# Get columns present in janel_noted_data but missing in filtered_df\n",
        "missing_cols = list(set(janel_noted_data.columns) - set(filtered_df.columns))\n",
        "\n",
        "# Create missing columns in filtered_df and fill with NaN\n",
        "for col in missing_cols:\n",
        "    filtered_df[col] = float('nan')\n",
        "\n",
        "# Now you can safely concatenate\n",
        "combined_df = pd.concat([janel_noted_data, filtered_df[janel_noted_data.columns]], ignore_index=True)\n",
        "\n",
        "lasted_status = participant_manager[['Email','1208']]\n",
        "\n",
        "# prompt: merge lasted_status to combined_df by Email, how = left\n",
        "\n",
        "combined_df = pd.merge(combined_df, lasted_status, on='Email', how='left')\n",
        "\n",
        "# prompt: in combined_df, if recuited? = 'yes', update the value in 'note' from '1208'\n",
        "\n",
        "# Update 'note' column based on 'recruited?' column\n",
        "combined_df.loc[combined_df['recruited?'] == 'yes', 'note'] = combined_df.loc[combined_df['recruited?'] == 'yes', '1208']\n",
        "\n",
        "# prompt: drop column '1208'\n",
        "\n",
        "combined_df = combined_df.drop(columns=['1208'], errors='ignore')"
      ],
      "metadata": {
        "id": "VYpgpNFxZkq4"
      },
      "execution_count": null,
      "outputs": []
    },
    {
      "cell_type": "code",
      "source": [
        "success = write_df_to_sheet(combined_df, Janel_noted_ID)"
      ],
      "metadata": {
        "colab": {
          "base_uri": "https://localhost:8080/"
        },
        "id": "hZN6qqBcf2gm",
        "outputId": "880120cc-5270-410e-c717-7fafbb3401c5"
      },
      "execution_count": null,
      "outputs": [
        {
          "output_type": "stream",
          "name": "stdout",
          "text": [
            "Data successfully written to sheet\n"
          ]
        }
      ]
    },
    {
      "cell_type": "code",
      "source": [
        "def write_df_to_sheet(df, spreadsheet_id):\n",
        "    \"\"\"\n",
        "    Write DataFrame to Google Sheet with handling for special float values\n",
        "    \"\"\"\n",
        "    try:\n",
        "        # Make a copy to avoid modifying original DataFrame\n",
        "        df_clean = df.copy()\n",
        "\n",
        "        # Replace problematic values\n",
        "        df_clean = df_clean.replace([np.inf, -np.inf], 'Infinity')  # Handle infinity\n",
        "        df_clean = df_clean.fillna('')  # Replace NaN with empty string\n",
        "\n",
        "        # Open the spreadsheet\n",
        "        spreadsheet = gc.open_by_key(spreadsheet_id)\n",
        "        worksheet = spreadsheet.sheet1\n",
        "\n",
        "        # Convert DataFrame to list of lists including headers\n",
        "        values = [df_clean.columns.values.tolist()] + df_clean.values.tolist()\n",
        "\n",
        "        # Clear existing content and update\n",
        "        worksheet.clear()\n",
        "        worksheet.update(values=values, range_name='A1')  # Fixed order of arguments\n",
        "\n",
        "        print(\"Data successfully written to sheet\")\n",
        "        return True\n",
        "\n",
        "    except Exception as e:\n",
        "        print(f\"Error writing to spreadsheet: {e}\")\n",
        "        return False"
      ],
      "metadata": {
        "id": "i-gz-DFlgjXE"
      },
      "execution_count": null,
      "outputs": []
    },
    {
      "cell_type": "code",
      "source": [],
      "metadata": {
        "id": "Pb2Nlaelio7O"
      },
      "execution_count": null,
      "outputs": []
    }
  ]
}