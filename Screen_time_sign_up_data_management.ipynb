{
  "nbformat": 4,
  "nbformat_minor": 0,
  "metadata": {
    "colab": {
      "provenance": [],
      "authorship_tag": "ABX9TyPKxu5EJKnGhr6HASbFCuyW",
      "include_colab_link": true
    },
    "kernelspec": {
      "name": "python3",
      "display_name": "Python 3"
    },
    "language_info": {
      "name": "python"
    }
  },
  "cells": [
    {
      "cell_type": "markdown",
      "metadata": {
        "id": "view-in-github",
        "colab_type": "text"
      },
      "source": [
        "<a href=\"https://colab.research.google.com/github/jzheng23/colab/blob/main/Screen_time_sign_up_data_management.ipynb\" target=\"_parent\"><img src=\"https://colab.research.google.com/assets/colab-badge.svg\" alt=\"Open In Colab\"/></a>"
      ]
    },
    {
      "cell_type": "markdown",
      "source": [
        "## Preparation"
      ],
      "metadata": {
        "id": "kkkTLm9Ar1Ls"
      }
    },
    {
      "cell_type": "code",
      "execution_count": null,
      "metadata": {
        "colab": {
          "base_uri": "https://localhost:8080/"
        },
        "id": "VjjWvhNBrlO3",
        "outputId": "22de9f31-6aba-47db-bf6a-be76417649bb"
      },
      "outputs": [
        {
          "output_type": "stream",
          "name": "stdout",
          "text": [
            "Mounted at /content/drive\n"
          ]
        }
      ],
      "source": [
        "from google.colab import drive\n",
        "drive.mount('/content/drive')"
      ]
    },
    {
      "cell_type": "code",
      "source": [
        "#Jian\n",
        "google_drive_data_path = '/content/drive/MyDrive/Problematic smartphone usage/Ambient display/Data'\n",
        "google_drive_key_path = '/content/drive/MyDrive/Problematic smartphone usage/Ambient display/Key'"
      ],
      "metadata": {
        "id": "GRvwwy_ErvmK"
      },
      "execution_count": null,
      "outputs": []
    },
    {
      "cell_type": "markdown",
      "source": [
        "### Read and save the raw data"
      ],
      "metadata": {
        "id": "vm69YDjX93BA"
      }
    },
    {
      "cell_type": "code",
      "source": [
        "import pandas as pd\n",
        "import requests\n",
        "import zipfile\n",
        "import json\n",
        "import time\n",
        "import io\n",
        "\n",
        "def get_qualtrics_data(api_token, survey_id):\n",
        "   base_url = f\"https://pdx1.qualtrics.com/API/v3/surveys/{survey_id}/export-responses\"\n",
        "   headers = {\n",
        "       \"X-API-TOKEN\": api_token,\n",
        "       \"Content-Type\": \"application/json\"\n",
        "   }\n",
        "\n",
        "   # Start export and get progress ID\n",
        "   export_response = requests.post(base_url, json={\"format\": \"csv\"}, headers=headers)\n",
        "   export_progress_id = export_response.json()[\"result\"][\"progressId\"]\n",
        "\n",
        "   # Poll until complete\n",
        "   while True:\n",
        "       progress_response = requests.get(f\"{base_url}/{export_progress_id}\", headers=headers)\n",
        "       if progress_response.json()[\"result\"][\"status\"] == \"complete\":\n",
        "           file_id = progress_response.json()[\"result\"][\"fileId\"]\n",
        "           break\n",
        "       time.sleep(1)\n",
        "\n",
        "   # Download and extract\n",
        "   download_response = requests.get(f\"{base_url}/{file_id}/file\", headers=headers)\n",
        "   with zipfile.ZipFile(io.BytesIO(download_response.content)) as zf:\n",
        "       return zf.read(zf.namelist()[0]).decode('utf-8')\n",
        "\n",
        "sign_up_survey = \"SV_3RiDob4GtY8kCSG\"\n",
        "api_token = \"U5xGlZmJv76LsjIXvfwB7FS9RqrqwmMb3vva3pbD\"\n",
        "\n",
        "# Get data and save\n",
        "signup_survey_data = get_qualtrics_data(api_token, sign_up_survey)\n",
        "signup_df = pd.read_csv(io.StringIO(signup_survey_data))\n",
        "print(f\"The shape of the signup_survey_data is {signup_df.shape}\")\n",
        "signup_df.to_csv(google_drive_data_path + '/signup_survey_data_raw.csv', index=False)"
      ],
      "metadata": {
        "colab": {
          "base_uri": "https://localhost:8080/"
        },
        "id": "3lIrYMko8Sr2",
        "outputId": "e0ecc881-b3fe-4873-c0fc-83fca9bc82f0"
      },
      "execution_count": null,
      "outputs": [
        {
          "output_type": "stream",
          "name": "stdout",
          "text": [
            "The shape of the signup_survey_data is (678, 55)\n"
          ]
        }
      ]
    },
    {
      "cell_type": "markdown",
      "source": [
        "### Process the data"
      ],
      "metadata": {
        "id": "_n6nv8zK97aA"
      }
    },
    {
      "cell_type": "code",
      "source": [
        "# install the package if missing\n",
        "!pip install reverse_geocoder"
      ],
      "metadata": {
        "id": "CztATSXT9KQx",
        "colab": {
          "base_uri": "https://localhost:8080/"
        },
        "outputId": "340f33d5-47d2-48e5-a8bb-04a704883fdb"
      },
      "execution_count": null,
      "outputs": [
        {
          "output_type": "stream",
          "name": "stdout",
          "text": [
            "Collecting reverse_geocoder\n",
            "  Downloading reverse_geocoder-1.5.1.tar.gz (2.2 MB)\n",
            "\u001b[?25l     \u001b[90m━━━━━━━━━━━━━━━━━━━━━━━━━━━━━━━━━━━━━━━━\u001b[0m \u001b[32m0.0/2.2 MB\u001b[0m \u001b[31m?\u001b[0m eta \u001b[36m-:--:--\u001b[0m\r\u001b[2K     \u001b[91m━━━━\u001b[0m\u001b[91m╸\u001b[0m\u001b[90m━━━━━━━━━━━━━━━━━━━━━━━━━━━━━━━━━━━\u001b[0m \u001b[32m0.3/2.2 MB\u001b[0m \u001b[31m7.5 MB/s\u001b[0m eta \u001b[36m0:00:01\u001b[0m\r\u001b[2K     \u001b[91m━━━━━━━━━━━━━━━━━━━━━━━━━━━━━━━━━━━━━━━\u001b[0m\u001b[90m╺\u001b[0m \u001b[32m2.2/2.2 MB\u001b[0m \u001b[31m31.6 MB/s\u001b[0m eta \u001b[36m0:00:01\u001b[0m\r\u001b[2K     \u001b[90m━━━━━━━━━━━━━━━━━━━━━━━━━━━━━━━━━━━━━━━━\u001b[0m \u001b[32m2.2/2.2 MB\u001b[0m \u001b[31m23.8 MB/s\u001b[0m eta \u001b[36m0:00:00\u001b[0m\n",
            "\u001b[?25h  Preparing metadata (setup.py) ... \u001b[?25l\u001b[?25hdone\n",
            "Requirement already satisfied: numpy>=1.11.0 in /usr/local/lib/python3.10/dist-packages (from reverse_geocoder) (1.26.4)\n",
            "Requirement already satisfied: scipy>=0.17.1 in /usr/local/lib/python3.10/dist-packages (from reverse_geocoder) (1.13.1)\n",
            "Building wheels for collected packages: reverse_geocoder\n",
            "  Building wheel for reverse_geocoder (setup.py) ... \u001b[?25l\u001b[?25hdone\n",
            "  Created wheel for reverse_geocoder: filename=reverse_geocoder-1.5.1-py3-none-any.whl size=2268068 sha256=b4e1886df2941f11707a87e9e7f3470fb0b9ff4f1cc2775d8e81fb607a395ad1\n",
            "  Stored in directory: /root/.cache/pip/wheels/bd/e5/88/eb139b6d6a26b8022d370ab991f7a836802fed9871975ec6d9\n",
            "Successfully built reverse_geocoder\n",
            "Installing collected packages: reverse_geocoder\n",
            "Successfully installed reverse_geocoder-1.5.1\n"
          ]
        }
      ]
    },
    {
      "cell_type": "code",
      "source": [
        "import pandas as pd\n",
        "import reverse_geocoder as rg\n",
        "\n",
        "def get_country(lat, lon):\n",
        "   try:\n",
        "       result = rg.search((lat, lon))[0]['cc']\n",
        "       return result if result else 'Unknown'\n",
        "   except:\n",
        "       return 'Unknown'\n",
        "\n",
        "# Load and preprocess data\n",
        "signup_data = pd.read_csv(google_drive_data_path + '/signup_survey_data_raw.csv').drop([0, 1])\n",
        "signup_data['Q19'] = signup_data['Q19'].replace('djsboca@aol.ocm', 'djsboca@aol.com')\n",
        "\n",
        "# Add country info\n",
        "signup_data['Country'] = signup_data.apply(\n",
        "   lambda row: get_country(row['LocationLatitude'], row['LocationLongitude']), axis=1\n",
        ")\n",
        "\n",
        "# Drop missing Q19 and init valid column\n",
        "signup_data = signup_data.dropna(subset=['Q19'])\n",
        "signup_data['valid'] = 1\n",
        "\n",
        "# Add location and IP counts\n",
        "signup_data['location_count'] = signup_data.groupby(['LocationLatitude', 'LocationLongitude'])['LocationLatitude'].transform('count')\n",
        "signup_data['ip_count'] = signup_data.groupby('IPAddress')['IPAddress'].transform('count')\n",
        "\n",
        "# Update valid flags\n",
        "conditions = [\n",
        "   (signup_data['location_count'] != 1, 9),\n",
        "   (signup_data['Country'] != 'US', 2),\n",
        "   (signup_data['ip_count'] != 1, 3),\n",
        "   ((signup_data['Q_RecaptchaScore'].astype(float) < 0.8) | (signup_data['Q_RelevantIDDuplicate'] == \"TRUE\"), 5),\n",
        "   (signup_data['Q_RelevantIDFraudScore'].astype(float) > 0, 5),\n",
        "   (signup_data['Q23'].str.contains('jan|rana|wechat|326|class', case=False, na=False), 1),\n",
        "   (~signup_data['Q19'].str.lower().str.endswith('@gmail.com', na=False), 1),\n",
        "   (signup_data['Q23'].str.contains('Facebook|reddit|flyer', case=False, na=False), 4)\n",
        "]\n",
        "\n",
        "for condition, value in conditions:\n",
        "   signup_data.loc[condition, 'valid'] = value\n",
        "\n",
        "# Remove Q19 duplicates and save\n",
        "signup_data = signup_data.drop_duplicates(subset=['Q19'], keep='first')\n",
        "signup_data.to_csv(google_drive_data_path + '/signup_survey_data_labeled.csv', index=False)"
      ],
      "metadata": {
        "colab": {
          "base_uri": "https://localhost:8080/"
        },
        "id": "Jt3ixpVu8mFv",
        "outputId": "3de992cf-86ba-44a5-a161-370eeaf1e770"
      },
      "execution_count": null,
      "outputs": [
        {
          "output_type": "stream",
          "name": "stdout",
          "text": [
            "Loading formatted geocoded file...\n"
          ]
        },
        {
          "output_type": "stream",
          "name": "stderr",
          "text": [
            "<ipython-input-5-8ab112c712cc>:21: SettingWithCopyWarning: \n",
            "A value is trying to be set on a copy of a slice from a DataFrame.\n",
            "Try using .loc[row_indexer,col_indexer] = value instead\n",
            "\n",
            "See the caveats in the documentation: https://pandas.pydata.org/pandas-docs/stable/user_guide/indexing.html#returning-a-view-versus-a-copy\n",
            "  signup_data['valid'] = 1\n",
            "<ipython-input-5-8ab112c712cc>:24: SettingWithCopyWarning: \n",
            "A value is trying to be set on a copy of a slice from a DataFrame.\n",
            "Try using .loc[row_indexer,col_indexer] = value instead\n",
            "\n",
            "See the caveats in the documentation: https://pandas.pydata.org/pandas-docs/stable/user_guide/indexing.html#returning-a-view-versus-a-copy\n",
            "  signup_data['location_count'] = signup_data.groupby(['LocationLatitude', 'LocationLongitude'])['LocationLatitude'].transform('count')\n",
            "<ipython-input-5-8ab112c712cc>:25: SettingWithCopyWarning: \n",
            "A value is trying to be set on a copy of a slice from a DataFrame.\n",
            "Try using .loc[row_indexer,col_indexer] = value instead\n",
            "\n",
            "See the caveats in the documentation: https://pandas.pydata.org/pandas-docs/stable/user_guide/indexing.html#returning-a-view-versus-a-copy\n",
            "  signup_data['ip_count'] = signup_data.groupby('IPAddress')['IPAddress'].transform('count')\n"
          ]
        }
      ]
    },
    {
      "cell_type": "markdown",
      "source": [
        "Get city from location"
      ],
      "metadata": {
        "id": "V196aG8r0I4F"
      }
    },
    {
      "cell_type": "code",
      "source": [
        "signup_data0 = pd.read_csv(google_drive_data_path + '/signup_survey_data_labeled.csv')\n",
        "# Create a dictionary from the CSV mapping\n",
        "column_mapping = {\n",
        "    'EndDate': 'EndDate',\n",
        "    'Q3': 'Age',\n",
        "    'Q5': 'Brand',\n",
        "    'Q5_5_TEXT': 'Brand_text',\n",
        "    'Q6': 'Android_version',\n",
        "    'Q11': 'Screen_time',\n",
        "    'Q13': 'Gender',\n",
        "    'Q13_4_TEXT': 'Gender_text',\n",
        "    'Q14': 'Education',\n",
        "    'Q15_1': 'Race_white',\n",
        "    'Q15_2': 'Race_black',\n",
        "    'Q15_3': 'Race_native',\n",
        "    'Q15_4': 'Race_Asian',\n",
        "    'Q15_5': 'Race_Pacific',\n",
        "    'Q15_6': 'Race_others',\n",
        "    'Q15_7': 'Race_text',\n",
        "    'Q16_1': 'Employment_retired',\n",
        "    'Q16_2': 'Employment_self-employed',\n",
        "    'Q16_3': 'Employment_employment full-time',\n",
        "    'Q16_4': 'Employment_employment part-time',\n",
        "    'Q16_5': 'Employment_voluntary worker',\n",
        "    'Q16_6': 'Employment_homemaker',\n",
        "    'Q16_7': 'Employment_student',\n",
        "    'Q16_8': 'Employment_others',\n",
        "    'Q16_4_TEXT': 'Employment_hours_text',\n",
        "    'Q16_8_TEXT': 'Employment_text',\n",
        "    'Q18': 'Name',\n",
        "    'Q19': 'Email',\n",
        "    'Q23': 'Source'\n",
        "}\n",
        "\n",
        "# Filter valid rows and rename columns\n",
        "signup_data0 = (signup_data0[signup_data0['valid'].isin([1, 9])]\n",
        "               [column_mapping.keys()]\n",
        "               .rename(columns=column_mapping))\n",
        "\n",
        "# Save to CSV\n",
        "signup_data0.to_csv(google_drive_data_path + '/signup_survey_data_valid.csv', index=False)"
      ],
      "metadata": {
        "id": "yUIjJ-beQJ86"
      },
      "execution_count": null,
      "outputs": []
    },
    {
      "cell_type": "code",
      "source": [
        "def process_signup_data(df):\n",
        "    # Create a copy\n",
        "    df = df.copy()\n",
        "\n",
        "    # Define mappings\n",
        "    mappings = {\n",
        "        'Brand': {'1': 'Samsung', '3': 'Xiaomi', '4': 'Google'},\n",
        "        'Gender': {'1': 'female', '2': 'male', '3': 'non-binary'},\n",
        "        'Education': {\n",
        "            '1': 'some high school or less',\n",
        "            '2': 'high school or GED',\n",
        "            '3': 'some college no degree',\n",
        "            '4': 'associate or technical degree',\n",
        "            '5': 'bachelor',\n",
        "            '6': 'graduate or professional',\n",
        "            '7': 'prefer not to say'\n",
        "        }\n",
        "    }\n",
        "\n",
        "    # Apply mappings with fallback to text columns\n",
        "    df['Brand'] = df.apply(lambda x: mappings['Brand'].get(str(x['Brand']), x['Brand_text']), axis=1)\n",
        "    df['Gender'] = df.apply(lambda x: mappings['Gender'].get(str(x['Gender']), x['Gender_text']), axis=1)\n",
        "    df['Education'] = df['Education'].astype(str).map(mappings['Education'])\n",
        "\n",
        "    # Combine race columns\n",
        "    race_cols = ['white', 'black', 'native', 'Asian', 'Pacific', 'others']\n",
        "    df['Race'] = df.apply(lambda x: ', '.join(\n",
        "        [race for race, col in zip(race_cols, ['Race_' + r for r in race_cols])\n",
        "         if str(x[col]) == '1.0'] +\n",
        "        ([x['Race_text']] if pd.notna(x['Race_text']) and x['Race_text'] else [])), axis=1)\n",
        "\n",
        "    # Combine employment columns\n",
        "    emp_mappings = {\n",
        "        'Employment_retired': 'retired',\n",
        "        'Employment_self-employed': 'self-employed',\n",
        "        'Employment_employment full-time': 'full-time',\n",
        "        'Employment_employment part-time': 'part-time',\n",
        "        'Employment_voluntary worker': 'voluntary worker',\n",
        "        'Employment_homemaker': 'homemaker',\n",
        "        'Employment_student': 'student',\n",
        "        'Employment_others': 'others'\n",
        "    }\n",
        "\n",
        "    df['Employment'] = df.apply(lambda x: ', '.join(\n",
        "        [val for col, val in emp_mappings.items() if str(x[col]) == '1.0'] +\n",
        "        ([x['Employment_text']] if pd.notna(x['Employment_text']) and x['Employment_text'] else [])), axis=1)\n",
        "\n",
        "    # Remove \"Android version\" or \"Android\", together with space before or after\n",
        "    df['Android_version'] = df['Android_version'].str.replace(r'\\s*(Android version|Android)\\s*', '', case=False, regex=True)\n",
        "\n",
        "    # Remove \"hours\" or \"hrs\", together with space before or after\n",
        "    df['Screen_time'] = df['Screen_time'].str.replace(r'\\s*(hours|hrs)\\s*', '', case=False, regex=True)\n",
        "\n",
        "    # Rest of the code remains the same\n",
        "    cols_to_drop = (['Brand_text', 'Gender_text', 'Race_text', 'Employment_text'] +\n",
        "                    ['Race_' + r for r in race_cols] +\n",
        "                    list(emp_mappings.keys()))\n",
        "    df = df.drop(cols_to_drop, axis=1)\n",
        "    df = df.rename(columns={'Employment_hours_text': 'Part_time_hours'})\n",
        "\n",
        "    columns_order = [\n",
        "        'EndDate', 'Age', 'Gender', 'Education', 'Race', 'Employment', 'Part_time_hours',\n",
        "        'Brand', 'Android_version', 'Screen_time',\n",
        "        'Name', 'Email', 'Source'\n",
        "    ]\n",
        "    return df[columns_order]\n",
        "\n",
        "# Process data\n",
        "signup_data1 = process_signup_data(signup_data0)\n",
        "signup_data1['Email'] = signup_data1['Email'].str.lower().replace('djsboca@aol.ocm', 'djsboca@aol.com')\n",
        "signup_data1.to_csv(google_drive_data_path + '/signup_survey_data_processed.csv', index=False)"
      ],
      "metadata": {
        "id": "f8XRv-ELKnfj"
      },
      "execution_count": null,
      "outputs": []
    },
    {
      "cell_type": "code",
      "source": [
        "# prompt: in process_signup_data, remove \"Android version\" or \"Android\", together with space before or after the string, case insensitive, from the string in the Android_version column.  Remove \"hours\" or \"hrs\", together with space before or after the string, case insensitive, from the string in the Screen_time column.\n",
        "\n",
        "def process_signup_data(df):\n",
        "    # Create a copy\n",
        "    df = df.copy()\n",
        "\n",
        "    # ... (Existing code)\n",
        "\n",
        "    # Remove \"Android version\" or \"Android\", together with space before or after\n",
        "    df['Android_version'] = df['Android_version'].str.replace(r'\\s*(Android version|Android)\\s*', '', case=False, regex=True)\n",
        "\n",
        "    # Remove \"hours\" or \"hrs\", together with space before or after\n",
        "    df['Screen_time'] = df['Screen_time'].str.replace(r'\\s*(hours|hrs)\\s*', '', case=False, regex=True)\n",
        "\n",
        "    # ... (Rest of the code)"
      ],
      "metadata": {
        "id": "8JG4oy9ZMtVZ"
      },
      "execution_count": null,
      "outputs": []
    },
    {
      "cell_type": "markdown",
      "source": [
        "Combine files"
      ],
      "metadata": {
        "id": "RVWINQ17U1vu"
      }
    },
    {
      "cell_type": "code",
      "source": [
        "# Read and process files\n",
        "df1 = pd.read_csv(google_drive_data_path + '/signup_survey_data_processed.csv')\n",
        "df2 = pd.read_excel(google_drive_data_path + '/signup_survey_data_processed_combined.xlsx')\n",
        "participant_data = pd.read_excel(google_drive_data_path + '/Participants.xlsx')\n",
        "\n",
        "# Convert all emails to lowercase\n",
        "df1['Email'] = df1['Email'].str.lower()\n",
        "df2['Email'] = df2['Email'].str.lower()\n",
        "participant_data['Email'] = participant_data['Email'].str.lower()\n",
        "\n",
        "# Process and combine\n",
        "new_rows = df1[~df1['Email'].isin(df2['Email'])].assign(Recruit=2, Note='')\n",
        "final_df = pd.concat([df2, new_rows], ignore_index=True)\n",
        "\n",
        "if 'PID' in final_df.columns:\n",
        "   final_df = final_df.drop('PID', axis=1)\n",
        "\n",
        "# Merge PID and EndDate\n",
        "final_df = (final_df\n",
        "           .merge(participant_data[['Email','PID']], on='Email', how='left'))\n",
        "\n",
        "print(f\"The shape of the final_df is {final_df.shape}\")\n",
        "final_df.to_excel(google_drive_data_path + '/signup_survey_data_processed_combined.xlsx', index=False)"
      ],
      "metadata": {
        "id": "_MWR5ilwQlu8",
        "colab": {
          "base_uri": "https://localhost:8080/"
        },
        "outputId": "6777726a-e04c-445c-df73-9e820b28a5fc"
      },
      "execution_count": null,
      "outputs": [
        {
          "output_type": "stream",
          "name": "stdout",
          "text": [
            "The shape of the final_df is (85, 16)\n"
          ]
        }
      ]
    },
    {
      "cell_type": "markdown",
      "source": [
        "Create a mail list to upload"
      ],
      "metadata": {
        "id": "-r6uEb3eLZFY"
      }
    },
    {
      "cell_type": "code",
      "source": [
        "participant_data = pd.read_excel(google_drive_data_path + '/Participants.xlsx')"
      ],
      "metadata": {
        "id": "2z8mnpOoLbqd"
      },
      "execution_count": null,
      "outputs": []
    },
    {
      "cell_type": "code",
      "source": [
        "participant_data.tail()"
      ],
      "metadata": {
        "colab": {
          "base_uri": "https://localhost:8080/",
          "height": 206
        },
        "id": "g-E1Iu_SLiQU",
        "outputId": "63961aaf-525c-4427-e09a-0b24bfef7f2c"
      },
      "execution_count": null,
      "outputs": [
        {
          "output_type": "execute_result",
          "data": {
            "text/plain": [
              "                        Email nick name    PID       Date\n",
              "41        vkurmalev@gmail.com      Vlad  ST050 2024-12-07\n",
              "42       madiflori1@gmail.com      Madi  ST051 2024-12-07\n",
              "43        finplan65@yahoo.com    Philip  ST052 2024-12-07\n",
              "44  miller.jennylee@yahoo.com       Jen  ST053 2024-12-07\n",
              "45        danmadkia@gmail.com     Nakia  ST054 2024-12-07"
            ],
            "text/html": [
              "\n",
              "  <div id=\"df-88e05d3d-babc-4cfc-98bc-288139347aa9\" class=\"colab-df-container\">\n",
              "    <div>\n",
              "<style scoped>\n",
              "    .dataframe tbody tr th:only-of-type {\n",
              "        vertical-align: middle;\n",
              "    }\n",
              "\n",
              "    .dataframe tbody tr th {\n",
              "        vertical-align: top;\n",
              "    }\n",
              "\n",
              "    .dataframe thead th {\n",
              "        text-align: right;\n",
              "    }\n",
              "</style>\n",
              "<table border=\"1\" class=\"dataframe\">\n",
              "  <thead>\n",
              "    <tr style=\"text-align: right;\">\n",
              "      <th></th>\n",
              "      <th>Email</th>\n",
              "      <th>nick name</th>\n",
              "      <th>PID</th>\n",
              "      <th>Date</th>\n",
              "    </tr>\n",
              "  </thead>\n",
              "  <tbody>\n",
              "    <tr>\n",
              "      <th>41</th>\n",
              "      <td>vkurmalev@gmail.com</td>\n",
              "      <td>Vlad</td>\n",
              "      <td>ST050</td>\n",
              "      <td>2024-12-07</td>\n",
              "    </tr>\n",
              "    <tr>\n",
              "      <th>42</th>\n",
              "      <td>madiflori1@gmail.com</td>\n",
              "      <td>Madi</td>\n",
              "      <td>ST051</td>\n",
              "      <td>2024-12-07</td>\n",
              "    </tr>\n",
              "    <tr>\n",
              "      <th>43</th>\n",
              "      <td>finplan65@yahoo.com</td>\n",
              "      <td>Philip</td>\n",
              "      <td>ST052</td>\n",
              "      <td>2024-12-07</td>\n",
              "    </tr>\n",
              "    <tr>\n",
              "      <th>44</th>\n",
              "      <td>miller.jennylee@yahoo.com</td>\n",
              "      <td>Jen</td>\n",
              "      <td>ST053</td>\n",
              "      <td>2024-12-07</td>\n",
              "    </tr>\n",
              "    <tr>\n",
              "      <th>45</th>\n",
              "      <td>danmadkia@gmail.com</td>\n",
              "      <td>Nakia</td>\n",
              "      <td>ST054</td>\n",
              "      <td>2024-12-07</td>\n",
              "    </tr>\n",
              "  </tbody>\n",
              "</table>\n",
              "</div>\n",
              "    <div class=\"colab-df-buttons\">\n",
              "\n",
              "  <div class=\"colab-df-container\">\n",
              "    <button class=\"colab-df-convert\" onclick=\"convertToInteractive('df-88e05d3d-babc-4cfc-98bc-288139347aa9')\"\n",
              "            title=\"Convert this dataframe to an interactive table.\"\n",
              "            style=\"display:none;\">\n",
              "\n",
              "  <svg xmlns=\"http://www.w3.org/2000/svg\" height=\"24px\" viewBox=\"0 -960 960 960\">\n",
              "    <path d=\"M120-120v-720h720v720H120Zm60-500h600v-160H180v160Zm220 220h160v-160H400v160Zm0 220h160v-160H400v160ZM180-400h160v-160H180v160Zm440 0h160v-160H620v160ZM180-180h160v-160H180v160Zm440 0h160v-160H620v160Z\"/>\n",
              "  </svg>\n",
              "    </button>\n",
              "\n",
              "  <style>\n",
              "    .colab-df-container {\n",
              "      display:flex;\n",
              "      gap: 12px;\n",
              "    }\n",
              "\n",
              "    .colab-df-convert {\n",
              "      background-color: #E8F0FE;\n",
              "      border: none;\n",
              "      border-radius: 50%;\n",
              "      cursor: pointer;\n",
              "      display: none;\n",
              "      fill: #1967D2;\n",
              "      height: 32px;\n",
              "      padding: 0 0 0 0;\n",
              "      width: 32px;\n",
              "    }\n",
              "\n",
              "    .colab-df-convert:hover {\n",
              "      background-color: #E2EBFA;\n",
              "      box-shadow: 0px 1px 2px rgba(60, 64, 67, 0.3), 0px 1px 3px 1px rgba(60, 64, 67, 0.15);\n",
              "      fill: #174EA6;\n",
              "    }\n",
              "\n",
              "    .colab-df-buttons div {\n",
              "      margin-bottom: 4px;\n",
              "    }\n",
              "\n",
              "    [theme=dark] .colab-df-convert {\n",
              "      background-color: #3B4455;\n",
              "      fill: #D2E3FC;\n",
              "    }\n",
              "\n",
              "    [theme=dark] .colab-df-convert:hover {\n",
              "      background-color: #434B5C;\n",
              "      box-shadow: 0px 1px 3px 1px rgba(0, 0, 0, 0.15);\n",
              "      filter: drop-shadow(0px 1px 2px rgba(0, 0, 0, 0.3));\n",
              "      fill: #FFFFFF;\n",
              "    }\n",
              "  </style>\n",
              "\n",
              "    <script>\n",
              "      const buttonEl =\n",
              "        document.querySelector('#df-88e05d3d-babc-4cfc-98bc-288139347aa9 button.colab-df-convert');\n",
              "      buttonEl.style.display =\n",
              "        google.colab.kernel.accessAllowed ? 'block' : 'none';\n",
              "\n",
              "      async function convertToInteractive(key) {\n",
              "        const element = document.querySelector('#df-88e05d3d-babc-4cfc-98bc-288139347aa9');\n",
              "        const dataTable =\n",
              "          await google.colab.kernel.invokeFunction('convertToInteractive',\n",
              "                                                    [key], {});\n",
              "        if (!dataTable) return;\n",
              "\n",
              "        const docLinkHtml = 'Like what you see? Visit the ' +\n",
              "          '<a target=\"_blank\" href=https://colab.research.google.com/notebooks/data_table.ipynb>data table notebook</a>'\n",
              "          + ' to learn more about interactive tables.';\n",
              "        element.innerHTML = '';\n",
              "        dataTable['output_type'] = 'display_data';\n",
              "        await google.colab.output.renderOutput(dataTable, element);\n",
              "        const docLink = document.createElement('div');\n",
              "        docLink.innerHTML = docLinkHtml;\n",
              "        element.appendChild(docLink);\n",
              "      }\n",
              "    </script>\n",
              "  </div>\n",
              "\n",
              "\n",
              "<div id=\"df-13b67c6e-e430-4ef0-97df-81ab370d285c\">\n",
              "  <button class=\"colab-df-quickchart\" onclick=\"quickchart('df-13b67c6e-e430-4ef0-97df-81ab370d285c')\"\n",
              "            title=\"Suggest charts\"\n",
              "            style=\"display:none;\">\n",
              "\n",
              "<svg xmlns=\"http://www.w3.org/2000/svg\" height=\"24px\"viewBox=\"0 0 24 24\"\n",
              "     width=\"24px\">\n",
              "    <g>\n",
              "        <path d=\"M19 3H5c-1.1 0-2 .9-2 2v14c0 1.1.9 2 2 2h14c1.1 0 2-.9 2-2V5c0-1.1-.9-2-2-2zM9 17H7v-7h2v7zm4 0h-2V7h2v10zm4 0h-2v-4h2v4z\"/>\n",
              "    </g>\n",
              "</svg>\n",
              "  </button>\n",
              "\n",
              "<style>\n",
              "  .colab-df-quickchart {\n",
              "      --bg-color: #E8F0FE;\n",
              "      --fill-color: #1967D2;\n",
              "      --hover-bg-color: #E2EBFA;\n",
              "      --hover-fill-color: #174EA6;\n",
              "      --disabled-fill-color: #AAA;\n",
              "      --disabled-bg-color: #DDD;\n",
              "  }\n",
              "\n",
              "  [theme=dark] .colab-df-quickchart {\n",
              "      --bg-color: #3B4455;\n",
              "      --fill-color: #D2E3FC;\n",
              "      --hover-bg-color: #434B5C;\n",
              "      --hover-fill-color: #FFFFFF;\n",
              "      --disabled-bg-color: #3B4455;\n",
              "      --disabled-fill-color: #666;\n",
              "  }\n",
              "\n",
              "  .colab-df-quickchart {\n",
              "    background-color: var(--bg-color);\n",
              "    border: none;\n",
              "    border-radius: 50%;\n",
              "    cursor: pointer;\n",
              "    display: none;\n",
              "    fill: var(--fill-color);\n",
              "    height: 32px;\n",
              "    padding: 0;\n",
              "    width: 32px;\n",
              "  }\n",
              "\n",
              "  .colab-df-quickchart:hover {\n",
              "    background-color: var(--hover-bg-color);\n",
              "    box-shadow: 0 1px 2px rgba(60, 64, 67, 0.3), 0 1px 3px 1px rgba(60, 64, 67, 0.15);\n",
              "    fill: var(--button-hover-fill-color);\n",
              "  }\n",
              "\n",
              "  .colab-df-quickchart-complete:disabled,\n",
              "  .colab-df-quickchart-complete:disabled:hover {\n",
              "    background-color: var(--disabled-bg-color);\n",
              "    fill: var(--disabled-fill-color);\n",
              "    box-shadow: none;\n",
              "  }\n",
              "\n",
              "  .colab-df-spinner {\n",
              "    border: 2px solid var(--fill-color);\n",
              "    border-color: transparent;\n",
              "    border-bottom-color: var(--fill-color);\n",
              "    animation:\n",
              "      spin 1s steps(1) infinite;\n",
              "  }\n",
              "\n",
              "  @keyframes spin {\n",
              "    0% {\n",
              "      border-color: transparent;\n",
              "      border-bottom-color: var(--fill-color);\n",
              "      border-left-color: var(--fill-color);\n",
              "    }\n",
              "    20% {\n",
              "      border-color: transparent;\n",
              "      border-left-color: var(--fill-color);\n",
              "      border-top-color: var(--fill-color);\n",
              "    }\n",
              "    30% {\n",
              "      border-color: transparent;\n",
              "      border-left-color: var(--fill-color);\n",
              "      border-top-color: var(--fill-color);\n",
              "      border-right-color: var(--fill-color);\n",
              "    }\n",
              "    40% {\n",
              "      border-color: transparent;\n",
              "      border-right-color: var(--fill-color);\n",
              "      border-top-color: var(--fill-color);\n",
              "    }\n",
              "    60% {\n",
              "      border-color: transparent;\n",
              "      border-right-color: var(--fill-color);\n",
              "    }\n",
              "    80% {\n",
              "      border-color: transparent;\n",
              "      border-right-color: var(--fill-color);\n",
              "      border-bottom-color: var(--fill-color);\n",
              "    }\n",
              "    90% {\n",
              "      border-color: transparent;\n",
              "      border-bottom-color: var(--fill-color);\n",
              "    }\n",
              "  }\n",
              "</style>\n",
              "\n",
              "  <script>\n",
              "    async function quickchart(key) {\n",
              "      const quickchartButtonEl =\n",
              "        document.querySelector('#' + key + ' button');\n",
              "      quickchartButtonEl.disabled = true;  // To prevent multiple clicks.\n",
              "      quickchartButtonEl.classList.add('colab-df-spinner');\n",
              "      try {\n",
              "        const charts = await google.colab.kernel.invokeFunction(\n",
              "            'suggestCharts', [key], {});\n",
              "      } catch (error) {\n",
              "        console.error('Error during call to suggestCharts:', error);\n",
              "      }\n",
              "      quickchartButtonEl.classList.remove('colab-df-spinner');\n",
              "      quickchartButtonEl.classList.add('colab-df-quickchart-complete');\n",
              "    }\n",
              "    (() => {\n",
              "      let quickchartButtonEl =\n",
              "        document.querySelector('#df-13b67c6e-e430-4ef0-97df-81ab370d285c button');\n",
              "      quickchartButtonEl.style.display =\n",
              "        google.colab.kernel.accessAllowed ? 'block' : 'none';\n",
              "    })();\n",
              "  </script>\n",
              "</div>\n",
              "\n",
              "    </div>\n",
              "  </div>\n"
            ],
            "application/vnd.google.colaboratory.intrinsic+json": {
              "type": "dataframe",
              "repr_error": "0"
            }
          },
          "metadata": {},
          "execution_count": 47
        }
      ]
    },
    {
      "cell_type": "code",
      "source": [
        "# prompt: only keep those where Date (e.g., 2024-12-07) = Today in the participant_data above, then drop Date, save the df to a csv file with today.csv (e.g. 1207.csv)\n",
        "\n",
        "import pandas as pd\n",
        "from datetime import date\n",
        "\n",
        "# Assuming participant_data is already loaded as a DataFrame\n",
        "# participant_data = pd.read_excel(...)  # Replace with your actual loading code\n",
        "\n",
        "today = date.today().strftime(\"%Y-%m-%d\")\n",
        "today_short = date.today().strftime(\"%m%d\")\n",
        "\n",
        "# Filter data for today's date\n",
        "participant_data_today = participant_data[participant_data['Date'] == today]\n",
        "\n",
        "# Drop the 'Date' column\n",
        "participant_data_today = participant_data_today.drop('Date', axis=1, errors='ignore')\n",
        "\n",
        "# Save to CSV\n",
        "participant_data_today.to_csv(google_drive_data_path + f'/{today_short}.csv', index=False)"
      ],
      "metadata": {
        "id": "_5BgZEA0LkXv"
      },
      "execution_count": null,
      "outputs": []
    }
  ]
}